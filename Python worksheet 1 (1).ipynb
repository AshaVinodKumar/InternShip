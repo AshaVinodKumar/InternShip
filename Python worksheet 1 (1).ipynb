{
 "cells": [
  {
   "cell_type": "markdown",
   "id": "35df5be1",
   "metadata": {},
   "source": [
    "# 11.program to find factorial of a number."
   ]
  },
  {
   "cell_type": "code",
   "execution_count": 3,
   "id": "3645321b",
   "metadata": {
    "scrolled": true
   },
   "outputs": [
    {
     "name": "stdout",
     "output_type": "stream",
     "text": [
      "Enter a number: 5\n",
      "factorial of number is:  120\n"
     ]
    }
   ],
   "source": [
    "\n",
    "n= int(input(\"Enter a number: \"))\n",
    "def factorial(n):\n",
    "   \n",
    "    if n==0:\n",
    "        return 1\n",
    "    elif n<0:\n",
    "        return (\"Enter valid number\")\n",
    "    else:\n",
    "        return n*factorial(n-1)\n",
    "print(\"factorial of number is: \",factorial(n))"
   ]
  },
  {
   "cell_type": "markdown",
   "id": "9cc0c631",
   "metadata": {},
   "source": [
    "\n",
    "\n",
    "\n",
    "# 12. Program for Prime or composite number."
   ]
  },
  {
   "cell_type": "code",
   "execution_count": 2,
   "id": "bf9523c9",
   "metadata": {},
   "outputs": [
    {
     "name": "stdout",
     "output_type": "stream",
     "text": [
      "Enter any number:3\n",
      "It is a Prime Number\n"
     ]
    }
   ],
   "source": [
    "n=int(input(\"Enter any number:\"))\n",
    "if (n==0 or n==1):\n",
    "    print(\"It is neither a prime or composite number\")\n",
    "elif(n>1):\n",
    "    for i in range(2,n):\n",
    "        if (n% i)==0:\n",
    "            print(\"It is a composite Number\")\n",
    "            break\n",
    "        else:\n",
    "            print(\"It is a Prime Number\")\n"
   ]
  },
  {
   "cell_type": "markdown",
   "id": "158c8b0b",
   "metadata": {},
   "source": [
    "# 13.Program to find Palindrome or not.\n"
   ]
  },
  {
   "cell_type": "code",
   "execution_count": 1,
   "id": "a4b6f957",
   "metadata": {},
   "outputs": [
    {
     "name": "stdout",
     "output_type": "stream",
     "text": [
      "Type in the word to check for palindrome:mom\n",
      "mom is a palindrome\n"
     ]
    }
   ],
   "source": [
    "word=str(input(\"Type in the word to check for palindrome:\"))\n",
    "if word == word[::-1]:\n",
    "    print(word,\"is a palindrome\")\n",
    "else:\n",
    "    print(word,\"is not a palindrome\")"
   ]
  },
  {
   "cell_type": "markdown",
   "id": "ee5852af",
   "metadata": {},
   "source": [
    "# 14. Pythagoras ."
   ]
  },
  {
   "cell_type": "code",
   "execution_count": 2,
   "id": "43d3a66e",
   "metadata": {},
   "outputs": [
    {
     "name": "stdout",
     "output_type": "stream",
     "text": [
      "Enter the width of the triangle:50\n",
      "Enter the height of the triangle:30\n",
      "The right angle of the triangle is= 58.309518948453004\n"
     ]
    }
   ],
   "source": [
    "import numpy as np \n",
    "side1=float(input(\"Enter the width of the triangle:\"))\n",
    "side2=float(input(\"Enter the height of the triangle:\"))\n",
    "result=np.sqrt((side1*side1)+(side2*side2))\n",
    "print(\"The right angle of the triangle is=\", result)\n"
   ]
  },
  {
   "cell_type": "markdown",
   "id": "3bfc519b",
   "metadata": {},
   "source": [
    "# 15. Frequency of each character in string."
   ]
  },
  {
   "cell_type": "code",
   "execution_count": 1,
   "id": "cb93a03f",
   "metadata": {},
   "outputs": [
    {
     "name": "stdout",
     "output_type": "stream",
     "text": [
      "Enter the word to check its frequency of occurance:asha\n",
      "%s {'a': 2, 's': 1, 'h': 1}\n"
     ]
    }
   ],
   "source": [
    "word=str(input(\"Enter the word to check its frequency of occurance:\"))\n",
    "output={}\n",
    "for i in word:\n",
    "    if i in output:\n",
    "        output[i]+=1\n",
    "    else:\n",
    "        output[i]=1 \n",
    "print(\"%s\", output)"
   ]
  }
 ],
 "metadata": {
  "kernelspec": {
   "display_name": "Python 3",
   "language": "python",
   "name": "python3"
  },
  "language_info": {
   "codemirror_mode": {
    "name": "ipython",
    "version": 3
   },
   "file_extension": ".py",
   "mimetype": "text/x-python",
   "name": "python",
   "nbconvert_exporter": "python",
   "pygments_lexer": "ipython3",
   "version": "3.8.8"
  }
 },
 "nbformat": 4,
 "nbformat_minor": 5
}
