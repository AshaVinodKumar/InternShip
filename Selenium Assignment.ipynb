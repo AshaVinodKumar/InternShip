{
 "cells": [
  {
   "cell_type": "code",
   "execution_count": 443,
   "id": "fc093a52",
   "metadata": {
    "scrolled": false
   },
   "outputs": [
    {
     "name": "stdout",
     "output_type": "stream",
     "text": [
      "Requirement already satisfied: selenium in c:\\users\\cjash\\anaconda3\\lib\\site-packages (4.1.0)\n",
      "Requirement already satisfied: trio~=0.17 in c:\\users\\cjash\\anaconda3\\lib\\site-packages (from selenium) (0.19.0)\n",
      "Requirement already satisfied: urllib3[secure]~=1.26 in c:\\users\\cjash\\anaconda3\\lib\\site-packages (from selenium) (1.26.4)\n",
      "Requirement already satisfied: trio-websocket~=0.9 in c:\\users\\cjash\\anaconda3\\lib\\site-packages (from selenium) (0.9.2)\n",
      "Requirement already satisfied: async-generator>=1.9 in c:\\users\\cjash\\anaconda3\\lib\\site-packages (from trio~=0.17->selenium) (1.10)\n",
      "Requirement already satisfied: cffi>=1.14 in c:\\users\\cjash\\anaconda3\\lib\\site-packages (from trio~=0.17->selenium) (1.14.5)\n",
      "Requirement already satisfied: attrs>=19.2.0 in c:\\users\\cjash\\anaconda3\\lib\\site-packages (from trio~=0.17->selenium) (20.3.0)\n",
      "Requirement already satisfied: outcome in c:\\users\\cjash\\anaconda3\\lib\\site-packages (from trio~=0.17->selenium) (1.1.0)\n",
      "Requirement already satisfied: sortedcontainers in c:\\users\\cjash\\anaconda3\\lib\\site-packages (from trio~=0.17->selenium) (2.3.0)\n",
      "Requirement already satisfied: sniffio in c:\\users\\cjash\\anaconda3\\lib\\site-packages (from trio~=0.17->selenium) (1.2.0)\n",
      "Requirement already satisfied: idna in c:\\users\\cjash\\anaconda3\\lib\\site-packages (from trio~=0.17->selenium) (2.10)\n",
      "Requirement already satisfied: pycparser in c:\\users\\cjash\\anaconda3\\lib\\site-packages (from cffi>=1.14->trio~=0.17->selenium) (2.20)\n",
      "Requirement already satisfied: wsproto>=0.14 in c:\\users\\cjash\\anaconda3\\lib\\site-packages (from trio-websocket~=0.9->selenium) (1.0.0)\n",
      "Requirement already satisfied: pyOpenSSL>=0.14 in c:\\users\\cjash\\anaconda3\\lib\\site-packages (from urllib3[secure]~=1.26->selenium) (20.0.1)\n",
      "Requirement already satisfied: certifi in c:\\users\\cjash\\anaconda3\\lib\\site-packages (from urllib3[secure]~=1.26->selenium) (2020.12.5)\n",
      "Requirement already satisfied: cryptography>=1.3.4 in c:\\users\\cjash\\anaconda3\\lib\\site-packages (from urllib3[secure]~=1.26->selenium) (3.4.7)\n",
      "Requirement already satisfied: six>=1.5.2 in c:\\users\\cjash\\anaconda3\\lib\\site-packages (from pyOpenSSL>=0.14->urllib3[secure]~=1.26->selenium) (1.15.0)\n",
      "Requirement already satisfied: h11<1,>=0.9.0 in c:\\users\\cjash\\anaconda3\\lib\\site-packages (from wsproto>=0.14->trio-websocket~=0.9->selenium) (0.13.0)\n"
     ]
    }
   ],
   "source": [
    "!pip install selenium"
   ]
  },
  {
   "cell_type": "code",
   "execution_count": 444,
   "id": "7f0b6bd4",
   "metadata": {},
   "outputs": [],
   "source": [
    "import selenium\n",
    "from selenium import webdriver\n",
    "import pandas as pd\n",
    "import warnings\n",
    "warnings. filterwarnings(\"ignore\")"
   ]
  },
  {
   "cell_type": "code",
   "execution_count": 445,
   "id": "4469e5d9",
   "metadata": {},
   "outputs": [],
   "source": [
    "driver=webdriver.Chrome(r\"C:\\Users\\cjash\\Desktop\\chromedriver_win32\\chromedriver.exe\")"
   ]
  },
  {
   "cell_type": "code",
   "execution_count": 446,
   "id": "c2cde3e1",
   "metadata": {},
   "outputs": [],
   "source": [
    "driver=webdriver.Chrome('chromedriver.exe')"
   ]
  },
  {
   "cell_type": "code",
   "execution_count": 162,
   "id": "81a839b7",
   "metadata": {},
   "outputs": [],
   "source": [
    "# 1.python program to scrape data for “Data Analyst” Job position in “Bangalore” location.scrape the job-title, job-location, company_name, experience_required.scrape first 10 jobs data."
   ]
  },
  {
   "cell_type": "code",
   "execution_count": 163,
   "id": "2cfce634",
   "metadata": {},
   "outputs": [],
   "source": [
    "url=\"http://www.naukri.com/\"\n",
    "driver.get(url)"
   ]
  },
  {
   "cell_type": "code",
   "execution_count": null,
   "id": "f2bb7181",
   "metadata": {},
   "outputs": [],
   "source": [
    "search_job=driver.find_element_by_class_name(\"suggestor-input\" )\n",
    "search_job"
   ]
  },
  {
   "cell_type": "code",
   "execution_count": 65,
   "id": "5083fd3f",
   "metadata": {},
   "outputs": [],
   "source": [
    "search_job.send_keys(\"Data Analyst\")\n"
   ]
  },
  {
   "cell_type": "code",
   "execution_count": 66,
   "id": "181ad0db",
   "metadata": {},
   "outputs": [
    {
     "data": {
      "text/plain": [
       "<selenium.webdriver.remote.webelement.WebElement (session=\"2bc090f9e4f22d266717d03119c53d76\", element=\"1c8fba67-6732-4214-97b3-e103f83ac86a\")>"
      ]
     },
     "execution_count": 66,
     "metadata": {},
     "output_type": "execute_result"
    }
   ],
   "source": [
    "search_loc=driver.find_element_by_xpath(\"/html/body/div/div[2]/div[3]/div/div/div[3]/div/div/div/input\")\n",
    "search_loc"
   ]
  },
  {
   "cell_type": "code",
   "execution_count": 67,
   "id": "9a08a312",
   "metadata": {},
   "outputs": [],
   "source": [
    "search_loc.send_keys(\"Bangalore\")"
   ]
  },
  {
   "cell_type": "code",
   "execution_count": 68,
   "id": "e4e2cc80",
   "metadata": {},
   "outputs": [
    {
     "data": {
      "text/plain": [
       "<selenium.webdriver.remote.webelement.WebElement (session=\"2bc090f9e4f22d266717d03119c53d76\", element=\"3a802a02-93f7-4fd2-89f0-2b6d9dd21de3\")>"
      ]
     },
     "execution_count": 68,
     "metadata": {},
     "output_type": "execute_result"
    }
   ],
   "source": [
    "search_btn=driver.find_element_by_class_name(\"qsbSubmit\" )\n",
    "search_btn"
   ]
  },
  {
   "cell_type": "code",
   "execution_count": 69,
   "id": "43755899",
   "metadata": {},
   "outputs": [],
   "source": [
    "search_btn.click()"
   ]
  },
  {
   "cell_type": "code",
   "execution_count": 70,
   "id": "be9392d5",
   "metadata": {},
   "outputs": [
    {
     "data": {
      "text/plain": [
       "20"
      ]
     },
     "execution_count": 70,
     "metadata": {},
     "output_type": "execute_result"
    }
   ],
   "source": [
    "#Extracting job-title, job-location, company_name, experience_required.\n",
    "title_tags=driver.find_elements_by_xpath('//a[@class= \"title fw500 ellipsis\"]')\n",
    "len(title_tags)"
   ]
  },
  {
   "cell_type": "code",
   "execution_count": 71,
   "id": "af3f6c67",
   "metadata": {},
   "outputs": [
    {
     "data": {
      "text/plain": [
       "['Data analyst',\n",
       " 'Senior Data Analyst - Collibra',\n",
       " 'Data Analyst- 6-9 Years- Pan India-Permanent position',\n",
       " 'Senior Data Analyst II',\n",
       " 'Senior Data Analyst',\n",
       " 'Global Tax Automation & Operations - Data Scientist Senior Analyst',\n",
       " 'Pipeline/Piping Data Analyst Trainee',\n",
       " 'Data Analyst',\n",
       " 'Data Analyst']"
      ]
     },
     "execution_count": 71,
     "metadata": {},
     "output_type": "execute_result"
    }
   ],
   "source": [
    "job_titles=[]\n",
    "for i in title_tags:\n",
    "    job_titles.append(i.text)\n",
    "job_titles[1:10]"
   ]
  },
  {
   "cell_type": "code",
   "execution_count": 82,
   "id": "6a06ea6a",
   "metadata": {},
   "outputs": [
    {
     "data": {
      "text/plain": [
       "20"
      ]
     },
     "execution_count": 82,
     "metadata": {},
     "output_type": "execute_result"
    }
   ],
   "source": [
    "loc_tags=driver.find_elements_by_xpath('//li[@class=\"fleft grey-text br2 placeHolderLi location\"]')\n",
    "len(loc_tags)"
   ]
  },
  {
   "cell_type": "code",
   "execution_count": 97,
   "id": "e634205b",
   "metadata": {},
   "outputs": [
    {
     "data": {
      "text/plain": [
       "[]"
      ]
     },
     "execution_count": 97,
     "metadata": {},
     "output_type": "execute_result"
    }
   ],
   "source": [
    "location_tags=[]\n",
    "for i in loc_tags:\n",
    "    location_tags.append(i.text)\n",
    "location_tags[0:10]"
   ]
  },
  {
   "cell_type": "code",
   "execution_count": 98,
   "id": "7c6a12c4",
   "metadata": {},
   "outputs": [
    {
     "data": {
      "text/plain": [
       "20"
      ]
     },
     "execution_count": 98,
     "metadata": {},
     "output_type": "execute_result"
    }
   ],
   "source": [
    "company_tags=driver.find_elements_by_xpath('//a[@class=\"subTitle ellipsis fleft\"]')\n",
    "len(company_tags)"
   ]
  },
  {
   "cell_type": "code",
   "execution_count": 99,
   "id": "f28d91c4",
   "metadata": {},
   "outputs": [
    {
     "data": {
      "text/plain": [
       "['Flipkart',\n",
       " 'GSK India',\n",
       " 'Shell',\n",
       " 'Virtusa',\n",
       " 'Flipkart',\n",
       " 'Flipkart',\n",
       " 'Dell',\n",
       " 'TIMS SOLUTIONS PRIVATE LIMITED',\n",
       " 'Insure Pro 2.0',\n",
       " 'BERKMEER INDIA PRIVATE LIMITED']"
      ]
     },
     "execution_count": 99,
     "metadata": {},
     "output_type": "execute_result"
    }
   ],
   "source": [
    "company_titles=[]\n",
    "for i in company_tags:\n",
    "    company_titles.append(i.text)\n",
    "company_titles[0:10]"
   ]
  },
  {
   "cell_type": "code",
   "execution_count": 95,
   "id": "908f0eb3",
   "metadata": {},
   "outputs": [
    {
     "data": {
      "text/plain": [
       "20"
      ]
     },
     "execution_count": 95,
     "metadata": {},
     "output_type": "execute_result"
    }
   ],
   "source": [
    "Exp_tags=driver.find_elements_by_xpath('//li[@class=\"fleft grey-text br2 placeHolderLi experience\"]')\n",
    "len(Exp_tags)"
   ]
  },
  {
   "cell_type": "code",
   "execution_count": 100,
   "id": "3a479519",
   "metadata": {},
   "outputs": [
    {
     "data": {
      "text/plain": [
       "['1-6 Yrs',\n",
       " '5-9 Yrs',\n",
       " '8-12 Yrs',\n",
       " '6-9 Yrs',\n",
       " '2-4 Yrs',\n",
       " '2-3 Yrs',\n",
       " '3-5 Yrs',\n",
       " '0-4 Yrs',\n",
       " '0-2 Yrs',\n",
       " '0-2 Yrs']"
      ]
     },
     "execution_count": 100,
     "metadata": {},
     "output_type": "execute_result"
    }
   ],
   "source": [
    "exp_titles=[]\n",
    "for i in Exp_tags:\n",
    "    exp_titles.append(i.text)\n",
    "exp_titles[0:10]"
   ]
  },
  {
   "cell_type": "code",
   "execution_count": 102,
   "id": "f4c78352",
   "metadata": {},
   "outputs": [
    {
     "data": {
      "text/html": [
       "<div>\n",
       "<style scoped>\n",
       "    .dataframe tbody tr th:only-of-type {\n",
       "        vertical-align: middle;\n",
       "    }\n",
       "\n",
       "    .dataframe tbody tr th {\n",
       "        vertical-align: top;\n",
       "    }\n",
       "\n",
       "    .dataframe thead th {\n",
       "        text-align: right;\n",
       "    }\n",
       "</style>\n",
       "<table border=\"1\" class=\"dataframe\">\n",
       "  <thead>\n",
       "    <tr style=\"text-align: right;\">\n",
       "      <th></th>\n",
       "      <th>Job_title</th>\n",
       "      <th>Company</th>\n",
       "      <th>Experience</th>\n",
       "    </tr>\n",
       "  </thead>\n",
       "  <tbody>\n",
       "    <tr>\n",
       "      <th>0</th>\n",
       "      <td>Hiring -Data Analyst, Business Analyst, MIS An...</td>\n",
       "      <td>Flipkart</td>\n",
       "      <td>1-6 Yrs</td>\n",
       "    </tr>\n",
       "    <tr>\n",
       "      <th>1</th>\n",
       "      <td>Data analyst</td>\n",
       "      <td>GSK India</td>\n",
       "      <td>5-9 Yrs</td>\n",
       "    </tr>\n",
       "    <tr>\n",
       "      <th>2</th>\n",
       "      <td>Senior Data Analyst - Collibra</td>\n",
       "      <td>Shell</td>\n",
       "      <td>8-12 Yrs</td>\n",
       "    </tr>\n",
       "    <tr>\n",
       "      <th>3</th>\n",
       "      <td>Data Analyst- 6-9 Years- Pan India-Permanent p...</td>\n",
       "      <td>Virtusa</td>\n",
       "      <td>6-9 Yrs</td>\n",
       "    </tr>\n",
       "    <tr>\n",
       "      <th>4</th>\n",
       "      <td>Senior Data Analyst II</td>\n",
       "      <td>Flipkart</td>\n",
       "      <td>2-4 Yrs</td>\n",
       "    </tr>\n",
       "    <tr>\n",
       "      <th>5</th>\n",
       "      <td>Senior Data Analyst</td>\n",
       "      <td>Flipkart</td>\n",
       "      <td>2-3 Yrs</td>\n",
       "    </tr>\n",
       "    <tr>\n",
       "      <th>6</th>\n",
       "      <td>Global Tax Automation &amp; Operations - Data Scie...</td>\n",
       "      <td>Dell</td>\n",
       "      <td>3-5 Yrs</td>\n",
       "    </tr>\n",
       "    <tr>\n",
       "      <th>7</th>\n",
       "      <td>Pipeline/Piping Data Analyst Trainee</td>\n",
       "      <td>TIMS SOLUTIONS PRIVATE LIMITED</td>\n",
       "      <td>0-4 Yrs</td>\n",
       "    </tr>\n",
       "    <tr>\n",
       "      <th>8</th>\n",
       "      <td>Data Analyst</td>\n",
       "      <td>Insure Pro 2.0</td>\n",
       "      <td>0-2 Yrs</td>\n",
       "    </tr>\n",
       "    <tr>\n",
       "      <th>9</th>\n",
       "      <td>Data Analyst</td>\n",
       "      <td>BERKMEER INDIA PRIVATE LIMITED</td>\n",
       "      <td>0-2 Yrs</td>\n",
       "    </tr>\n",
       "    <tr>\n",
       "      <th>10</th>\n",
       "      <td>Data Analyst</td>\n",
       "      <td>Lifesight Technologies Pvt. Ltd.</td>\n",
       "      <td>0-2 Yrs</td>\n",
       "    </tr>\n",
       "    <tr>\n",
       "      <th>11</th>\n",
       "      <td>Data Analyst</td>\n",
       "      <td>GSK India</td>\n",
       "      <td>3-8 Yrs</td>\n",
       "    </tr>\n",
       "    <tr>\n",
       "      <th>12</th>\n",
       "      <td>Business Analyst (Data Analyst role)</td>\n",
       "      <td>Xpheno</td>\n",
       "      <td>2-5 Yrs</td>\n",
       "    </tr>\n",
       "    <tr>\n",
       "      <th>13</th>\n",
       "      <td>Senior Data Analyst</td>\n",
       "      <td>Liventus</td>\n",
       "      <td>5-8 Yrs</td>\n",
       "    </tr>\n",
       "    <tr>\n",
       "      <th>14</th>\n",
       "      <td>Hiring For Data Analyst (SQL &amp; Scala) || Coforge</td>\n",
       "      <td>Coforge</td>\n",
       "      <td>4-8 Yrs</td>\n",
       "    </tr>\n",
       "    <tr>\n",
       "      <th>15</th>\n",
       "      <td>Hiring Data Analyst(Immediate joiner preferred...</td>\n",
       "      <td>GlobalLogic</td>\n",
       "      <td>6-9 Yrs</td>\n",
       "    </tr>\n",
       "    <tr>\n",
       "      <th>16</th>\n",
       "      <td>Data Analyst</td>\n",
       "      <td>Flipkart</td>\n",
       "      <td>1-2 Yrs</td>\n",
       "    </tr>\n",
       "    <tr>\n",
       "      <th>17</th>\n",
       "      <td>Data Analyst</td>\n",
       "      <td>Flipkart</td>\n",
       "      <td>1-2 Yrs</td>\n",
       "    </tr>\n",
       "    <tr>\n",
       "      <th>18</th>\n",
       "      <td>Assistant Manager :: HR Data Analyst</td>\n",
       "      <td>Wipro</td>\n",
       "      <td>5-7 Yrs</td>\n",
       "    </tr>\n",
       "    <tr>\n",
       "      <th>19</th>\n",
       "      <td>Data Analyst</td>\n",
       "      <td>Shell</td>\n",
       "      <td>2-7 Yrs</td>\n",
       "    </tr>\n",
       "  </tbody>\n",
       "</table>\n",
       "</div>"
      ],
      "text/plain": [
       "                                            Job_title  \\\n",
       "0   Hiring -Data Analyst, Business Analyst, MIS An...   \n",
       "1                                        Data analyst   \n",
       "2                      Senior Data Analyst - Collibra   \n",
       "3   Data Analyst- 6-9 Years- Pan India-Permanent p...   \n",
       "4                              Senior Data Analyst II   \n",
       "5                                 Senior Data Analyst   \n",
       "6   Global Tax Automation & Operations - Data Scie...   \n",
       "7                Pipeline/Piping Data Analyst Trainee   \n",
       "8                                        Data Analyst   \n",
       "9                                        Data Analyst   \n",
       "10                                       Data Analyst   \n",
       "11                                       Data Analyst   \n",
       "12               Business Analyst (Data Analyst role)   \n",
       "13                                Senior Data Analyst   \n",
       "14   Hiring For Data Analyst (SQL & Scala) || Coforge   \n",
       "15  Hiring Data Analyst(Immediate joiner preferred...   \n",
       "16                                       Data Analyst   \n",
       "17                                       Data Analyst   \n",
       "18               Assistant Manager :: HR Data Analyst   \n",
       "19                                       Data Analyst   \n",
       "\n",
       "                             Company Experience  \n",
       "0                           Flipkart    1-6 Yrs  \n",
       "1                          GSK India    5-9 Yrs  \n",
       "2                              Shell   8-12 Yrs  \n",
       "3                            Virtusa    6-9 Yrs  \n",
       "4                           Flipkart    2-4 Yrs  \n",
       "5                           Flipkart    2-3 Yrs  \n",
       "6                               Dell    3-5 Yrs  \n",
       "7     TIMS SOLUTIONS PRIVATE LIMITED    0-4 Yrs  \n",
       "8                     Insure Pro 2.0    0-2 Yrs  \n",
       "9     BERKMEER INDIA PRIVATE LIMITED    0-2 Yrs  \n",
       "10  Lifesight Technologies Pvt. Ltd.    0-2 Yrs  \n",
       "11                         GSK India    3-8 Yrs  \n",
       "12                            Xpheno    2-5 Yrs  \n",
       "13                          Liventus    5-8 Yrs  \n",
       "14                           Coforge    4-8 Yrs  \n",
       "15                       GlobalLogic    6-9 Yrs  \n",
       "16                          Flipkart    1-2 Yrs  \n",
       "17                          Flipkart    1-2 Yrs  \n",
       "18                             Wipro    5-7 Yrs  \n",
       "19                             Shell    2-7 Yrs  "
      ]
     },
     "execution_count": 102,
     "metadata": {},
     "output_type": "execute_result"
    }
   ],
   "source": [
    "jobs=pd.DataFrame()\n",
    "jobs['Job_title']=job_titles\n",
    "jobs['Company']=company_titles\n",
    "jobs['Experience']=exp_titles\n",
    "jobs"
   ]
  },
  {
   "cell_type": "code",
   "execution_count": 103,
   "id": "13cd7f0e",
   "metadata": {},
   "outputs": [],
   "source": [
    "# Question 2 - Job titles for Data Scientics"
   ]
  },
  {
   "cell_type": "code",
   "execution_count": 136,
   "id": "efa0a65a",
   "metadata": {},
   "outputs": [],
   "source": [
    "url=\"http://www.naukri.com/\"\n",
    "driver.get(url)"
   ]
  },
  {
   "cell_type": "code",
   "execution_count": 137,
   "id": "4c2e0b9c",
   "metadata": {},
   "outputs": [
    {
     "data": {
      "text/plain": [
       "<selenium.webdriver.remote.webelement.WebElement (session=\"865d539578f7a745aee828907d5cd3a1\", element=\"fd714a1e-a766-4184-bed4-bdd7eb78be8c\")>"
      ]
     },
     "execution_count": 137,
     "metadata": {},
     "output_type": "execute_result"
    }
   ],
   "source": [
    "search_job=driver.find_element_by_class_name(\"suggestor-input\" )\n",
    "search_job"
   ]
  },
  {
   "cell_type": "code",
   "execution_count": 138,
   "id": "594c1f46",
   "metadata": {},
   "outputs": [],
   "source": [
    "search_job.send_keys(\"Data Scientist\")\n"
   ]
  },
  {
   "cell_type": "code",
   "execution_count": 139,
   "id": "0a513440",
   "metadata": {},
   "outputs": [
    {
     "data": {
      "text/plain": [
       "<selenium.webdriver.remote.webelement.WebElement (session=\"865d539578f7a745aee828907d5cd3a1\", element=\"db024923-f41c-4ee4-a8aa-bb7d12456536\")>"
      ]
     },
     "execution_count": 139,
     "metadata": {},
     "output_type": "execute_result"
    }
   ],
   "source": [
    "search_loc=driver.find_element_by_xpath(\"/html/body/div/div[2]/div[3]/div/div/div[3]/div/div/div/input\")\n",
    "search_loc"
   ]
  },
  {
   "cell_type": "code",
   "execution_count": 140,
   "id": "47ad0d79",
   "metadata": {},
   "outputs": [],
   "source": [
    "search_loc.send_keys(\"Bangalore\")"
   ]
  },
  {
   "cell_type": "code",
   "execution_count": 141,
   "id": "ea2840b6",
   "metadata": {},
   "outputs": [],
   "source": [
    "search_btn=driver.find_element_by_class_name(\"qsbSubmit\")\n",
    "search_btn.click()"
   ]
  },
  {
   "cell_type": "code",
   "execution_count": 142,
   "id": "ece3cb6b",
   "metadata": {},
   "outputs": [
    {
     "data": {
      "text/plain": [
       "20"
      ]
     },
     "execution_count": 142,
     "metadata": {},
     "output_type": "execute_result"
    }
   ],
   "source": [
    "#Extracting job-title, job-location, company_name, experience_required.\n",
    "title_tags=driver.find_elements_by_xpath('//a[@class=\"title fw500 ellipsis\"]')\n",
    "len(title_tags)"
   ]
  },
  {
   "cell_type": "code",
   "execution_count": 143,
   "id": "cdb395de",
   "metadata": {},
   "outputs": [
    {
     "data": {
      "text/plain": [
       "['Associate Data Scientist',\n",
       " 'Data Scientist / Analyst',\n",
       " 'Senior Data Scientist - Research',\n",
       " 'Senior Data Scientist, Speech Synthesis',\n",
       " 'Senior Data Scientist (Marketplace)',\n",
       " 'Senior Data Scientist',\n",
       " 'Senior Data Scientist - Customer Analytics',\n",
       " 'Data Scientist - Lead / Architect - Looking For Early Joiners - Wipro',\n",
       " 'Senior Data Scientist I']"
      ]
     },
     "execution_count": 143,
     "metadata": {},
     "output_type": "execute_result"
    }
   ],
   "source": [
    "job_titles=[]\n",
    "for i in title_tags:\n",
    "    job_titles.append(i.text)\n",
    "job_titles[0:10]"
   ]
  },
  {
   "cell_type": "code",
   "execution_count": 144,
   "id": "30be6089",
   "metadata": {},
   "outputs": [
    {
     "data": {
      "text/plain": [
       "20"
      ]
     },
     "execution_count": 144,
     "metadata": {},
     "output_type": "execute_result"
    }
   ],
   "source": [
    "loc_tags=driver.find_elements_by_xpath('//li[@class=\"fleft grey-text br2 placeHolderLi location\"]')\n",
    "len(loc_tags)"
   ]
  },
  {
   "cell_type": "code",
   "execution_count": 145,
   "id": "420a2feb",
   "metadata": {},
   "outputs": [
    {
     "data": {
      "text/plain": [
       "['Bangalore/Bengaluru',\n",
       " 'Bangalore/Bengaluru',\n",
       " 'Hyderabad/Secunderabad, Bangalore/Bengaluru, Delhi / NCR',\n",
       " 'Bangalore/Bengaluru',\n",
       " 'Hyderabad/Secunderabad, Pune, Bangalore/Bengaluru',\n",
       " 'Bangalore/Bengaluru',\n",
       " 'Bangalore/Bengaluru',\n",
       " 'Bangalore/Bengaluru',\n",
       " 'Hyderabad/Secunderabad, Pune, Chennai, Bangalore/Bengaluru',\n",
       " 'Bangalore/Bengaluru']"
      ]
     },
     "execution_count": 145,
     "metadata": {},
     "output_type": "execute_result"
    }
   ],
   "source": [
    "location_tags=[]\n",
    "for i in loc_tags:\n",
    "    location_tags.append(i.text)\n",
    "location_tags[0:10]"
   ]
  },
  {
   "cell_type": "code",
   "execution_count": 146,
   "id": "dbde89f0",
   "metadata": {},
   "outputs": [
    {
     "data": {
      "text/plain": [
       "20"
      ]
     },
     "execution_count": 146,
     "metadata": {},
     "output_type": "execute_result"
    }
   ],
   "source": [
    "company_tags=driver.find_elements_by_xpath('//a[@class=\"subTitle ellipsis fleft\"]')\n",
    "len(company_tags)"
   ]
  },
  {
   "cell_type": "code",
   "execution_count": 147,
   "id": "8049c80e",
   "metadata": {},
   "outputs": [
    {
     "data": {
      "text/plain": [
       "['Dell',\n",
       " 'Kaplan',\n",
       " 'Talentify',\n",
       " 'Gojek',\n",
       " 'NVIDIA',\n",
       " 'Walmart',\n",
       " 'Walmart',\n",
       " 'Atlassian',\n",
       " 'Wipro',\n",
       " 'Delhivery']"
      ]
     },
     "execution_count": 147,
     "metadata": {},
     "output_type": "execute_result"
    }
   ],
   "source": [
    "company_titles=[]\n",
    "for i in company_tags:\n",
    "    company_titles.append(i.text)\n",
    "company_titles[0:10]"
   ]
  },
  {
   "cell_type": "code",
   "execution_count": 148,
   "id": "abdec488",
   "metadata": {},
   "outputs": [
    {
     "data": {
      "text/plain": [
       "20"
      ]
     },
     "execution_count": 148,
     "metadata": {},
     "output_type": "execute_result"
    }
   ],
   "source": [
    "Exp_tags=driver.find_elements_by_xpath('//li[@class=\"fleft grey-text br2 placeHolderLi experience\"]')\n",
    "len(Exp_tags)"
   ]
  },
  {
   "cell_type": "code",
   "execution_count": 149,
   "id": "ad2f6507",
   "metadata": {},
   "outputs": [
    {
     "data": {
      "text/plain": [
       "['3-5 Yrs',\n",
       " '0-3 Yrs',\n",
       " '0-1 Yrs',\n",
       " '5-11 Yrs',\n",
       " '4-7 Yrs',\n",
       " '4-8 Yrs',\n",
       " '5-9 Yrs',\n",
       " '4-8 Yrs',\n",
       " '5-10 Yrs',\n",
       " '3-7 Yrs']"
      ]
     },
     "execution_count": 149,
     "metadata": {},
     "output_type": "execute_result"
    }
   ],
   "source": [
    "exp_titles=[]\n",
    "for i in Exp_tags:\n",
    "    exp_titles.append(i.text)\n",
    "exp_titles[0:10]"
   ]
  },
  {
   "cell_type": "code",
   "execution_count": 151,
   "id": "6c8c6ce9",
   "metadata": {},
   "outputs": [
    {
     "data": {
      "text/html": [
       "<div>\n",
       "<style scoped>\n",
       "    .dataframe tbody tr th:only-of-type {\n",
       "        vertical-align: middle;\n",
       "    }\n",
       "\n",
       "    .dataframe tbody tr th {\n",
       "        vertical-align: top;\n",
       "    }\n",
       "\n",
       "    .dataframe thead th {\n",
       "        text-align: right;\n",
       "    }\n",
       "</style>\n",
       "<table border=\"1\" class=\"dataframe\">\n",
       "  <thead>\n",
       "    <tr style=\"text-align: right;\">\n",
       "      <th></th>\n",
       "      <th>Job_title</th>\n",
       "      <th>Location</th>\n",
       "      <th>Company</th>\n",
       "      <th>Experience</th>\n",
       "    </tr>\n",
       "  </thead>\n",
       "  <tbody>\n",
       "    <tr>\n",
       "      <th>0</th>\n",
       "      <td>Global Tax Automation &amp; Operations - Data Scie...</td>\n",
       "      <td>Bangalore/Bengaluru</td>\n",
       "      <td>Dell</td>\n",
       "      <td>3-5 Yrs</td>\n",
       "    </tr>\n",
       "    <tr>\n",
       "      <th>1</th>\n",
       "      <td>Associate Data Scientist</td>\n",
       "      <td>Bangalore/Bengaluru</td>\n",
       "      <td>Kaplan</td>\n",
       "      <td>0-3 Yrs</td>\n",
       "    </tr>\n",
       "    <tr>\n",
       "      <th>2</th>\n",
       "      <td>Data Scientist / Analyst</td>\n",
       "      <td>Hyderabad/Secunderabad, Bangalore/Bengaluru, D...</td>\n",
       "      <td>Talentify</td>\n",
       "      <td>0-1 Yrs</td>\n",
       "    </tr>\n",
       "    <tr>\n",
       "      <th>3</th>\n",
       "      <td>Senior Data Scientist - Research</td>\n",
       "      <td>Bangalore/Bengaluru</td>\n",
       "      <td>Gojek</td>\n",
       "      <td>5-11 Yrs</td>\n",
       "    </tr>\n",
       "    <tr>\n",
       "      <th>4</th>\n",
       "      <td>Senior Data Scientist, Speech Synthesis</td>\n",
       "      <td>Hyderabad/Secunderabad, Pune, Bangalore/Bengaluru</td>\n",
       "      <td>NVIDIA</td>\n",
       "      <td>4-7 Yrs</td>\n",
       "    </tr>\n",
       "    <tr>\n",
       "      <th>5</th>\n",
       "      <td>Senior Data Scientist (Marketplace)</td>\n",
       "      <td>Bangalore/Bengaluru</td>\n",
       "      <td>Walmart</td>\n",
       "      <td>4-8 Yrs</td>\n",
       "    </tr>\n",
       "    <tr>\n",
       "      <th>6</th>\n",
       "      <td>Senior Data Scientist</td>\n",
       "      <td>Bangalore/Bengaluru</td>\n",
       "      <td>Walmart</td>\n",
       "      <td>5-9 Yrs</td>\n",
       "    </tr>\n",
       "    <tr>\n",
       "      <th>7</th>\n",
       "      <td>Senior Data Scientist - Customer Analytics</td>\n",
       "      <td>Bangalore/Bengaluru</td>\n",
       "      <td>Atlassian</td>\n",
       "      <td>4-8 Yrs</td>\n",
       "    </tr>\n",
       "    <tr>\n",
       "      <th>8</th>\n",
       "      <td>Data Scientist - Lead / Architect - Looking Fo...</td>\n",
       "      <td>Hyderabad/Secunderabad, Pune, Chennai, Bangalo...</td>\n",
       "      <td>Wipro</td>\n",
       "      <td>5-10 Yrs</td>\n",
       "    </tr>\n",
       "    <tr>\n",
       "      <th>9</th>\n",
       "      <td>Senior Data Scientist I</td>\n",
       "      <td>Bangalore/Bengaluru</td>\n",
       "      <td>Delhivery</td>\n",
       "      <td>3-7 Yrs</td>\n",
       "    </tr>\n",
       "    <tr>\n",
       "      <th>10</th>\n",
       "      <td>Senior Risk Data Scientist</td>\n",
       "      <td>Bangalore/Bengaluru</td>\n",
       "      <td>GSK India</td>\n",
       "      <td>5-10 Yrs</td>\n",
       "    </tr>\n",
       "    <tr>\n",
       "      <th>11</th>\n",
       "      <td>Senior Data Scientist - Analytics Organization...</td>\n",
       "      <td>Mumbai, Pune, Bangalore/Bengaluru</td>\n",
       "      <td>PlaceMinds Consulting Pvt. Ltd</td>\n",
       "      <td>6-11 Yrs</td>\n",
       "    </tr>\n",
       "    <tr>\n",
       "      <th>12</th>\n",
       "      <td>Data Scientist / ML Engineer</td>\n",
       "      <td>Noida, Kota, Mumbai, Chandigarh, Lucknow, Agra...</td>\n",
       "      <td>AVE-Promagne</td>\n",
       "      <td>3-8 Yrs</td>\n",
       "    </tr>\n",
       "    <tr>\n",
       "      <th>13</th>\n",
       "      <td>Data Scientist - Lead / Architect - Looking Fo...</td>\n",
       "      <td>Kochi/Cochin, Kolkata, Pune, Gurgaon/Gurugram,...</td>\n",
       "      <td>Wipro</td>\n",
       "      <td>5-10 Yrs</td>\n",
       "    </tr>\n",
       "    <tr>\n",
       "      <th>14</th>\n",
       "      <td>Sr Data Scientist</td>\n",
       "      <td>Bangalore/Bengaluru\\n(WFH during Covid)</td>\n",
       "      <td>Fragma data systems pvt ltd</td>\n",
       "      <td>5-10 Yrs</td>\n",
       "    </tr>\n",
       "    <tr>\n",
       "      <th>15</th>\n",
       "      <td>Data Scientist I</td>\n",
       "      <td>Bangalore/Bengaluru</td>\n",
       "      <td>DAZN</td>\n",
       "      <td>1-3 Yrs</td>\n",
       "    </tr>\n",
       "    <tr>\n",
       "      <th>16</th>\n",
       "      <td>Data Scientist: Advanced Analytics</td>\n",
       "      <td>Bangalore/Bengaluru</td>\n",
       "      <td>IBM</td>\n",
       "      <td>5-10 Yrs</td>\n",
       "    </tr>\n",
       "    <tr>\n",
       "      <th>17</th>\n",
       "      <td>Data Scientist: Advanced Analytics</td>\n",
       "      <td>Bangalore/Bengaluru</td>\n",
       "      <td>IBM</td>\n",
       "      <td>5-10 Yrs</td>\n",
       "    </tr>\n",
       "    <tr>\n",
       "      <th>18</th>\n",
       "      <td>Principal Data Scientist</td>\n",
       "      <td>Bangalore/Bengaluru</td>\n",
       "      <td>Signify</td>\n",
       "      <td>6-12 Yrs</td>\n",
       "    </tr>\n",
       "    <tr>\n",
       "      <th>19</th>\n",
       "      <td>Data Scientist: Artificial Intelligence</td>\n",
       "      <td>Bangalore/Bengaluru</td>\n",
       "      <td>IBM</td>\n",
       "      <td>12-15 Yrs</td>\n",
       "    </tr>\n",
       "  </tbody>\n",
       "</table>\n",
       "</div>"
      ],
      "text/plain": [
       "                                            Job_title  \\\n",
       "0   Global Tax Automation & Operations - Data Scie...   \n",
       "1                            Associate Data Scientist   \n",
       "2                            Data Scientist / Analyst   \n",
       "3                    Senior Data Scientist - Research   \n",
       "4             Senior Data Scientist, Speech Synthesis   \n",
       "5                 Senior Data Scientist (Marketplace)   \n",
       "6                               Senior Data Scientist   \n",
       "7          Senior Data Scientist - Customer Analytics   \n",
       "8   Data Scientist - Lead / Architect - Looking Fo...   \n",
       "9                             Senior Data Scientist I   \n",
       "10                         Senior Risk Data Scientist   \n",
       "11  Senior Data Scientist - Analytics Organization...   \n",
       "12                       Data Scientist / ML Engineer   \n",
       "13  Data Scientist - Lead / Architect - Looking Fo...   \n",
       "14                                  Sr Data Scientist   \n",
       "15                                   Data Scientist I   \n",
       "16                 Data Scientist: Advanced Analytics   \n",
       "17                 Data Scientist: Advanced Analytics   \n",
       "18                           Principal Data Scientist   \n",
       "19            Data Scientist: Artificial Intelligence   \n",
       "\n",
       "                                             Location  \\\n",
       "0                                 Bangalore/Bengaluru   \n",
       "1                                 Bangalore/Bengaluru   \n",
       "2   Hyderabad/Secunderabad, Bangalore/Bengaluru, D...   \n",
       "3                                 Bangalore/Bengaluru   \n",
       "4   Hyderabad/Secunderabad, Pune, Bangalore/Bengaluru   \n",
       "5                                 Bangalore/Bengaluru   \n",
       "6                                 Bangalore/Bengaluru   \n",
       "7                                 Bangalore/Bengaluru   \n",
       "8   Hyderabad/Secunderabad, Pune, Chennai, Bangalo...   \n",
       "9                                 Bangalore/Bengaluru   \n",
       "10                                Bangalore/Bengaluru   \n",
       "11                  Mumbai, Pune, Bangalore/Bengaluru   \n",
       "12  Noida, Kota, Mumbai, Chandigarh, Lucknow, Agra...   \n",
       "13  Kochi/Cochin, Kolkata, Pune, Gurgaon/Gurugram,...   \n",
       "14            Bangalore/Bengaluru\\n(WFH during Covid)   \n",
       "15                                Bangalore/Bengaluru   \n",
       "16                                Bangalore/Bengaluru   \n",
       "17                                Bangalore/Bengaluru   \n",
       "18                                Bangalore/Bengaluru   \n",
       "19                                Bangalore/Bengaluru   \n",
       "\n",
       "                           Company Experience  \n",
       "0                             Dell    3-5 Yrs  \n",
       "1                           Kaplan    0-3 Yrs  \n",
       "2                        Talentify    0-1 Yrs  \n",
       "3                            Gojek   5-11 Yrs  \n",
       "4                           NVIDIA    4-7 Yrs  \n",
       "5                          Walmart    4-8 Yrs  \n",
       "6                          Walmart    5-9 Yrs  \n",
       "7                        Atlassian    4-8 Yrs  \n",
       "8                            Wipro   5-10 Yrs  \n",
       "9                        Delhivery    3-7 Yrs  \n",
       "10                       GSK India   5-10 Yrs  \n",
       "11  PlaceMinds Consulting Pvt. Ltd   6-11 Yrs  \n",
       "12                    AVE-Promagne    3-8 Yrs  \n",
       "13                           Wipro   5-10 Yrs  \n",
       "14     Fragma data systems pvt ltd   5-10 Yrs  \n",
       "15                            DAZN    1-3 Yrs  \n",
       "16                             IBM   5-10 Yrs  \n",
       "17                             IBM   5-10 Yrs  \n",
       "18                         Signify   6-12 Yrs  \n",
       "19                             IBM  12-15 Yrs  "
      ]
     },
     "execution_count": 151,
     "metadata": {},
     "output_type": "execute_result"
    }
   ],
   "source": [
    "jobs=pd.DataFrame()\n",
    "jobs['Job_title']=job_titles\n",
    "jobs['Location']=location_tags\n",
    "jobs['Company']=company_titles\n",
    "jobs['Experience']=exp_titles\n",
    "jobs[0:10]"
   ]
  },
  {
   "cell_type": "code",
   "execution_count": 152,
   "id": "a172a984",
   "metadata": {},
   "outputs": [],
   "source": [
    "#Question 3 location and salary filter for “Delhi/NCR”. The salary filter to be used is “3-6” lakhs\n"
   ]
  },
  {
   "cell_type": "code",
   "execution_count": 164,
   "id": "ff17f9c0",
   "metadata": {},
   "outputs": [],
   "source": [
    "url=\"http://www.naukri.com/\"\n",
    "driver.get(url)"
   ]
  },
  {
   "cell_type": "code",
   "execution_count": 165,
   "id": "0a3fad85",
   "metadata": {},
   "outputs": [
    {
     "data": {
      "text/plain": [
       "<selenium.webdriver.remote.webelement.WebElement (session=\"f270c854614b041e4d46e2fae8906931\", element=\"15a20003-7111-458c-bc61-debfced5690c\")>"
      ]
     },
     "execution_count": 165,
     "metadata": {},
     "output_type": "execute_result"
    }
   ],
   "source": [
    "search_job=driver.find_element_by_class_name(\"suggestor-input\" )\n",
    "search_job"
   ]
  },
  {
   "cell_type": "code",
   "execution_count": 166,
   "id": "b8a0b7ee",
   "metadata": {},
   "outputs": [],
   "source": [
    "search_job.send_keys(\"Data Scientist\")"
   ]
  },
  {
   "cell_type": "code",
   "execution_count": 167,
   "id": "79d18255",
   "metadata": {},
   "outputs": [
    {
     "data": {
      "text/plain": [
       "<selenium.webdriver.remote.webelement.WebElement (session=\"f270c854614b041e4d46e2fae8906931\", element=\"d52bbb59-814e-4060-93fc-c88f7a89a152\")>"
      ]
     },
     "execution_count": 167,
     "metadata": {},
     "output_type": "execute_result"
    }
   ],
   "source": [
    "search_loc=driver.find_element_by_xpath(\"/html/body/div/div[2]/div[3]/div/div/div[3]/div/div/div/input\")\n",
    "search_loc"
   ]
  },
  {
   "cell_type": "code",
   "execution_count": 168,
   "id": "4369f8f2",
   "metadata": {},
   "outputs": [],
   "source": [
    "search_loc.send_keys(\"Delhi/NCR\")"
   ]
  },
  {
   "cell_type": "code",
   "execution_count": 170,
   "id": "0ebddf71",
   "metadata": {},
   "outputs": [],
   "source": [
    "search_btn=driver.find_element_by_class_name(\"qsbSubmit\")\n",
    "search_btn.click()"
   ]
  },
  {
   "cell_type": "code",
   "execution_count": 173,
   "id": "c7d79809",
   "metadata": {},
   "outputs": [],
   "source": [
    "salary_check=driver.find_element_by_xpath(\"/html/body/div[1]/div[3]/div[2]/section[1]/div[2]/div[1]/div[2]/div[1]/label/i\")\n",
    "salary_check.click()"
   ]
  },
  {
   "cell_type": "code",
   "execution_count": 174,
   "id": "35c79ab1",
   "metadata": {},
   "outputs": [
    {
     "data": {
      "text/plain": [
       "19"
      ]
     },
     "execution_count": 174,
     "metadata": {},
     "output_type": "execute_result"
    }
   ],
   "source": [
    "#Extracting job-title, job-location, company_name, experience_required.\n",
    "title_tags=driver.find_elements_by_xpath('//a[@class=\"title fw500 ellipsis\"]')\n",
    "len(title_tags)"
   ]
  },
  {
   "cell_type": "code",
   "execution_count": 177,
   "id": "bda0c68b",
   "metadata": {},
   "outputs": [
    {
     "data": {
      "text/plain": [
       "['Data Scientist-Python Machine Learning',\n",
       " 'Data Scientist',\n",
       " 'Urgently looking For Data Scientist For Bangalore and Gurgaon location',\n",
       " 'Data Scientist',\n",
       " 'Urgent Hirirng For Data Scientist For Noida Location',\n",
       " 'Data Scientist',\n",
       " 'Junior Data Analyst/ Scientist- Fresher Position',\n",
       " 'Data Scientist',\n",
       " 'Data Analyst / Data Scientist / Business Analytics / Fresher - MNC',\n",
       " 'Data Scientist']"
      ]
     },
     "execution_count": 177,
     "metadata": {},
     "output_type": "execute_result"
    }
   ],
   "source": [
    "job_titles=[]\n",
    "for i in title_tags:\n",
    "    job_titles.append(i.text)\n",
    "job_titles[0:10]"
   ]
  },
  {
   "cell_type": "code",
   "execution_count": 178,
   "id": "5ddacc82",
   "metadata": {},
   "outputs": [
    {
     "data": {
      "text/plain": [
       "19"
      ]
     },
     "execution_count": 178,
     "metadata": {},
     "output_type": "execute_result"
    }
   ],
   "source": [
    "loc_tags=driver.find_elements_by_xpath('//li[@class=\"fleft grey-text br2 placeHolderLi location\"]')\n",
    "len(loc_tags)"
   ]
  },
  {
   "cell_type": "code",
   "execution_count": 179,
   "id": "2ec903c5",
   "metadata": {},
   "outputs": [
    {
     "data": {
      "text/plain": [
       "['Noida, NCR',\n",
       " 'Gurgaon/Gurugram',\n",
       " 'Noida, Rewari, Beri, Jhajjar, Gurgaon/Gurugram, Bhiwadi, Matenhail, Bangalore/Bengaluru, Greater Noida\\n(WFH during Covid)',\n",
       " 'Kolkata, Hyderabad/Secunderabad, Pune, Ahmedabad, Chennai, Bangalore/Bengaluru, Delhi / NCR, Mumbai (All Areas)',\n",
       " 'Noida',\n",
       " 'New Delhi, Delhi / NCR, Mumbai (All Areas)',\n",
       " 'Hyderabad/Secunderabad, Pune, Chennai, Bangalore/Bengaluru, Delhi / NCR, Mumbai (All Areas)\\n(WFH during Covid)',\n",
       " 'Gurgaon/Gurugram, Bangalore/Bengaluru',\n",
       " 'Noida, New Delhi, Delhi / NCR',\n",
       " 'Gurgaon/Gurugram\\n(WFH during Covid)']"
      ]
     },
     "execution_count": 179,
     "metadata": {},
     "output_type": "execute_result"
    }
   ],
   "source": [
    "location_tags=[]\n",
    "for i in loc_tags:\n",
    "    location_tags.append(i.text)\n",
    "location_tags[0:10]"
   ]
  },
  {
   "cell_type": "code",
   "execution_count": 180,
   "id": "9dc081a6",
   "metadata": {},
   "outputs": [
    {
     "data": {
      "text/plain": [
       "19"
      ]
     },
     "execution_count": 180,
     "metadata": {},
     "output_type": "execute_result"
    }
   ],
   "source": [
    "company_tags=driver.find_elements_by_xpath('//a[@class=\"subTitle ellipsis fleft\"]')\n",
    "len(company_tags)"
   ]
  },
  {
   "cell_type": "code",
   "execution_count": 181,
   "id": "cb13b696",
   "metadata": {},
   "outputs": [
    {
     "data": {
      "text/plain": [
       "['Jubna',\n",
       " 'CNH Industrial',\n",
       " 'DELTA SYS-TECH(INDIA) PVT LTD',\n",
       " 'Servsys Technology Services India Pvt. Lt',\n",
       " 'Vrinda Global Private Limited',\n",
       " 'Cloudstrats Technologies Private Limited',\n",
       " 'Sejal Consulting Hub',\n",
       " 'Genpact',\n",
       " 'GABA Consultancy services',\n",
       " 'Zekardo Automotive Solutions']"
      ]
     },
     "execution_count": 181,
     "metadata": {},
     "output_type": "execute_result"
    }
   ],
   "source": [
    "company_titles=[]\n",
    "for i in company_tags:\n",
    "    company_titles.append(i.text)\n",
    "company_titles[0:10]"
   ]
  },
  {
   "cell_type": "code",
   "execution_count": 182,
   "id": "8ed009e1",
   "metadata": {},
   "outputs": [
    {
     "data": {
      "text/plain": [
       "19"
      ]
     },
     "execution_count": 182,
     "metadata": {},
     "output_type": "execute_result"
    }
   ],
   "source": [
    "Exp_tags=driver.find_elements_by_xpath('//li[@class=\"fleft grey-text br2 placeHolderLi experience\"]')\n",
    "len(Exp_tags)"
   ]
  },
  {
   "cell_type": "code",
   "execution_count": 183,
   "id": "f4f2f599",
   "metadata": {},
   "outputs": [
    {
     "data": {
      "text/plain": [
       "['3-5 Yrs',\n",
       " '1-6 Yrs',\n",
       " '7-10 Yrs',\n",
       " '3-8 Yrs',\n",
       " '3-6 Yrs',\n",
       " '3-5 Yrs',\n",
       " '0-3 Yrs',\n",
       " '5-10 Yrs',\n",
       " '0-0 Yrs',\n",
       " '5-8 Yrs']"
      ]
     },
     "execution_count": 183,
     "metadata": {},
     "output_type": "execute_result"
    }
   ],
   "source": [
    "exp_titles=[]\n",
    "for i in Exp_tags:\n",
    "    exp_titles.append(i.text)\n",
    "exp_titles[0:10]"
   ]
  },
  {
   "cell_type": "code",
   "execution_count": 185,
   "id": "af1b7861",
   "metadata": {},
   "outputs": [
    {
     "data": {
      "text/html": [
       "<div>\n",
       "<style scoped>\n",
       "    .dataframe tbody tr th:only-of-type {\n",
       "        vertical-align: middle;\n",
       "    }\n",
       "\n",
       "    .dataframe tbody tr th {\n",
       "        vertical-align: top;\n",
       "    }\n",
       "\n",
       "    .dataframe thead th {\n",
       "        text-align: right;\n",
       "    }\n",
       "</style>\n",
       "<table border=\"1\" class=\"dataframe\">\n",
       "  <thead>\n",
       "    <tr style=\"text-align: right;\">\n",
       "      <th></th>\n",
       "      <th>Job_title</th>\n",
       "      <th>Location</th>\n",
       "      <th>Company</th>\n",
       "      <th>Experience</th>\n",
       "    </tr>\n",
       "  </thead>\n",
       "  <tbody>\n",
       "    <tr>\n",
       "      <th>0</th>\n",
       "      <td>Data Scientist-Python Machine Learning</td>\n",
       "      <td>Noida, NCR</td>\n",
       "      <td>Jubna</td>\n",
       "      <td>3-5 Yrs</td>\n",
       "    </tr>\n",
       "    <tr>\n",
       "      <th>1</th>\n",
       "      <td>Data Scientist</td>\n",
       "      <td>Gurgaon/Gurugram</td>\n",
       "      <td>CNH Industrial</td>\n",
       "      <td>1-6 Yrs</td>\n",
       "    </tr>\n",
       "    <tr>\n",
       "      <th>2</th>\n",
       "      <td>Urgently looking For Data Scientist For Bangal...</td>\n",
       "      <td>Noida, Rewari, Beri, Jhajjar, Gurgaon/Gurugram...</td>\n",
       "      <td>DELTA SYS-TECH(INDIA) PVT LTD</td>\n",
       "      <td>7-10 Yrs</td>\n",
       "    </tr>\n",
       "    <tr>\n",
       "      <th>3</th>\n",
       "      <td>Data Scientist</td>\n",
       "      <td>Kolkata, Hyderabad/Secunderabad, Pune, Ahmedab...</td>\n",
       "      <td>Servsys Technology Services India Pvt. Lt</td>\n",
       "      <td>3-8 Yrs</td>\n",
       "    </tr>\n",
       "    <tr>\n",
       "      <th>4</th>\n",
       "      <td>Urgent Hirirng For Data Scientist For Noida Lo...</td>\n",
       "      <td>Noida</td>\n",
       "      <td>Vrinda Global Private Limited</td>\n",
       "      <td>3-6 Yrs</td>\n",
       "    </tr>\n",
       "    <tr>\n",
       "      <th>5</th>\n",
       "      <td>Data Scientist</td>\n",
       "      <td>New Delhi, Delhi / NCR, Mumbai (All Areas)</td>\n",
       "      <td>Cloudstrats Technologies Private Limited</td>\n",
       "      <td>3-5 Yrs</td>\n",
       "    </tr>\n",
       "    <tr>\n",
       "      <th>6</th>\n",
       "      <td>Junior Data Analyst/ Scientist- Fresher Position</td>\n",
       "      <td>Hyderabad/Secunderabad, Pune, Chennai, Bangalo...</td>\n",
       "      <td>Sejal Consulting Hub</td>\n",
       "      <td>0-3 Yrs</td>\n",
       "    </tr>\n",
       "    <tr>\n",
       "      <th>7</th>\n",
       "      <td>Data Scientist</td>\n",
       "      <td>Gurgaon/Gurugram, Bangalore/Bengaluru</td>\n",
       "      <td>Genpact</td>\n",
       "      <td>5-10 Yrs</td>\n",
       "    </tr>\n",
       "    <tr>\n",
       "      <th>8</th>\n",
       "      <td>Data Analyst / Data Scientist / Business Analy...</td>\n",
       "      <td>Noida, New Delhi, Delhi / NCR</td>\n",
       "      <td>GABA Consultancy services</td>\n",
       "      <td>0-0 Yrs</td>\n",
       "    </tr>\n",
       "    <tr>\n",
       "      <th>9</th>\n",
       "      <td>Data Scientist</td>\n",
       "      <td>Gurgaon/Gurugram\\n(WFH during Covid)</td>\n",
       "      <td>Zekardo Automotive Solutions</td>\n",
       "      <td>5-8 Yrs</td>\n",
       "    </tr>\n",
       "  </tbody>\n",
       "</table>\n",
       "</div>"
      ],
      "text/plain": [
       "                                           Job_title  \\\n",
       "0             Data Scientist-Python Machine Learning   \n",
       "1                                     Data Scientist   \n",
       "2  Urgently looking For Data Scientist For Bangal...   \n",
       "3                                     Data Scientist   \n",
       "4  Urgent Hirirng For Data Scientist For Noida Lo...   \n",
       "5                                     Data Scientist   \n",
       "6   Junior Data Analyst/ Scientist- Fresher Position   \n",
       "7                                     Data Scientist   \n",
       "8  Data Analyst / Data Scientist / Business Analy...   \n",
       "9                                     Data Scientist   \n",
       "\n",
       "                                            Location  \\\n",
       "0                                         Noida, NCR   \n",
       "1                                   Gurgaon/Gurugram   \n",
       "2  Noida, Rewari, Beri, Jhajjar, Gurgaon/Gurugram...   \n",
       "3  Kolkata, Hyderabad/Secunderabad, Pune, Ahmedab...   \n",
       "4                                              Noida   \n",
       "5         New Delhi, Delhi / NCR, Mumbai (All Areas)   \n",
       "6  Hyderabad/Secunderabad, Pune, Chennai, Bangalo...   \n",
       "7              Gurgaon/Gurugram, Bangalore/Bengaluru   \n",
       "8                      Noida, New Delhi, Delhi / NCR   \n",
       "9               Gurgaon/Gurugram\\n(WFH during Covid)   \n",
       "\n",
       "                                     Company Experience  \n",
       "0                                      Jubna    3-5 Yrs  \n",
       "1                             CNH Industrial    1-6 Yrs  \n",
       "2              DELTA SYS-TECH(INDIA) PVT LTD   7-10 Yrs  \n",
       "3  Servsys Technology Services India Pvt. Lt    3-8 Yrs  \n",
       "4              Vrinda Global Private Limited    3-6 Yrs  \n",
       "5   Cloudstrats Technologies Private Limited    3-5 Yrs  \n",
       "6                       Sejal Consulting Hub    0-3 Yrs  \n",
       "7                                    Genpact   5-10 Yrs  \n",
       "8                  GABA Consultancy services    0-0 Yrs  \n",
       "9               Zekardo Automotive Solutions    5-8 Yrs  "
      ]
     },
     "execution_count": 185,
     "metadata": {},
     "output_type": "execute_result"
    }
   ],
   "source": [
    "jobs=pd.DataFrame()\n",
    "jobs['Job_title']=job_titles\n",
    "jobs['Location']=location_tags\n",
    "jobs['Company']=company_titles\n",
    "jobs['Experience']=exp_titles\n",
    "jobs[0:10]"
   ]
  },
  {
   "cell_type": "code",
   "execution_count": 186,
   "id": "5eee3f8c",
   "metadata": {},
   "outputs": [],
   "source": [
    "#Question 4. Scrape data of first 100 sunglasses listings on flipkart.com.\n",
    "#scrape four attributes: 1. Brand 2. Product Description 3. Price 4.Discount\n"
   ]
  },
  {
   "cell_type": "code",
   "execution_count": 198,
   "id": "9651fa87",
   "metadata": {},
   "outputs": [],
   "source": [
    "url=\"https://www.flipkart.com/\"\n",
    "driver.get(url)"
   ]
  },
  {
   "cell_type": "code",
   "execution_count": 199,
   "id": "f349e6e3",
   "metadata": {},
   "outputs": [],
   "source": [
    "search_glass=driver.find_element_by_class_name(\"_3704LK\")\n",
    "search_glass.send_keys(\"Sun Glasses\")"
   ]
  },
  {
   "cell_type": "code",
   "execution_count": 200,
   "id": "0a2da81d",
   "metadata": {},
   "outputs": [],
   "source": [
    "search_btn=driver.find_element_by_class_name(\"_34RNph\")\n",
    "search_btn.click()"
   ]
  },
  {
   "cell_type": "code",
   "execution_count": 204,
   "id": "438f3c90",
   "metadata": {},
   "outputs": [
    {
     "data": {
      "text/plain": [
       "40"
      ]
     },
     "execution_count": 204,
     "metadata": {},
     "output_type": "execute_result"
    }
   ],
   "source": [
    "title_tags=driver.find_elements_by_xpath('//div[@class=\"_2WkVRV\"]')\n",
    "len(title_tags)"
   ]
  },
  {
   "cell_type": "code",
   "execution_count": 205,
   "id": "c14bd5f6",
   "metadata": {},
   "outputs": [
    {
     "data": {
      "text/plain": [
       "['Singco India',\n",
       " 'Silver Kartz',\n",
       " 'Elligator',\n",
       " 'Fastrack',\n",
       " 'SUNBEE',\n",
       " 'New Specs',\n",
       " 'SHAAH COLLECTIONS',\n",
       " 'ROZZETTA CRAFT',\n",
       " 'Fastrack',\n",
       " 'SUNBEE',\n",
       " 'SRPM',\n",
       " 'Silver Kartz',\n",
       " 'ROZZETTA CRAFT',\n",
       " 'PIRASO',\n",
       " 'kingsunglasses',\n",
       " 'ROYAL SON',\n",
       " 'ROZZETTA CRAFT',\n",
       " 'PHENOMENAL',\n",
       " 'SHAAH COLLECTIONS',\n",
       " 'ROYAL SON',\n",
       " 'PHENOMENAL',\n",
       " 'PHENOMENAL',\n",
       " 'New Specs',\n",
       " 'Fair-x',\n",
       " 'Fastrack',\n",
       " 'Elligator',\n",
       " 'Lee Topper',\n",
       " 'ROYAL SON',\n",
       " 'kingsunglasses',\n",
       " 'GANSTA',\n",
       " 'kingsunglasses',\n",
       " 'VINCENT CHASE',\n",
       " 'Johaena',\n",
       " 'Elligator',\n",
       " 'PIRASO',\n",
       " 'ROYAL SON',\n",
       " 'kingsunglasses',\n",
       " 'PHENOMENAL',\n",
       " 'kingsunglasses',\n",
       " 'ROYAL SON']"
      ]
     },
     "execution_count": 205,
     "metadata": {},
     "output_type": "execute_result"
    }
   ],
   "source": [
    "glass_titles=[]\n",
    "for i in title_tags:\n",
    "    glass_titles.append(i.text)\n",
    "glass_titles"
   ]
  },
  {
   "cell_type": "code",
   "execution_count": 207,
   "id": "4d1453cd",
   "metadata": {},
   "outputs": [
    {
     "data": {
      "text/plain": [
       "40"
      ]
     },
     "execution_count": 207,
     "metadata": {},
     "output_type": "execute_result"
    }
   ],
   "source": [
    "desc_tags=driver.find_elements_by_xpath('//a[@class=\"IRpwTa\"]')\n",
    "len(desc_tags)"
   ]
  },
  {
   "cell_type": "code",
   "execution_count": 208,
   "id": "5f3263e7",
   "metadata": {},
   "outputs": [
    {
     "data": {
      "text/plain": [
       "['Gradient, Toughened Glass Lens, UV Protection Retro Squ...',\n",
       " 'UV Protection Clubmaster Sunglasses (53)',\n",
       " 'UV Protection Round Sunglasses (54)',\n",
       " 'UV Protection Rectangular Sunglasses (Free Size)',\n",
       " 'UV Protection, Polarized Wayfarer Sunglasses (Free Size...',\n",
       " 'UV Protection Rectangular Sunglasses (Free Size)',\n",
       " 'UV Protection, Polarized, Mirrored Rectangular Sunglass...',\n",
       " 'UV Protection Round Sunglasses (Free Size)',\n",
       " 'Gradient, UV Protection Wayfarer Sunglasses (Free Size)',\n",
       " 'UV Protection, Polarized, Mirrored Round Sunglasses (Fr...',\n",
       " 'UV Protection Wayfarer Sunglasses (50)',\n",
       " 'UV Protection Aviator Sunglasses (88)',\n",
       " 'Polarized, Night Vision, Riding Glasses Sports, Wrap-ar...',\n",
       " 'UV Protection Aviator Sunglasses (54)',\n",
       " 'UV Protection Round Sunglasses (54)',\n",
       " 'UV Protection Retro Square Sunglasses (88)',\n",
       " 'UV Protection, Gradient Rectangular Sunglasses (Free Si...',\n",
       " 'UV Protection Retro Square Sunglasses (Free Size)',\n",
       " 'UV Protection, Polarized, Mirrored Rectangular Sunglass...',\n",
       " 'UV Protection Rectangular Sunglasses (58)',\n",
       " 'UV Protection, Mirrored Retro Square Sunglasses (53)',\n",
       " 'UV Protection Retro Square Sunglasses (53)',\n",
       " 'Mirrored, UV Protection, Riding Glasses, Others Round S...',\n",
       " 'Mirrored, Riding Glasses, UV Protection Sports Sunglass...',\n",
       " 'UV Protection Wayfarer Sunglasses (Free Size)',\n",
       " 'UV Protection Round Sunglasses (53)',\n",
       " 'UV Protection Rectangular Sunglasses (Free Size)',\n",
       " 'Polarized, UV Protection Aviator Sunglasses (58)',\n",
       " 'UV Protection, Others Round, Aviator Sunglasses (54)',\n",
       " 'UV Protection Aviator Sunglasses (57)',\n",
       " 'UV Protection Round Sunglasses (Free Size)',\n",
       " 'by Lenskart Polarized, UV Protection Wayfarer Sunglasse...',\n",
       " 'Riding Glasses, UV Protection Oval Sunglasses (48)',\n",
       " 'UV Protection Round Sunglasses (54)',\n",
       " 'UV Protection Wayfarer Sunglasses (32)',\n",
       " 'UV Protection Rectangular Sunglasses (Free Size)',\n",
       " 'UV Protection Rectangular Sunglasses (Free Size)',\n",
       " 'UV Protection, Mirrored Retro Square Sunglasses (53)',\n",
       " 'UV Protection, Riding Glasses, Mirrored Wayfarer Sungla...',\n",
       " 'Polarized, UV Protection Round Sunglasses (52)']"
      ]
     },
     "execution_count": 208,
     "metadata": {},
     "output_type": "execute_result"
    }
   ],
   "source": [
    "description_tags=[]\n",
    "for i in desc_tags:\n",
    "    description_tags.append(i.text)\n",
    "description_tags"
   ]
  },
  {
   "cell_type": "code",
   "execution_count": 209,
   "id": "299bddb8",
   "metadata": {},
   "outputs": [
    {
     "data": {
      "text/plain": [
       "40"
      ]
     },
     "execution_count": 209,
     "metadata": {},
     "output_type": "execute_result"
    }
   ],
   "source": [
    "price_tags=driver.find_elements_by_xpath('//div[@class=\"_30jeq3\"]')\n",
    "len(price_tags)"
   ]
  },
  {
   "cell_type": "code",
   "execution_count": 211,
   "id": "94cdeb6d",
   "metadata": {},
   "outputs": [
    {
     "data": {
      "text/plain": [
       "['₹664',\n",
       " '₹367',\n",
       " '₹248',\n",
       " '₹639',\n",
       " '₹243',\n",
       " '₹234',\n",
       " '₹165',\n",
       " '₹426',\n",
       " '₹649',\n",
       " '₹271',\n",
       " '₹188',\n",
       " '₹255',\n",
       " '₹474',\n",
       " '₹229',\n",
       " '₹186',\n",
       " '₹569',\n",
       " '₹383',\n",
       " '₹309',\n",
       " '₹181',\n",
       " '₹449',\n",
       " '₹299',\n",
       " '₹269',\n",
       " '₹259',\n",
       " '₹449',\n",
       " '₹689',\n",
       " '₹189',\n",
       " '₹199',\n",
       " '₹759',\n",
       " '₹174',\n",
       " '₹269',\n",
       " '₹276',\n",
       " '₹1,533',\n",
       " '₹146',\n",
       " '₹265',\n",
       " '₹225',\n",
       " '₹449',\n",
       " '₹180',\n",
       " '₹299',\n",
       " '₹180',\n",
       " '₹759']"
      ]
     },
     "execution_count": 211,
     "metadata": {},
     "output_type": "execute_result"
    }
   ],
   "source": [
    "price_titles=[]\n",
    "for i in price_tags:\n",
    "    price_titles.append(i.text)\n",
    "price_titles"
   ]
  },
  {
   "cell_type": "code",
   "execution_count": 218,
   "id": "a9dce9da",
   "metadata": {},
   "outputs": [
    {
     "data": {
      "text/plain": [
       "40"
      ]
     },
     "execution_count": 218,
     "metadata": {},
     "output_type": "execute_result"
    }
   ],
   "source": [
    "disc_tags=driver.find_elements_by_xpath('//div[@class=\"_3Ay6Sb\"]')\n",
    "len(disc_tags)"
   ]
  },
  {
   "cell_type": "code",
   "execution_count": 219,
   "id": "34f78ace",
   "metadata": {},
   "outputs": [
    {
     "data": {
      "text/plain": [
       "['88% off',\n",
       " '77% off',\n",
       " '90% off',\n",
       " '20% off',\n",
       " '81% off',\n",
       " '88% off',\n",
       " '90% off',\n",
       " '87% off',\n",
       " '18% off',\n",
       " '84% off',\n",
       " '85% off',\n",
       " '75% off',\n",
       " '76% off',\n",
       " '85% off',\n",
       " '81% off',\n",
       " '86% off',\n",
       " '80% off',\n",
       " '84% off',\n",
       " '81% off',\n",
       " '70% off',\n",
       " '85% off',\n",
       " '73% off',\n",
       " '81% off',\n",
       " '78% off',\n",
       " '23% off',\n",
       " '87% off',\n",
       " '80% off',\n",
       " '84% off',\n",
       " '82% off',\n",
       " '86% off',\n",
       " '82% off',\n",
       " '71% off',\n",
       " '87% off',\n",
       " '79% off',\n",
       " '85% off',\n",
       " '70% off',\n",
       " '83% off',\n",
       " '85% off',\n",
       " '84% off',\n",
       " '62% off']"
      ]
     },
     "execution_count": 219,
     "metadata": {},
     "output_type": "execute_result"
    }
   ],
   "source": [
    "discount_titles=[]\n",
    "for i in disc_tags:\n",
    "    discount_titles.append(i.text)\n",
    "discount_titles"
   ]
  },
  {
   "cell_type": "code",
   "execution_count": 228,
   "id": "02c38245",
   "metadata": {},
   "outputs": [],
   "source": [
    "search_next_btn=driver.find_element_by_class_name(\"_1LKTO3\")\n",
    "search_next_btn.click()"
   ]
  },
  {
   "cell_type": "code",
   "execution_count": 229,
   "id": "20fbef16",
   "metadata": {},
   "outputs": [
    {
     "data": {
      "text/plain": [
       "40"
      ]
     },
     "execution_count": 229,
     "metadata": {},
     "output_type": "execute_result"
    }
   ],
   "source": [
    "title_tags=driver.find_elements_by_xpath('//div[@class=\"_2WkVRV\"]')\n",
    "len(title_tags)"
   ]
  },
  {
   "cell_type": "code",
   "execution_count": 230,
   "id": "48963ac3",
   "metadata": {},
   "outputs": [
    {
     "data": {
      "text/plain": [
       "['LOUIS KOUROS',\n",
       " 'LOUIS KOUROS',\n",
       " 'Elligator',\n",
       " 'Fastrack',\n",
       " 'SUNBEE',\n",
       " 'SHAAH COLLECTIONS',\n",
       " 'Fastrack',\n",
       " 'Fair-x',\n",
       " 'SUNBEE',\n",
       " 'New Specs',\n",
       " 'SRPM',\n",
       " 'ROYAL SON',\n",
       " 'ROZZETTA CRAFT',\n",
       " 'PIRASO',\n",
       " 'kingsunglasses',\n",
       " 'ROYAL SON',\n",
       " 'ROZZETTA CRAFT',\n",
       " 'PHENOMENAL',\n",
       " 'SHAAH COLLECTIONS',\n",
       " 'ROYAL SON',\n",
       " 'PHENOMENAL',\n",
       " 'PHENOMENAL',\n",
       " 'GANSTA',\n",
       " 'ROYAL SON',\n",
       " 'Fastrack',\n",
       " 'Fastrack',\n",
       " 'Elligator',\n",
       " 'VINCENT CHASE',\n",
       " 'Lee Topper',\n",
       " 'kingsunglasses',\n",
       " 'New Specs',\n",
       " 'ROYAL SON',\n",
       " 'kingsunglasses',\n",
       " 'Johaena',\n",
       " 'Elligator',\n",
       " 'ROYAL SON',\n",
       " 'kingsunglasses',\n",
       " 'PHENOMENAL',\n",
       " 'PIRASO',\n",
       " 'I Flash']"
      ]
     },
     "execution_count": 230,
     "metadata": {},
     "output_type": "execute_result"
    }
   ],
   "source": [
    "glass_titles=[]\n",
    "for i in title_tags:\n",
    "    glass_titles.append(i.text)\n",
    "glass_titles"
   ]
  },
  {
   "cell_type": "code",
   "execution_count": 231,
   "id": "5d22e3ae",
   "metadata": {},
   "outputs": [
    {
     "data": {
      "text/plain": [
       "39"
      ]
     },
     "execution_count": 231,
     "metadata": {},
     "output_type": "execute_result"
    }
   ],
   "source": [
    "desc_tags=driver.find_elements_by_xpath('//a[@class=\"IRpwTa\"]')\n",
    "len(desc_tags)"
   ]
  },
  {
   "cell_type": "code",
   "execution_count": 232,
   "id": "15f16824",
   "metadata": {},
   "outputs": [
    {
     "data": {
      "text/plain": [
       "['UV Protection Aviator Sunglasses (60)',\n",
       " 'UV Protection Aviator Sunglasses (60)',\n",
       " 'UV Protection Round Sunglasses (54)',\n",
       " 'UV Protection Rectangular Sunglasses (Free Size)',\n",
       " 'UV Protection, Polarized Wayfarer Sunglasses (Free Size...',\n",
       " 'UV Protection, Polarized, Mirrored Rectangular Sunglass...',\n",
       " 'Gradient, UV Protection Wayfarer Sunglasses (Free Size)',\n",
       " 'Mirrored, Riding Glasses, UV Protection Sports Sunglass...',\n",
       " 'UV Protection, Polarized, Mirrored Round Sunglasses (Fr...',\n",
       " 'UV Protection Rectangular Sunglasses (Free Size)',\n",
       " 'UV Protection Wayfarer Sunglasses (50)',\n",
       " 'UV Protection Rectangular Sunglasses (Free Size)',\n",
       " 'Polarized, Night Vision, Riding Glasses Sports, Wrap-ar...',\n",
       " 'UV Protection Aviator Sunglasses (54)',\n",
       " 'UV Protection Round Sunglasses (54)',\n",
       " 'Mirrored Aviator Sunglasses (55)',\n",
       " 'UV Protection, Gradient Rectangular Sunglasses (Free Si...',\n",
       " 'UV Protection Retro Square Sunglasses (Free Size)',\n",
       " 'UV Protection, Polarized, Mirrored Rectangular Sunglass...',\n",
       " 'Polarized, UV Protection Round Sunglasses (52)',\n",
       " 'UV Protection, Mirrored Retro Square Sunglasses (53)',\n",
       " 'UV Protection Retro Square Sunglasses (53)',\n",
       " 'UV Protection Aviator Sunglasses (57)',\n",
       " 'Polarized Retro Square Sunglasses (59)',\n",
       " 'UV Protection Shield Sunglasses (Free Size)',\n",
       " 'UV Protection Wayfarer Sunglasses (Free Size)',\n",
       " 'UV Protection Round Sunglasses (53)',\n",
       " 'by Lenskart Polarized, UV Protection Round Sunglasses (...',\n",
       " 'UV Protection Rectangular Sunglasses (Free Size)',\n",
       " 'UV Protection, Others Round, Aviator Sunglasses (54)',\n",
       " 'Mirrored, UV Protection, Riding Glasses, Others Round S...',\n",
       " 'UV Protection Round Sunglasses (50)',\n",
       " 'UV Protection Round Sunglasses (Free Size)',\n",
       " 'Riding Glasses, UV Protection Oval Sunglasses (48)',\n",
       " 'UV Protection Round Sunglasses (54)',\n",
       " 'UV Protection Over-sized Sunglasses (60)',\n",
       " 'UV Protection Rectangular Sunglasses (Free Size)',\n",
       " 'UV Protection, Mirrored Retro Square Sunglasses (53)',\n",
       " 'UV Protection Wayfarer Sunglasses (32)']"
      ]
     },
     "execution_count": 232,
     "metadata": {},
     "output_type": "execute_result"
    }
   ],
   "source": [
    "description_tags=[]\n",
    "for i in desc_tags:\n",
    "    description_tags.append(i.text)\n",
    "description_tags"
   ]
  },
  {
   "cell_type": "code",
   "execution_count": 233,
   "id": "9eb822a7",
   "metadata": {},
   "outputs": [
    {
     "data": {
      "text/plain": [
       "40"
      ]
     },
     "execution_count": 233,
     "metadata": {},
     "output_type": "execute_result"
    }
   ],
   "source": [
    "price_tags=driver.find_elements_by_xpath('//div[@class=\"_30jeq3\"]')\n",
    "len(price_tags)"
   ]
  },
  {
   "cell_type": "code",
   "execution_count": 234,
   "id": "6ebb4ffb",
   "metadata": {},
   "outputs": [
    {
     "data": {
      "text/plain": [
       "['₹1,124',\n",
       " '₹1,124',\n",
       " '₹248',\n",
       " '₹639',\n",
       " '₹243',\n",
       " '₹165',\n",
       " '₹649',\n",
       " '₹449',\n",
       " '₹271',\n",
       " '₹234',\n",
       " '₹188',\n",
       " '₹449',\n",
       " '₹474',\n",
       " '₹229',\n",
       " '₹186',\n",
       " '₹359',\n",
       " '₹383',\n",
       " '₹309',\n",
       " '₹181',\n",
       " '₹759',\n",
       " '₹299',\n",
       " '₹269',\n",
       " '₹269',\n",
       " '₹664',\n",
       " '₹459',\n",
       " '₹689',\n",
       " '₹189',\n",
       " '₹1,415',\n",
       " '₹199',\n",
       " '₹174',\n",
       " '₹259',\n",
       " '₹359',\n",
       " '₹276',\n",
       " '₹146',\n",
       " '₹265',\n",
       " '₹664',\n",
       " '₹180',\n",
       " '₹299',\n",
       " '₹225',\n",
       " '₹199']"
      ]
     },
     "execution_count": 234,
     "metadata": {},
     "output_type": "execute_result"
    }
   ],
   "source": [
    "price_titles=[]\n",
    "for i in price_tags:\n",
    "    price_titles.append(i.text)\n",
    "price_titles"
   ]
  },
  {
   "cell_type": "code",
   "execution_count": 235,
   "id": "8863ee11",
   "metadata": {},
   "outputs": [
    {
     "data": {
      "text/plain": [
       "40"
      ]
     },
     "execution_count": 235,
     "metadata": {},
     "output_type": "execute_result"
    }
   ],
   "source": [
    "disc_tags=driver.find_elements_by_xpath('//div[@class=\"_3Ay6Sb\"]')\n",
    "len(disc_tags)"
   ]
  },
  {
   "cell_type": "code",
   "execution_count": 236,
   "id": "f1574e5a",
   "metadata": {},
   "outputs": [
    {
     "data": {
      "text/plain": [
       "['85% off',\n",
       " '85% off',\n",
       " '90% off',\n",
       " '20% off',\n",
       " '81% off',\n",
       " '90% off',\n",
       " '18% off',\n",
       " '70% off',\n",
       " '84% off',\n",
       " '88% off',\n",
       " '85% off',\n",
       " '70% off',\n",
       " '76% off',\n",
       " '85% off',\n",
       " '81% off',\n",
       " '76% off',\n",
       " '80% off',\n",
       " '84% off',\n",
       " '81% off',\n",
       " '62% off',\n",
       " '85% off',\n",
       " '73% off',\n",
       " '86% off',\n",
       " '55% off',\n",
       " '48% off',\n",
       " '23% off',\n",
       " '87% off',\n",
       " '29% off',\n",
       " '80% off',\n",
       " '82% off',\n",
       " '81% off',\n",
       " '76% off',\n",
       " '82% off',\n",
       " '87% off',\n",
       " '79% off',\n",
       " '66% off',\n",
       " '83% off',\n",
       " '85% off',\n",
       " '85% off',\n",
       " '83% off']"
      ]
     },
     "execution_count": 236,
     "metadata": {},
     "output_type": "execute_result"
    }
   ],
   "source": [
    "discount_titles=[]\n",
    "for i in disc_tags:\n",
    "    discount_titles.append(i.text)\n",
    "discount_titles"
   ]
  },
  {
   "cell_type": "code",
   "execution_count": 259,
   "id": "d8980516",
   "metadata": {},
   "outputs": [],
   "source": [
    "#Question 5.Scrape 100 reviews data from flipkart.com for iphone11 phone.\n",
    "\n"
   ]
  },
  {
   "cell_type": "code",
   "execution_count": 421,
   "id": "ecc74223",
   "metadata": {},
   "outputs": [],
   "source": [
    "url=\"https://www.flipkart.com/apple-iphone-11-black-64-gb/p/itm4e5041ba101fd?pid=MOBFWQ6BXGJCEYNY&lid=LSTMOBFWQ6BXGJCEYNYL0BETT&marketplace=FLIPKART&q=iphone+11+black&store=tyy%2F4io&srno=s_1_2&otracker=search&otracker1=search&fm=Search&iid=0349cc05-1676-44b2-8508-a344b5210bc8.MOBFWQ6BXGJCEYNY.SEARCH&ppt=pp&ppn=pp&ssid=1dwaj68v4g0000001644869753081&qH=77772a3e6366cdf8\"\n",
    "driver.get(url)"
   ]
  },
  {
   "cell_type": "code",
   "execution_count": 422,
   "id": "929c4e44",
   "metadata": {},
   "outputs": [
    {
     "data": {
      "text/plain": [
       "10"
      ]
     },
     "execution_count": 422,
     "metadata": {},
     "output_type": "execute_result"
    }
   ],
   "source": [
    "stars_tags=driver.find_elements_by_xpath('//div[@class=\"_3LWZlK _1BLPMq\"]')\n",
    "len(stars_tags)"
   ]
  },
  {
   "cell_type": "code",
   "execution_count": 423,
   "id": "57441e92",
   "metadata": {},
   "outputs": [
    {
     "data": {
      "text/plain": [
       "['5', '5', '5', '', '', '', '', '', '', '']"
      ]
     },
     "execution_count": 423,
     "metadata": {},
     "output_type": "execute_result"
    }
   ],
   "source": [
    "star_titles=[]\n",
    "for i in stars_tags:\n",
    "    star_titles.append(i.text)\n",
    "star_titles"
   ]
  },
  {
   "cell_type": "code",
   "execution_count": 424,
   "id": "bf3817a2",
   "metadata": {},
   "outputs": [
    {
     "data": {
      "text/plain": [
       "10"
      ]
     },
     "execution_count": 424,
     "metadata": {},
     "output_type": "execute_result"
    }
   ],
   "source": [
    "revsum_tags=driver.find_elements_by_xpath('//p[@class=\"_2-N8zT\"]')\n",
    "len(stars_tags)"
   ]
  },
  {
   "cell_type": "code",
   "execution_count": 425,
   "id": "dd6eff62",
   "metadata": {},
   "outputs": [
    {
     "data": {
      "text/plain": [
       "['Brilliant',\n",
       " 'Simply awesome',\n",
       " 'Best in the market!',\n",
       " '',\n",
       " '',\n",
       " '',\n",
       " '',\n",
       " '',\n",
       " '',\n",
       " '']"
      ]
     },
     "execution_count": 425,
     "metadata": {},
     "output_type": "execute_result"
    }
   ],
   "source": [
    "revsum_titles=[]\n",
    "for i in revsum_tags:\n",
    "    revsum_titles.append(i.text)\n",
    "revsum_titles"
   ]
  },
  {
   "cell_type": "code",
   "execution_count": 426,
   "id": "0aad56e1",
   "metadata": {},
   "outputs": [
    {
     "data": {
      "text/plain": [
       "10"
      ]
     },
     "execution_count": 426,
     "metadata": {},
     "output_type": "execute_result"
    }
   ],
   "source": [
    "rev_tags=driver.find_elements_by_xpath('//div[@class=\"t-ZTKy\"]')\n",
    "len(rev_tags)"
   ]
  },
  {
   "cell_type": "code",
   "execution_count": 427,
   "id": "41db908a",
   "metadata": {},
   "outputs": [
    {
     "data": {
      "text/plain": [
       "['The Best Phone for the Money\\n\\nThe iPhone 11 offers superb cameras, a more durable design and excellent battery life for an affordable price.\\n\\nCompelling ultra-wide camera\\nNew Night mode is excellent\\nLong battery life',\n",
       " 'Really satisfied with the Product I received... It’s totally genuine and the packaging was also really good so if ur planning to buy just go for it.',\n",
       " 'Great iPhone very snappy experience as apple kind. Upgraded from iPhone 7.\\nPros\\n-Camera top class\\n- Battery top performed\\n-Chipset no need to say as apple kind\\n-Security as you expect from apple\\n- Display super bright industry leading colour\\naccuracy and super responsive\\n-Build quality as expect from apple sturdy\\npremium durable beautiful stylish.\\n-Os most stable os in smartphone industry\\n\\nCons\\n-No 5G\\n-Display is not based on OLED technology\\n-Charger headphones and 1 apple stic...\\nREAD MORE',\n",
       " '',\n",
       " '',\n",
       " '',\n",
       " '',\n",
       " '',\n",
       " '',\n",
       " '']"
      ]
     },
     "execution_count": 427,
     "metadata": {},
     "output_type": "execute_result"
    }
   ],
   "source": [
    "rev_titles=[]\n",
    "for i in rev_tags:\n",
    "    rev_titles.append(i.text)\n",
    "rev_titles"
   ]
  },
  {
   "cell_type": "code",
   "execution_count": 453,
   "id": "cd0a0e9f",
   "metadata": {},
   "outputs": [],
   "source": [
    "search_next_btn=driver.find_element_by_xpath('//*[@id=\"container\"]/div/div[3]/div/div/div[2]/div[13]/div/div/nav/a[11]')\n",
    "search_next_btn.click()"
   ]
  },
  {
   "cell_type": "code",
   "execution_count": 454,
   "id": "c4cbbea8",
   "metadata": {},
   "outputs": [
    {
     "data": {
      "text/plain": [
       "10"
      ]
     },
     "execution_count": 454,
     "metadata": {},
     "output_type": "execute_result"
    }
   ],
   "source": [
    "stars_tags=driver.find_elements_by_xpath('//div[@class=\"_3LWZlK _1BLPMq\"]')\n",
    "len(stars_tags)"
   ]
  },
  {
   "cell_type": "code",
   "execution_count": 455,
   "id": "7d96c754",
   "metadata": {},
   "outputs": [
    {
     "data": {
      "text/plain": [
       "['5', '5', '5', '5', '5', '5', '5', '5', '5', '4']"
      ]
     },
     "execution_count": 455,
     "metadata": {},
     "output_type": "execute_result"
    }
   ],
   "source": [
    "star_titles=[]\n",
    "for i in stars_tags:\n",
    "    star_titles.append(i.text)\n",
    "star_titles"
   ]
  },
  {
   "cell_type": "code",
   "execution_count": 456,
   "id": "5d4082db",
   "metadata": {},
   "outputs": [
    {
     "data": {
      "text/plain": [
       "10"
      ]
     },
     "execution_count": 456,
     "metadata": {},
     "output_type": "execute_result"
    }
   ],
   "source": [
    "revsum_tags=driver.find_elements_by_xpath('//p[@class=\"_2-N8zT\"]')\n",
    "len(stars_tags)"
   ]
  },
  {
   "cell_type": "code",
   "execution_count": 457,
   "id": "d2fa6d40",
   "metadata": {},
   "outputs": [
    {
     "data": {
      "text/plain": [
       "['Highly recommended',\n",
       " 'Perfect product!',\n",
       " 'Perfect product!',\n",
       " 'Highly recommended',\n",
       " 'Perfect product!',\n",
       " 'Worth every penny',\n",
       " 'Classy product',\n",
       " 'Worth every penny',\n",
       " 'Worth every penny',\n",
       " 'Nice product']"
      ]
     },
     "execution_count": 457,
     "metadata": {},
     "output_type": "execute_result"
    }
   ],
   "source": [
    "revsum_titles=[]\n",
    "for i in revsum_tags:\n",
    "    revsum_titles.append(i.text)\n",
    "revsum_titles"
   ]
  },
  {
   "cell_type": "code",
   "execution_count": 458,
   "id": "b801db67",
   "metadata": {},
   "outputs": [
    {
     "data": {
      "text/plain": [
       "10"
      ]
     },
     "execution_count": 458,
     "metadata": {},
     "output_type": "execute_result"
    }
   ],
   "source": [
    "rev_tags=driver.find_elements_by_xpath('//div[@class=\"t-ZTKy\"]')\n",
    "len(rev_tags)"
   ]
  },
  {
   "cell_type": "code",
   "execution_count": 459,
   "id": "401c3cbd",
   "metadata": {},
   "outputs": [
    {
     "data": {
      "text/plain": [
       "['iphone 11 is a very good phone to buy only if you can compromise for the display. The display on this is device is pretty good but you can get other options with better displays in this price segment.\\nIf you can survive with an HD+ LCD panel with thicker bezels and a notch up top then this is a very good phone for you.\\nCameras are awesome, battery backup excellent, great performance and a decent premium look. Good job Apple !',\n",
       " 'It’s a must buy who is looking for an upgrade from previous generation of iPhones. If you are using XR then still you can hold on for sometime and upgrade to 2020 model else this phone is a must buy . Camera quality is amazing and wide angle is something to count upon. Performance wise it’s amazing and feels premium while holding in hand. So a big YES for this device. Go for 128 GB variant as the 4K videos will occupy lots of space and the storage can get over very quickly. Try to buy it with...\\nREAD MORE',\n",
       " 'Value for money❤️❤️\\nIts awesome mobile phone in the world ...\\nDisplay was very good and bright ..\\nTrust me freinds you r never regret after Buying..\\nJust go for it....\\nI love this phone and i switch to iphone x to 11',\n",
       " \"It's my first time to use iOS phone and I am loving my upgradation 😍😍 I love the color, I love the assebility of the phone....I need to learn more about its functionality, but as far as I have seen, it's quite easy and it has a lot of functions to work on, specially if you are a content writer or a blogger you get a lot of content creation platforms and they are really amazing.\\n\\nThis phone not only for good quality photography but a lot of other task too.😍💯\",\n",
       " \"Iphone is just awesome.. battery backup is very very nice.. continuously for 10 hours we can use it.camera is just awesome.. display is just fab.i love it alot..i had to wait 15 days for it as i pre ordered it..overalll it's worth the price..these all images are clicked by my iPhone..and i love it.\",\n",
       " 'Best budget Iphone till date ❤️ go for it guys without second thought. Let me explain you guys about Camera, Display, battery, and performance.\\n\\nCamera: at this price range there is no comparison of camera, you’ll love the picture quality as well as video quality. I am a Vlogger I wanted an iPhone with 4k video by front camera and I got this phone and I am more than happy 😃\\n\\nBattery: I use this phone roughly as I am active social media person and I have a youtube channel. so the battery ba...\\nREAD MORE',\n",
       " 'Totally in love with this ❤ the camera quality is amazing just love it 😘😘😘 itsss dammnnnnnn amazing... Must buy iPhone 11 this is my best experience ever ☀👌👌🧡🧡🧡🧡🧡 thanku apple ❤',\n",
       " 'It’s been almost a month since I have been using this phone. I upgraded from an iPhone 8. The main issue with my 8 was battery and this phone is just awesome when it comes to battery. It lasts a day and a half for me with my regular use , internet connected always with 4g\\nCan’t move forward without saying this. Battery of this phone is a life saver when I am traveling or at work when I don’t get the option to charge\\nCamera is superb. Front cam selfies and back cam photos are just awesome.\\n...\\nREAD MORE',\n",
       " 'Smooth like butter, camera like fantabulous, sound is crystal clear & its red color is damn attractive, i am just loving it. Must buy if you love photography.\\n\\nLucky to get it in sale, thank you Flipkart.',\n",
       " 'Awesome Phone. Slightly high price but worth. Better than iPhone XR.\\nCamera is superb and wide angle camera is very clear.\\n12MP selfie camera is also very good.\\nA13 Chip gives a very good and smooth performance.']"
      ]
     },
     "execution_count": 459,
     "metadata": {},
     "output_type": "execute_result"
    }
   ],
   "source": [
    "rev_titles=[]\n",
    "for i in rev_tags:\n",
    "    rev_titles.append(i.text)\n",
    "rev_titles"
   ]
  },
  {
   "cell_type": "code",
   "execution_count": 460,
   "id": "5e7076a1",
   "metadata": {},
   "outputs": [],
   "source": [
    "search_next_btn=driver.find_element_by_xpath('//*[@id=\"container\"]/div/div[3]/div/div/div[2]/div[13]/div/div/nav/a[11]')\n",
    "search_next_btn.click()"
   ]
  },
  {
   "cell_type": "code",
   "execution_count": 461,
   "id": "ddecd3d1",
   "metadata": {},
   "outputs": [
    {
     "data": {
      "text/plain": [
       "9"
      ]
     },
     "execution_count": 461,
     "metadata": {},
     "output_type": "execute_result"
    }
   ],
   "source": [
    "stars_tags=driver.find_elements_by_xpath('//div[@class=\"_3LWZlK _1BLPMq\"]')\n",
    "len(stars_tags)"
   ]
  },
  {
   "cell_type": "code",
   "execution_count": 462,
   "id": "f1b009bf",
   "metadata": {},
   "outputs": [
    {
     "data": {
      "text/plain": [
       "['5', '5', '5', '5', '5', '5', '5', '5', '5']"
      ]
     },
     "execution_count": 462,
     "metadata": {},
     "output_type": "execute_result"
    }
   ],
   "source": [
    "star_titles=[]\n",
    "for i in stars_tags:\n",
    "    star_titles.append(i.text)\n",
    "star_titles"
   ]
  },
  {
   "cell_type": "code",
   "execution_count": 463,
   "id": "11d8475a",
   "metadata": {},
   "outputs": [
    {
     "data": {
      "text/plain": [
       "9"
      ]
     },
     "execution_count": 463,
     "metadata": {},
     "output_type": "execute_result"
    }
   ],
   "source": [
    "revsum_tags=driver.find_elements_by_xpath('//p[@class=\"_2-N8zT\"]')\n",
    "len(stars_tags)"
   ]
  },
  {
   "cell_type": "code",
   "execution_count": 464,
   "id": "f8a455d2",
   "metadata": {},
   "outputs": [
    {
     "data": {
      "text/plain": [
       "['Highly recommended',\n",
       " 'Excellent',\n",
       " 'Fabulous!',\n",
       " 'Excellent',\n",
       " 'Waste of money!',\n",
       " 'Terrific',\n",
       " 'Highly recommended',\n",
       " 'Must buy!',\n",
       " 'Must buy!',\n",
       " 'Excellent']"
      ]
     },
     "execution_count": 464,
     "metadata": {},
     "output_type": "execute_result"
    }
   ],
   "source": [
    "revsum_titles=[]\n",
    "for i in revsum_tags:\n",
    "    revsum_titles.append(i.text)\n",
    "revsum_titles"
   ]
  },
  {
   "cell_type": "code",
   "execution_count": 465,
   "id": "7fff915e",
   "metadata": {},
   "outputs": [
    {
     "data": {
      "text/plain": [
       "10"
      ]
     },
     "execution_count": 465,
     "metadata": {},
     "output_type": "execute_result"
    }
   ],
   "source": [
    "rev_tags=driver.find_elements_by_xpath('//div[@class=\"t-ZTKy\"]')\n",
    "len(rev_tags)"
   ]
  },
  {
   "cell_type": "code",
   "execution_count": 466,
   "id": "29e10bce",
   "metadata": {},
   "outputs": [
    {
     "data": {
      "text/plain": [
       "['Iphone11 (4/64)GB Green color',\n",
       " '🤩🤩🤩🤩🤩🤩I loved the Phone.. Every time I pick up the phone it makes me happy... The phone is beast💪💪 and the camera is fabulous 🥰🥰🥰.. I think one of my great purchase from Flipkart.. Thank you Filpkart..',\n",
       " 'Gift this to your loved ones fabulous product and amazing super fast delivery by flipkart',\n",
       " 'Whoever has my kidney, May God Bless You!!!',\n",
       " 'Mobile is not getting charge.Mobile cannot be stated',\n",
       " \"I got this beast today. And I must say the picture quality of its camera is awesome. Both the cameras works fine.\\n\\nAs for as the processing is concerned, it runs without any lag. You can play and do whatever you want without a glitch.\\n\\nThe battery runs for a day with medium and high workload.\\n\\nThe display is good and the speakers are working fine.\\n\\nThe earphones doesn't have any base and you can use it for calling mostly.\\n\\nThe charging time is approximately for 90 minutes for full charging...\\nREAD MORE\",\n",
       " 'Amazing camera quality as expected, battery also has very good performance. Display, body, and touch experience is the best I’ve ever had. Sound quality of speakers is more than sufficient. Apple is known for it’s customer friendly security services and I can see it how. The A13 processor is the best in its work. So I would definitely recommend it for everyone who are looking for it, just go for it without delay.\\n\\nThe most amazing thing it the delivery. Flipkart has delivered it in the span ...\\nREAD MORE',\n",
       " 'Dear friends... I want to share my experience with you about this amazing I phone 11....this is my first iPhone and special things about this mobile is it has great camera, battery backup and awesome display.... I mean everything is perfect.loved it 👍👍👍',\n",
       " \"Camera is excellent just lack of telephoto mode frankly dose not needed either night mode is just 🙏🙏 12 12 12 mp (2back 1 front) camera lover just don't miss the deal\\nDisplay lcd but feel like super amoled\\nAt46999 with no cost EMI just a best deal\",\n",
       " \"It was amazing experience for me. Honestly i am using iPhone first time so I don't have that much past experience about that. But after using 7 days this mobile i want to give some honest feedback.\\n1- Display 9 out of 10\\n2- Camera 9.5 out of 10\\n3- Battery 7 out of 10\\n4- Performance 9.5 out of 10\\n5- Features & Functions 10 out of 10\\n6- Outer looks and colour 10 out of 10\\nRest i think i will understand after using this for few months.\\nI will highly recommend you guys if you have budget then you...\\nREAD MORE\"]"
      ]
     },
     "execution_count": 466,
     "metadata": {},
     "output_type": "execute_result"
    }
   ],
   "source": [
    "rev_titles=[]\n",
    "for i in rev_tags:\n",
    "    rev_titles.append(i.text)\n",
    "rev_titles"
   ]
  },
  {
   "cell_type": "code",
   "execution_count": 467,
   "id": "349d5842",
   "metadata": {},
   "outputs": [],
   "source": [
    "search_next_btn=driver.find_element_by_xpath('//*[@id=\"container\"]/div/div[3]/div/div/div[2]/div[13]/div/div/nav/a[11]')\n",
    "search_next_btn.click()"
   ]
  },
  {
   "cell_type": "code",
   "execution_count": 468,
   "id": "194272b7",
   "metadata": {},
   "outputs": [
    {
     "data": {
      "text/plain": [
       "9"
      ]
     },
     "execution_count": 468,
     "metadata": {},
     "output_type": "execute_result"
    }
   ],
   "source": [
    "stars_tags=driver.find_elements_by_xpath('//div[@class=\"_3LWZlK _1BLPMq\"]')\n",
    "len(stars_tags)"
   ]
  },
  {
   "cell_type": "code",
   "execution_count": 469,
   "id": "789f0dfa",
   "metadata": {},
   "outputs": [
    {
     "data": {
      "text/plain": [
       "['5', '5', '5', '5', '4', '4', '5', '5', '5']"
      ]
     },
     "execution_count": 469,
     "metadata": {},
     "output_type": "execute_result"
    }
   ],
   "source": [
    "star_titles=[]\n",
    "for i in stars_tags:\n",
    "    star_titles.append(i.text)\n",
    "star_titles"
   ]
  },
  {
   "cell_type": "code",
   "execution_count": 470,
   "id": "35f4c2cf",
   "metadata": {},
   "outputs": [
    {
     "data": {
      "text/plain": [
       "9"
      ]
     },
     "execution_count": 470,
     "metadata": {},
     "output_type": "execute_result"
    }
   ],
   "source": [
    "revsum_tags=driver.find_elements_by_xpath('//p[@class=\"_2-N8zT\"]')\n",
    "len(stars_tags)"
   ]
  },
  {
   "cell_type": "code",
   "execution_count": 471,
   "id": "d2ccb769",
   "metadata": {},
   "outputs": [
    {
     "data": {
      "text/plain": [
       "['Excellent',\n",
       " 'Terrific purchase',\n",
       " 'Best in the market!',\n",
       " 'Fabulous!',\n",
       " 'Value-for-money',\n",
       " 'Absolute rubbish!',\n",
       " 'Really Nice',\n",
       " 'Terrific purchase',\n",
       " 'Mind-blowing purchase',\n",
       " 'Perfect product!']"
      ]
     },
     "execution_count": 471,
     "metadata": {},
     "output_type": "execute_result"
    }
   ],
   "source": [
    "revsum_titles=[]\n",
    "for i in revsum_tags:\n",
    "    revsum_titles.append(i.text)\n",
    "revsum_titles"
   ]
  },
  {
   "cell_type": "code",
   "execution_count": 472,
   "id": "2a76a104",
   "metadata": {},
   "outputs": [
    {
     "data": {
      "text/plain": [
       "10"
      ]
     },
     "execution_count": 472,
     "metadata": {},
     "output_type": "execute_result"
    }
   ],
   "source": [
    "rev_tags=driver.find_elements_by_xpath('//div[@class=\"t-ZTKy\"]')\n",
    "len(rev_tags)"
   ]
  },
  {
   "cell_type": "code",
   "execution_count": 473,
   "id": "a2784222",
   "metadata": {},
   "outputs": [
    {
     "data": {
      "text/plain": [
       "['Value for money product. This iphone 11 is really amazing. Again nice release by apple. Great camera, battery backup is excellent. I just love this phone',\n",
       " 'Well , as we all know if its not an Iphone , its not an iphone . The iphones are always beast . The camera game has been level up . The A13 Bionic is just fabulous . The update this year are certainly the camera which is damn good with d addition of wide angle lens as well as ultra wide . If anyones purchasing an iphone for the first time , do opt for the black color . Its just feels more than premium . Battery life is damn good with lasting fully a day . Overall a nice package . Well managed...\\nREAD MORE',\n",
       " 'The only thing i didnt like about the phone is its display as its only an non full hd display means its not 1080p one and not an amoled one of course but still better than all the lcds out there in the market but at this price point android alternatives provide 144hz samoled like the rog phone 5, Aside from that the performance is top notch as you would expect from an Iphone and will last you for many years unlike androids who stop getting updates in less than 2 years',\n",
       " \"Just an awesome phone...upgraded from 6s to 11 and trust me guys it's super cool with amazing features..loved it ♥️ and a big thank you to Flipkart for delivering it in just 2 days ?\",\n",
       " 'As usual a great product from Apple. but the look wise there were some scope to make it more attractive. from the back it looks nice. picture quality is awesome . face id is blazing fast. The lightning fast bionic processor makes the phone butter smooth.Battery back up is unbeatable and best of the released iPhone.full display is still missing. however, a iPhone is a iPhone. The iPhone lovers know the value of an iPhone 🙂',\n",
       " 'Worst product delivered by Flipkart\\nAfter 10days of delivery mobile will not work properly\\nVolume and silent buttons are not working.\\nNo worth to buy in Flipkart.\\nPlease don’t buy apple products in Flipkart',\n",
       " \"Great phone and camera and timely delivery by Flipkart!\\nYou wouldn't love the display if you're coming from a one plus or Samsung, go for iPhone 12. If display isn't your priority, this is a great choice.\",\n",
       " 'Very good phone. All the apps are running smoothly. Sleek and sturdy design. No more words for apple as it has its own class.',\n",
       " 'After using more than a year of using iPhone11 here is my complete review:\\n1. Camera is almost perfect 8/10 except for some advantages you’ll see in Samsung S20. (Zoom, Better Image stabilisation etc)\\n2. Battery performance is 10/10\\n3. OS performance is 10/10\\n4. Build Quality 9/10 as you need to buy good quality back cover with tampered\\n5. Face Lock feature is awesome 10/10\\n6. You need to buy new charger but don’t buy more than 18 watt charger optimum is 15 / 18 watt charger. For fast chargin...\\nREAD MORE',\n",
       " \"Awesome Product. Initially I was looking for green color but wasn't available and then I went for white one and believe me it's really awesome color.\"]"
      ]
     },
     "execution_count": 473,
     "metadata": {},
     "output_type": "execute_result"
    }
   ],
   "source": [
    "rev_titles=[]\n",
    "for i in rev_tags:\n",
    "    rev_titles.append(i.text)\n",
    "rev_titles"
   ]
  },
  {
   "cell_type": "code",
   "execution_count": null,
   "id": "bc8d1211",
   "metadata": {},
   "outputs": [],
   "source": [
    "# And as shown above with the help of x path for next button, we can continue to scrape data untill 100 or even more."
   ]
  },
  {
   "cell_type": "code",
   "execution_count": null,
   "id": "308be35f",
   "metadata": {},
   "outputs": [],
   "source": [
    "#Q6. Scrape data for first 100 sneakers you find when you visit flipkart.com and search for “sneakers” in the search field.\n",
    "# To scrape 4 attributes of each sneaker:\n",
    "#1. Brand\n",
    "#2. Product Description\n",
    "#3. Price"
   ]
  },
  {
   "cell_type": "code",
   "execution_count": 477,
   "id": "051f1d20",
   "metadata": {},
   "outputs": [],
   "source": [
    "url=\"https://www.flipkart.com/\"\n",
    "driver.get(url)"
   ]
  },
  {
   "cell_type": "code",
   "execution_count": 480,
   "id": "12332995",
   "metadata": {},
   "outputs": [],
   "source": [
    "search_sneaker=driver.find_element_by_class_name(\"_3704LK\")\n",
    "search_sneaker.send_keys(\"Sneakers\")"
   ]
  },
  {
   "cell_type": "code",
   "execution_count": 481,
   "id": "9f85e7c3",
   "metadata": {},
   "outputs": [],
   "source": [
    "search_btn=driver.find_element_by_class_name(\"_34RNph\")\n",
    "search_btn.click()"
   ]
  },
  {
   "cell_type": "code",
   "execution_count": 482,
   "id": "e5750dab",
   "metadata": {},
   "outputs": [
    {
     "data": {
      "text/plain": [
       "40"
      ]
     },
     "execution_count": 482,
     "metadata": {},
     "output_type": "execute_result"
    }
   ],
   "source": [
    "brand_tags=driver.find_elements_by_xpath('//div [@class=\"_2WkVRV\"]')\n",
    "len(brand_tags)"
   ]
  },
  {
   "cell_type": "code",
   "execution_count": 483,
   "id": "15567d9a",
   "metadata": {},
   "outputs": [
    {
     "data": {
      "text/plain": [
       "['Chevit',\n",
       " 'PUMA',\n",
       " 'BRUTON',\n",
       " 'BRUTON',\n",
       " 'BRUTON',\n",
       " 'World Wear Footwear',\n",
       " 'CLYMB',\n",
       " 'Labbin',\n",
       " 'Shoes Bank',\n",
       " 'SCATCHITE',\n",
       " 'Magnolia',\n",
       " 'BRUTON',\n",
       " 'luxury fashion',\n",
       " 'Noztile',\n",
       " 'BIRDE',\n",
       " 'Chevit',\n",
       " 'Numenzo',\n",
       " 'BRUTON',\n",
       " 'ASTEROID',\n",
       " 'Rzisbo',\n",
       " 'PUMA',\n",
       " 'aadi',\n",
       " 'CLYMB',\n",
       " 'Kraasa',\n",
       " 'World Wear Footwear',\n",
       " 'Kraasa',\n",
       " 'World Wear Footwear',\n",
       " 'RapidBox',\n",
       " 'URBANBOX',\n",
       " 'Chevit',\n",
       " 'PUMA',\n",
       " 'PUMA',\n",
       " 'CLYMB',\n",
       " 'Trendmode',\n",
       " 'ASTEROID',\n",
       " 'Xtoon',\n",
       " 'aadi',\n",
       " 'BRUTON',\n",
       " 'aadi',\n",
       " 'corsac']"
      ]
     },
     "execution_count": 483,
     "metadata": {},
     "output_type": "execute_result"
    }
   ],
   "source": [
    "brand_titles=[]\n",
    "for i in brand_tags:\n",
    "    brand_titles.append(i.text)\n",
    "brand_titles"
   ]
  },
  {
   "cell_type": "code",
   "execution_count": 484,
   "id": "d58ccb5b",
   "metadata": {},
   "outputs": [
    {
     "data": {
      "text/plain": [
       "40"
      ]
     },
     "execution_count": 484,
     "metadata": {},
     "output_type": "execute_result"
    }
   ],
   "source": [
    "prodec_tags=driver.find_elements_by_xpath('//div [@class=\"_2WkVRV\"]')\n",
    "len(prodec_tags)"
   ]
  },
  {
   "cell_type": "code",
   "execution_count": 485,
   "id": "7ebc2971",
   "metadata": {},
   "outputs": [
    {
     "data": {
      "text/plain": [
       "['Chevit',\n",
       " 'PUMA',\n",
       " 'BRUTON',\n",
       " 'BRUTON',\n",
       " 'BRUTON',\n",
       " 'World Wear Footwear',\n",
       " 'CLYMB',\n",
       " 'Labbin',\n",
       " 'Shoes Bank',\n",
       " 'SCATCHITE',\n",
       " 'Magnolia',\n",
       " 'BRUTON',\n",
       " 'luxury fashion',\n",
       " 'Noztile',\n",
       " 'BIRDE',\n",
       " 'Chevit',\n",
       " 'Numenzo',\n",
       " 'BRUTON',\n",
       " 'ASTEROID',\n",
       " 'Rzisbo',\n",
       " 'PUMA',\n",
       " 'aadi',\n",
       " 'CLYMB',\n",
       " 'Kraasa',\n",
       " 'World Wear Footwear',\n",
       " 'Kraasa',\n",
       " 'World Wear Footwear',\n",
       " 'RapidBox',\n",
       " 'URBANBOX',\n",
       " 'Chevit',\n",
       " 'PUMA',\n",
       " 'PUMA',\n",
       " 'CLYMB',\n",
       " 'Trendmode',\n",
       " 'ASTEROID',\n",
       " 'Xtoon',\n",
       " 'aadi',\n",
       " 'BRUTON',\n",
       " 'aadi',\n",
       " 'corsac']"
      ]
     },
     "execution_count": 485,
     "metadata": {},
     "output_type": "execute_result"
    }
   ],
   "source": [
    "prodec_titles=[]\n",
    "for i in prodec_tags:\n",
    "    prodec_titles.append(i.text)\n",
    "prodec_titles"
   ]
  },
  {
   "cell_type": "code",
   "execution_count": 486,
   "id": "72a54684",
   "metadata": {},
   "outputs": [
    {
     "data": {
      "text/plain": [
       "40"
      ]
     },
     "execution_count": 486,
     "metadata": {},
     "output_type": "execute_result"
    }
   ],
   "source": [
    "price_tags=driver.find_elements_by_xpath('//div [@class=\"_30jeq3\"]')\n",
    "len(price_tags)"
   ]
  },
  {
   "cell_type": "code",
   "execution_count": 487,
   "id": "a5e74ef5",
   "metadata": {},
   "outputs": [
    {
     "data": {
      "text/plain": [
       "['₹1,124',\n",
       " '₹1,124',\n",
       " '₹248',\n",
       " '₹639',\n",
       " '₹243',\n",
       " '₹165',\n",
       " '₹649',\n",
       " '₹449',\n",
       " '₹271',\n",
       " '₹234',\n",
       " '₹188',\n",
       " '₹449',\n",
       " '₹474',\n",
       " '₹229',\n",
       " '₹186',\n",
       " '₹359',\n",
       " '₹383',\n",
       " '₹309',\n",
       " '₹181',\n",
       " '₹759',\n",
       " '₹299',\n",
       " '₹269',\n",
       " '₹269',\n",
       " '₹664',\n",
       " '₹459',\n",
       " '₹689',\n",
       " '₹189',\n",
       " '₹1,415',\n",
       " '₹199',\n",
       " '₹174',\n",
       " '₹259',\n",
       " '₹359',\n",
       " '₹276',\n",
       " '₹146',\n",
       " '₹265',\n",
       " '₹664',\n",
       " '₹180',\n",
       " '₹299',\n",
       " '₹225',\n",
       " '₹199',\n",
       " '₹649',\n",
       " '₹1,610',\n",
       " '₹499',\n",
       " '₹259',\n",
       " '₹189',\n",
       " '₹199',\n",
       " '₹259',\n",
       " '₹499',\n",
       " '₹398',\n",
       " '₹398',\n",
       " '₹472',\n",
       " '₹259',\n",
       " '₹429',\n",
       " '₹425',\n",
       " '₹379',\n",
       " '₹489',\n",
       " '₹474',\n",
       " '₹499',\n",
       " '₹499',\n",
       " '₹549',\n",
       " '₹1,924',\n",
       " '₹399',\n",
       " '₹249',\n",
       " '₹499',\n",
       " '₹259',\n",
       " '₹499',\n",
       " '₹259',\n",
       " '₹680',\n",
       " '₹220',\n",
       " '₹299',\n",
       " '₹1,799',\n",
       " '₹1,214',\n",
       " '₹649',\n",
       " '₹199',\n",
       " '₹499',\n",
       " '₹499',\n",
       " '₹499',\n",
       " '₹449',\n",
       " '₹399',\n",
       " '₹499']"
      ]
     },
     "execution_count": 487,
     "metadata": {},
     "output_type": "execute_result"
    }
   ],
   "source": [
    "price_titles=[]\n",
    "for i in price_tags:\n",
    "    price_titles.append(i.text)\n",
    "price_titles"
   ]
  },
  {
   "cell_type": "code",
   "execution_count": 488,
   "id": "c1134976",
   "metadata": {},
   "outputs": [
    {
     "data": {
      "text/plain": [
       "40"
      ]
     },
     "execution_count": 488,
     "metadata": {},
     "output_type": "execute_result"
    }
   ],
   "source": [
    "discount_tags=driver.find_elements_by_xpath('//div [@class=\"_3Ay6Sb\"]')\n",
    "len(discount_tags)"
   ]
  },
  {
   "cell_type": "code",
   "execution_count": 489,
   "id": "92598515",
   "metadata": {},
   "outputs": [
    {
     "data": {
      "text/plain": [
       "['59% off',\n",
       " '53% off',\n",
       " '85% off',\n",
       " '80% off',\n",
       " '68% off',\n",
       " '60% off',\n",
       " '74% off',\n",
       " '50% off',\n",
       " '60% off',\n",
       " '60% off',\n",
       " '52% off',\n",
       " '80% off',\n",
       " '66% off',\n",
       " '78% off',\n",
       " '24% off',\n",
       " '72% off',\n",
       " '76% off',\n",
       " '80% off',\n",
       " '75% off',\n",
       " '45% off',\n",
       " '45% off',\n",
       " '60% off',\n",
       " '75% off',\n",
       " '50% off',\n",
       " '48% off',\n",
       " '50% off',\n",
       " '48% off',\n",
       " '31% off',\n",
       " '77% off',\n",
       " '70% off',\n",
       " '48% off',\n",
       " '59% off',\n",
       " '56% off',\n",
       " '71% off',\n",
       " '50% off',\n",
       " '66% off',\n",
       " '75% off',\n",
       " '82% off',\n",
       " '80% off',\n",
       " '66% off']"
      ]
     },
     "execution_count": 489,
     "metadata": {},
     "output_type": "execute_result"
    }
   ],
   "source": [
    "discount_titles=[]\n",
    "for i in discount_tags:\n",
    "    discount_titles.append(i.text)\n",
    "discount_titles"
   ]
  },
  {
   "cell_type": "code",
   "execution_count": 506,
   "id": "054d3ec3",
   "metadata": {},
   "outputs": [],
   "source": [
    "search_next_btn=driver.find_element_by_xpath('//*[@id=\"container\"]/div/div[3]/div[1]/div[2]/div[12]/div/div/nav/a[11]')\n",
    "search_next_btn.click()"
   ]
  },
  {
   "cell_type": "code",
   "execution_count": 507,
   "id": "26b35c96",
   "metadata": {},
   "outputs": [
    {
     "data": {
      "text/plain": [
       "40"
      ]
     },
     "execution_count": 507,
     "metadata": {},
     "output_type": "execute_result"
    }
   ],
   "source": [
    "brand_tags=driver.find_elements_by_xpath('//div [@class=\"_2WkVRV\"]')\n",
    "len(brand_tags)"
   ]
  },
  {
   "cell_type": "code",
   "execution_count": 509,
   "id": "81d14101",
   "metadata": {},
   "outputs": [
    {
     "data": {
      "text/plain": [
       "['PUMA',\n",
       " 'PUMA',\n",
       " 'CLYMB',\n",
       " 'RapidBox',\n",
       " 'Trendmode',\n",
       " 'ASTEROID',\n",
       " 'Xtoon',\n",
       " 'Roadster',\n",
       " 'aadi',\n",
       " 'BRUTON',\n",
       " 'aadi',\n",
       " 'KNIGHT WALKERS',\n",
       " 'corsac',\n",
       " 'BRUTON',\n",
       " 'D-SNEAKERZ',\n",
       " 'PACIFIKOT',\n",
       " 'bluemaker',\n",
       " 'Robbie jones',\n",
       " 'BRUTON',\n",
       " 'HRX by Hrithik Roshan',\n",
       " 'Elevarse',\n",
       " 'DRESTA',\n",
       " 'Chevit',\n",
       " 'sixXplus',\n",
       " 'KNIGHT WALKERS',\n",
       " 'DUNKASTON',\n",
       " 'PUMA',\n",
       " 'FLYING MACHINE',\n",
       " 'Echor',\n",
       " 'Chevit',\n",
       " 'Robbie jones',\n",
       " 'Destony',\n",
       " 'Zsyto',\n",
       " 'Pieds',\n",
       " 'Arohi',\n",
       " 'RapidBox',\n",
       " 'World Wear Footwear',\n",
       " 'ASIAN',\n",
       " 'RODDICK SHOES',\n",
       " 'Echor']"
      ]
     },
     "execution_count": 509,
     "metadata": {},
     "output_type": "execute_result"
    }
   ],
   "source": [
    "brand_titles=[]\n",
    "for i in brand_tags:\n",
    "    brand_titles.append(i.text)\n",
    "brand_titles"
   ]
  },
  {
   "cell_type": "code",
   "execution_count": 510,
   "id": "c3ac44f4",
   "metadata": {},
   "outputs": [
    {
     "data": {
      "text/plain": [
       "40"
      ]
     },
     "execution_count": 510,
     "metadata": {},
     "output_type": "execute_result"
    }
   ],
   "source": [
    "price_tags=driver.find_elements_by_xpath('//div [@class=\"_30jeq3\"]')\n",
    "len(price_tags)"
   ]
  },
  {
   "cell_type": "code",
   "execution_count": 511,
   "id": "edd29a7a",
   "metadata": {},
   "outputs": [
    {
     "data": {
      "text/plain": [
       "['₹1,799',\n",
       " '₹1,214',\n",
       " '₹649',\n",
       " '₹630',\n",
       " '₹199',\n",
       " '₹499',\n",
       " '₹499',\n",
       " '₹1,599',\n",
       " '₹499',\n",
       " '₹449',\n",
       " '₹399',\n",
       " '₹599',\n",
       " '₹499',\n",
       " '₹259',\n",
       " '₹299',\n",
       " '₹399',\n",
       " '₹499',\n",
       " '₹499',\n",
       " '₹473',\n",
       " '₹2,499',\n",
       " '₹349',\n",
       " '₹499',\n",
       " '₹259',\n",
       " '₹599',\n",
       " '₹599',\n",
       " '₹399',\n",
       " '₹2,289',\n",
       " '₹1,499',\n",
       " '₹499',\n",
       " '₹498',\n",
       " '₹499',\n",
       " '₹399',\n",
       " '₹328',\n",
       " '₹399',\n",
       " '₹435',\n",
       " '₹640',\n",
       " '₹259',\n",
       " '₹549',\n",
       " '₹433',\n",
       " '₹499']"
      ]
     },
     "execution_count": 511,
     "metadata": {},
     "output_type": "execute_result"
    }
   ],
   "source": [
    "price_titles=[]\n",
    "for i in price_tags:\n",
    "    price_titles.append(i.text)\n",
    "price_titles"
   ]
  },
  {
   "cell_type": "code",
   "execution_count": 512,
   "id": "40a56d7f",
   "metadata": {},
   "outputs": [
    {
     "data": {
      "text/plain": [
       "40"
      ]
     },
     "execution_count": 512,
     "metadata": {},
     "output_type": "execute_result"
    }
   ],
   "source": [
    "discount_tags=driver.find_elements_by_xpath('//div [@class=\"_3Ay6Sb\"]')\n",
    "len(discount_tags)"
   ]
  },
  {
   "cell_type": "code",
   "execution_count": 513,
   "id": "efbba7dd",
   "metadata": {},
   "outputs": [
    {
     "data": {
      "text/plain": [
       "['48% off',\n",
       " '59% off',\n",
       " '56% off',\n",
       " '36% off',\n",
       " '71% off',\n",
       " '50% off',\n",
       " '66% off',\n",
       " '51% off',\n",
       " '75% off',\n",
       " '82% off',\n",
       " '80% off',\n",
       " '60% off',\n",
       " '66% off',\n",
       " '80% off',\n",
       " '54% off',\n",
       " '60% off',\n",
       " '50% off',\n",
       " '50% off',\n",
       " '81% off',\n",
       " '41% off',\n",
       " '65% off',\n",
       " '75% off',\n",
       " '67% off',\n",
       " '40% off',\n",
       " '60% off',\n",
       " '73% off',\n",
       " '54% off',\n",
       " '40% off',\n",
       " '50% off',\n",
       " '50% off',\n",
       " '50% off',\n",
       " '60% off',\n",
       " '74% off',\n",
       " '60% off',\n",
       " '56% off',\n",
       " '35% off',\n",
       " '48% off',\n",
       " '31% off',\n",
       " '56% off',\n",
       " '66% off']"
      ]
     },
     "execution_count": 513,
     "metadata": {},
     "output_type": "execute_result"
    }
   ],
   "source": [
    "discount_titles=[]\n",
    "for i in discount_tags:\n",
    "    discount_titles.append(i.text)\n",
    "discount_titles"
   ]
  },
  {
   "cell_type": "code",
   "execution_count": 515,
   "id": "7d482ac2",
   "metadata": {},
   "outputs": [],
   "source": [
    "search_next_btn=driver.find_element_by_xpath('//*[@id=\"container\"]/div/div[3]/div[1]/div[2]/div[12]/div/div/nav/a[4]')\n",
    "search_next_btn.click()"
   ]
  },
  {
   "cell_type": "code",
   "execution_count": 516,
   "id": "df73ced8",
   "metadata": {},
   "outputs": [
    {
     "data": {
      "text/plain": [
       "40"
      ]
     },
     "execution_count": 516,
     "metadata": {},
     "output_type": "execute_result"
    }
   ],
   "source": [
    "brand_tags=driver.find_elements_by_xpath('//div [@class=\"_2WkVRV\"]')\n",
    "len(brand_tags)"
   ]
  },
  {
   "cell_type": "code",
   "execution_count": 520,
   "id": "0df00970",
   "metadata": {},
   "outputs": [
    {
     "data": {
      "text/plain": [
       "['aadi',\n",
       " 'LE GREEM',\n",
       " 'PUMA',\n",
       " 'aadi',\n",
       " 'Magnolia',\n",
       " 'aadi',\n",
       " 'BIRDE',\n",
       " 'Roadster',\n",
       " 'Numenzo',\n",
       " 'Zorth',\n",
       " 'HOTSTYLE',\n",
       " 'Roadster',\n",
       " 'Echor',\n",
       " 'ESSENCE',\n",
       " 'LE GREEM',\n",
       " 'Roadster',\n",
       " 'BRUTON',\n",
       " 'Robbie jones',\n",
       " 'RODDICK SHOES',\n",
       " 'Red Rose']"
      ]
     },
     "execution_count": 520,
     "metadata": {},
     "output_type": "execute_result"
    }
   ],
   "source": [
    "brand_titles=[]\n",
    "for i in brand_tags:\n",
    "    brand_titles.append(i.text)\n",
    "brand_titles[0:20]"
   ]
  },
  {
   "cell_type": "code",
   "execution_count": 521,
   "id": "44249535",
   "metadata": {},
   "outputs": [
    {
     "data": {
      "text/plain": [
       "39"
      ]
     },
     "execution_count": 521,
     "metadata": {},
     "output_type": "execute_result"
    }
   ],
   "source": [
    "discount_tags=driver.find_elements_by_xpath('//div [@class=\"_3Ay6Sb\"]')\n",
    "len(discount_tags)"
   ]
  },
  {
   "cell_type": "code",
   "execution_count": 523,
   "id": "dd6d047c",
   "metadata": {},
   "outputs": [
    {
     "data": {
      "text/plain": [
       "['75% off',\n",
       " '59% off',\n",
       " '59% off',\n",
       " '50% off',\n",
       " '52% off',\n",
       " '75% off',\n",
       " '40% off',\n",
       " '21% off',\n",
       " '66% off',\n",
       " '56% off',\n",
       " '75% off',\n",
       " '43% off',\n",
       " '50% off',\n",
       " '40% off',\n",
       " '59% off',\n",
       " '42% off',\n",
       " '77% off',\n",
       " '54% off',\n",
       " '57% off',\n",
       " '5% off']"
      ]
     },
     "execution_count": 523,
     "metadata": {},
     "output_type": "execute_result"
    }
   ],
   "source": []
  },
  {
   "cell_type": "code",
   "execution_count": 524,
   "id": "fa6c7426",
   "metadata": {},
   "outputs": [
    {
     "data": {
      "text/plain": [
       "40"
      ]
     },
     "execution_count": 524,
     "metadata": {},
     "output_type": "execute_result"
    }
   ],
   "source": [
    "price_tags=driver.find_elements_by_xpath('//div [@class=\"_30jeq3\"]')\n",
    "len(price_tags)"
   ]
  },
  {
   "cell_type": "code",
   "execution_count": 525,
   "id": "0faf45bd",
   "metadata": {},
   "outputs": [
    {
     "data": {
      "text/plain": [
       "['₹404',\n",
       " '₹3,249',\n",
       " '₹499',\n",
       " '₹472',\n",
       " '₹498',\n",
       " '₹299',\n",
       " '₹2,199',\n",
       " '₹429',\n",
       " '₹439',\n",
       " '₹249',\n",
       " '₹1,699',\n",
       " '₹499',\n",
       " '₹599',\n",
       " '₹404',\n",
       " '₹1,899',\n",
       " '₹296',\n",
       " '₹451',\n",
       " '₹428',\n",
       " '₹474']"
      ]
     },
     "execution_count": 525,
     "metadata": {},
     "output_type": "execute_result"
    }
   ],
   "source": [
    "price_titles=[]\n",
    "for i in price_tags:\n",
    "    price_titles.append(i.text)\n",
    "price_titles[1:20]"
   ]
  },
  {
   "cell_type": "code",
   "execution_count": 526,
   "id": "5243ecf3",
   "metadata": {},
   "outputs": [
    {
     "data": {
      "text/plain": [
       "39"
      ]
     },
     "execution_count": 526,
     "metadata": {},
     "output_type": "execute_result"
    }
   ],
   "source": [
    "discount_tags=driver.find_elements_by_xpath('//div [@class=\"_3Ay6Sb\"]')\n",
    "len(discount_tags)"
   ]
  },
  {
   "cell_type": "code",
   "execution_count": 527,
   "id": "0f4503dd",
   "metadata": {},
   "outputs": [
    {
     "data": {
      "text/plain": [
       "['75% off',\n",
       " '59% off',\n",
       " '59% off',\n",
       " '50% off',\n",
       " '52% off',\n",
       " '75% off',\n",
       " '40% off',\n",
       " '21% off',\n",
       " '66% off',\n",
       " '56% off',\n",
       " '75% off',\n",
       " '43% off',\n",
       " '50% off',\n",
       " '40% off',\n",
       " '59% off',\n",
       " '42% off',\n",
       " '77% off',\n",
       " '54% off',\n",
       " '57% off',\n",
       " '5% off']"
      ]
     },
     "execution_count": 527,
     "metadata": {},
     "output_type": "execute_result"
    }
   ],
   "source": [
    "discount_titles=[]\n",
    "for i in discount_tags:\n",
    "    discount_titles.append(i.text)\n",
    "discount_titles[0:20]"
   ]
  },
  {
   "cell_type": "code",
   "execution_count": 5,
   "id": "0d263334",
   "metadata": {},
   "outputs": [],
   "source": [
    " # scrape First 100 shoes data you get. The data should include “Brand” of the shoes , Short Shoe description, price of the shoe"
   ]
  },
  {
   "cell_type": "code",
   "execution_count": 14,
   "id": "56000c72",
   "metadata": {},
   "outputs": [],
   "source": [
    "url=\"https://www.myntra.com/shoes\"\n",
    "driver.get(url)"
   ]
  },
  {
   "cell_type": "code",
   "execution_count": 22,
   "id": "23d388b7",
   "metadata": {},
   "outputs": [],
   "source": [
    "search_price=driver.find_element_by_xpath('//*[@id=\"mountRoot\"]/div/div[1]/main/div[3]/div[1]/section/div/div[5]/ul/li[2]/label/div')\n",
    "search_price.click()"
   ]
  },
  {
   "cell_type": "code",
   "execution_count": 23,
   "id": "70b8175c",
   "metadata": {},
   "outputs": [],
   "source": [
    "search_color=driver.find_element_by_xpath('//*[@id=\"mountRoot\"]/div/div[1]/main/div[3]/div[1]/section/div/div[6]/ul/li[1]/label/div')\n",
    "search_color.click()"
   ]
  },
  {
   "cell_type": "code",
   "execution_count": 24,
   "id": "40cb1384",
   "metadata": {},
   "outputs": [
    {
     "data": {
      "text/plain": [
       "50"
      ]
     },
     "execution_count": 24,
     "metadata": {},
     "output_type": "execute_result"
    }
   ],
   "source": [
    "title_tags=driver.find_elements_by_xpath('//h3[@class=\"product-brand\"]')\n",
    "len(title_tags)"
   ]
  },
  {
   "cell_type": "code",
   "execution_count": 26,
   "id": "11e63476",
   "metadata": {},
   "outputs": [
    {
     "data": {
      "text/plain": [
       "['Red Tape',\n",
       " 'mr.wonker',\n",
       " 'Nike',\n",
       " 'Tommy Hilfiger',\n",
       " 'HRX by Hrithik Roshan',\n",
       " 'Nike',\n",
       " 'Puma',\n",
       " 'Campus',\n",
       " 'Red Tape',\n",
       " 'Street Style Store',\n",
       " 'ALDO',\n",
       " 'MENGLER',\n",
       " 'Roadster',\n",
       " 'Mactree',\n",
       " 'Sir Corbett',\n",
       " 'Nike',\n",
       " 'AfroJack',\n",
       " 'AfroJack',\n",
       " 'Eego Italy',\n",
       " 'Puma',\n",
       " 'HIGHLANDER',\n",
       " 'Mactree',\n",
       " 'Nike',\n",
       " 'Puma',\n",
       " 'Fentacia',\n",
       " 'ALDO',\n",
       " 'TRASE',\n",
       " 'Nike',\n",
       " 'Fentacia',\n",
       " 'HIGHLANDER',\n",
       " 'Nike',\n",
       " 'Puma',\n",
       " 'Red Tape',\n",
       " 'HRX by Hrithik Roshan',\n",
       " 'Provogue',\n",
       " 'Catwalk',\n",
       " 'Nike',\n",
       " 'Puma',\n",
       " 'DressBerry',\n",
       " 'Puma',\n",
       " 'ASIAN',\n",
       " 'Nike',\n",
       " 'Alishtezia',\n",
       " 'Nike',\n",
       " 'Jack & Jones',\n",
       " 'DEAS',\n",
       " 'Roadster',\n",
       " 'ZAPATOZ',\n",
       " 'Puma',\n",
       " 'Melange by Lifestyle']"
      ]
     },
     "execution_count": 26,
     "metadata": {},
     "output_type": "execute_result"
    }
   ],
   "source": [
    "shoe_titles=[]\n",
    "for i in title_tags:\n",
    "    shoe_titles.append(i.text)\n",
    "shoe_titles"
   ]
  },
  {
   "cell_type": "code",
   "execution_count": 32,
   "id": "089a18cc",
   "metadata": {},
   "outputs": [
    {
     "data": {
      "text/plain": [
       "50"
      ]
     },
     "execution_count": 32,
     "metadata": {},
     "output_type": "execute_result"
    }
   ],
   "source": [
    "desc_tags=driver.find_elements_by_class_name('product-product')\n",
    "len(desc_tags)"
   ]
  },
  {
   "cell_type": "code",
   "execution_count": 33,
   "id": "fbb7a3e5",
   "metadata": {},
   "outputs": [
    {
     "data": {
      "text/plain": [
       "['Men Walking Shoes',\n",
       " 'Men Running Shoes',\n",
       " 'Men AIR ZOOM PEGASUS 38',\n",
       " 'Men Solid Loafers',\n",
       " 'Women Running Shoes',\n",
       " 'Kids Revolution 4 Running',\n",
       " 'Women Enzo 2 Running Shoes',\n",
       " 'Men Running Shoes',\n",
       " 'Men Walking Shoes',\n",
       " 'Women Suede High-Top Flat Boots',\n",
       " 'Men Leather Loafers',\n",
       " 'Men Walking Shoes',\n",
       " 'Men Sneakers',\n",
       " 'Men Suede Loafers',\n",
       " 'Semi-Formal Shoes',\n",
       " 'Women Road Running Shoes',\n",
       " 'Men Colourblocked Sneakers',\n",
       " 'Men Printed Sneakers',\n",
       " 'Men Trekking Shoes',\n",
       " 'Women Running Shoes',\n",
       " 'Men Solid Sneakers',\n",
       " 'Men Solid Leather Loafers',\n",
       " 'Women CITYREP TR Training Shoe',\n",
       " 'Unisex R78 SL Sneakers',\n",
       " 'Men Woven Flat Boots',\n",
       " 'Men Printed Sneakers',\n",
       " 'Women Heeled Boots',\n",
       " 'LEGEND ESSENTIAL Training Shoe',\n",
       " 'Men Lightweight Flat Boots',\n",
       " 'Men Sneakers',\n",
       " 'Kids REVOLUTION 4 Shoes',\n",
       " 'Unisex Caracal Sneakers',\n",
       " 'Men Solid Leather Formal Derbys',\n",
       " 'Men Alpha Running Shoe',\n",
       " 'Men Black Solid Formal Debys',\n",
       " 'Women Sandals',\n",
       " 'Men Court Lite 2 Tennis Shoes',\n",
       " 'Men Running Shoes',\n",
       " 'Women Flats',\n",
       " 'Men Sneakers',\n",
       " 'Men Running Shoes',\n",
       " 'Men Vapor Lite HC Tennis Shoes',\n",
       " 'Women Walking Shoes',\n",
       " 'Women MD Runner 2 SE Running',\n",
       " 'Men Colourblocked PU Sneakers',\n",
       " 'Women Mules Flats',\n",
       " 'Men Solid Chelsea Boots',\n",
       " 'Women Heeled Boots',\n",
       " 'Men Running Shoes',\n",
       " 'Women Ballerinas']"
      ]
     },
     "execution_count": 33,
     "metadata": {},
     "output_type": "execute_result"
    }
   ],
   "source": [
    "shoe_desc=[]\n",
    "for i in desc_tags:\n",
    "    shoe_desc.append(i.text)\n",
    "shoe_desc"
   ]
  },
  {
   "cell_type": "code",
   "execution_count": 39,
   "id": "ea2e1842",
   "metadata": {},
   "outputs": [
    {
     "data": {
      "text/plain": [
       "50"
      ]
     },
     "execution_count": 39,
     "metadata": {},
     "output_type": "execute_result"
    }
   ],
   "source": [
    "price_tags=driver.find_elements_by_class_name('product-price')\n",
    "len(price_tags)"
   ]
  },
  {
   "cell_type": "code",
   "execution_count": 40,
   "id": "1e30c7a5",
   "metadata": {},
   "outputs": [
    {
     "data": {
      "text/plain": [
       "['Rs. 1679Rs. 5599(70% OFF)',\n",
       " 'Rs. 776Rs. 3699(79% OFF)',\n",
       " 'Rs. 10920Rs. 11495(5% OFF)',\n",
       " 'Rs. 8999',\n",
       " 'Rs. 1639Rs. 4099(60% OFF)',\n",
       " 'Rs. 999Rs. 3495(Rs. 2496 OFF)',\n",
       " 'Rs. 3024Rs. 5499(45% OFF)',\n",
       " 'Rs. 1049',\n",
       " 'Rs. 1739Rs. 5799(70% OFF)',\n",
       " 'Rs. 1199Rs. 1999(Rs. 800 OFF)',\n",
       " 'Rs. 15999',\n",
       " 'Rs. 799Rs. 3999(80% OFF)',\n",
       " 'Rs. 1599Rs. 3199(50% OFF)',\n",
       " 'Rs. 898Rs. 4490(80% OFF)',\n",
       " 'Rs. 884Rs. 2949(70% OFF)',\n",
       " 'Rs. 3510Rs. 3695(5% OFF)',\n",
       " 'Rs. 749Rs. 3745(80% OFF)',\n",
       " 'Rs. 749Rs. 3745(80% OFF)',\n",
       " 'Rs. 999Rs. 2599(Rs. 1600 OFF)',\n",
       " 'Rs. 1759Rs. 3999(56% OFF)',\n",
       " 'Rs. 995Rs. 1990(50% OFF)',\n",
       " 'Rs. 898Rs. 4490(80% OFF)',\n",
       " 'Rs. 4745Rs. 4995(5% OFF)',\n",
       " 'Rs. 3999Rs. 4999(20% OFF)',\n",
       " 'Rs. 899Rs. 4499(80% OFF)',\n",
       " 'Rs. 9099Rs. 12999(30% OFF)',\n",
       " 'Rs. 899Rs. 1999(55% OFF)',\n",
       " 'Rs. 4045Rs. 4495(10% OFF)',\n",
       " 'Rs. 1259Rs. 5999(79% OFF)',\n",
       " 'Rs. 995Rs. 1990(50% OFF)',\n",
       " 'Rs. 999Rs. 3495(Rs. 2496 OFF)',\n",
       " 'Rs. 3749Rs. 4999(25% OFF)',\n",
       " 'Rs. 1699Rs. 6799(75% OFF)',\n",
       " 'Rs. 1679Rs. 4799(65% OFF)',\n",
       " 'Rs. 1099Rs. 4495(Rs. 3396 OFF)',\n",
       " 'Rs. 1382Rs. 2095(34% OFF)',\n",
       " 'Rs. 4995',\n",
       " 'Rs. 2199Rs. 3999(45% OFF)',\n",
       " 'Rs. 699Rs. 1999(65% OFF)',\n",
       " 'Rs. 2364Rs. 4299(45% OFF)',\n",
       " 'Rs. 799Rs. 1499(Rs. 700 OFF)',\n",
       " 'Rs. 6455Rs. 6795(5% OFF)',\n",
       " 'Rs. 799Rs. 999(20% OFF)',\n",
       " 'Rs. 5215Rs. 5795(10% OFF)',\n",
       " 'Rs. 3999',\n",
       " 'Rs. 599Rs. 999(40% OFF)',\n",
       " 'Rs. 999Rs. 2599(Rs. 1600 OFF)',\n",
       " 'Rs. 689Rs. 999(31% OFF)',\n",
       " 'Rs. 2099Rs. 2999(30% OFF)',\n",
       " 'Rs. 1199Rs. 1599(25% OFF)']"
      ]
     },
     "execution_count": 40,
     "metadata": {},
     "output_type": "execute_result"
    }
   ],
   "source": [
    "price=[]\n",
    "for i in price_tags:\n",
    "    price.append(i.text)\n",
    "price"
   ]
  },
  {
   "cell_type": "code",
   "execution_count": 41,
   "id": "9dd57b9c",
   "metadata": {},
   "outputs": [],
   "source": [
    "search_next_btn=driver.find_element_by_xpath('//*[@id=\"desktopSearchResults\"]/div[2]/section/div[2]/ul/li[12]/a')\n",
    "search_next_btn.click()"
   ]
  },
  {
   "cell_type": "code",
   "execution_count": 42,
   "id": "0da1b392",
   "metadata": {},
   "outputs": [
    {
     "data": {
      "text/plain": [
       "50"
      ]
     },
     "execution_count": 42,
     "metadata": {},
     "output_type": "execute_result"
    }
   ],
   "source": [
    "title_tags=driver.find_elements_by_xpath('//h3[@class=\"product-brand\"]')\n",
    "len(title_tags)"
   ]
  },
  {
   "cell_type": "code",
   "execution_count": 45,
   "id": "f6629132",
   "metadata": {},
   "outputs": [
    {
     "data": {
      "text/plain": [
       "['Puma',\n",
       " 'Melange by Lifestyle',\n",
       " 'Sparx',\n",
       " 'DressBerry',\n",
       " 'Red Tape',\n",
       " 'mr.wonker',\n",
       " 'AfroJack',\n",
       " 'Mast & Harbour',\n",
       " 'STALK',\n",
       " 'Provogue',\n",
       " 'CLYMB',\n",
       " 'U.S. Polo Assn.',\n",
       " 'Puma',\n",
       " 'HRX by Hrithik Roshan',\n",
       " 'mr.wonker',\n",
       " 'Bata',\n",
       " 'Puma',\n",
       " 'Fentacia',\n",
       " 'HRX by Hrithik Roshan',\n",
       " 'Red Tape',\n",
       " 'DressBerry',\n",
       " 'Puma',\n",
       " 'WROGN',\n",
       " 'Louis Philippe',\n",
       " 'Sparx',\n",
       " 'Puma',\n",
       " 'Provogue',\n",
       " 'HRX by Hrithik Roshan',\n",
       " 'Nike',\n",
       " 'Campus',\n",
       " 'HRX by Hrithik Roshan',\n",
       " 'Monrow',\n",
       " 'one8 x PUMA',\n",
       " 'Quechua By Decathlon',\n",
       " 'Crocs',\n",
       " 'Puma',\n",
       " 'Mast & Harbour',\n",
       " 'Provogue',\n",
       " 'Louis Philippe Sport',\n",
       " 'ADIDAS',\n",
       " 'HRX by Hrithik Roshan',\n",
       " 'AfroJack',\n",
       " 'Campus',\n",
       " 'Red Chief',\n",
       " 'Sparx',\n",
       " 'Sparx',\n",
       " 'AfroJack',\n",
       " 'H&M',\n",
       " 'HIGHLANDER',\n",
       " 'Red Tape']"
      ]
     },
     "execution_count": 45,
     "metadata": {},
     "output_type": "execute_result"
    }
   ],
   "source": [
    "shoe_titles=[]\n",
    "for i in title_tags:\n",
    "    shoe_titles.append(i.text)\n",
    "shoe_titles"
   ]
  },
  {
   "cell_type": "code",
   "execution_count": 47,
   "id": "420d941b",
   "metadata": {},
   "outputs": [
    {
     "data": {
      "text/plain": [
       "50"
      ]
     },
     "execution_count": 47,
     "metadata": {},
     "output_type": "execute_result"
    }
   ],
   "source": [
    "desc_tags=driver.find_elements_by_class_name('product-product')\n",
    "len(desc_tags)"
   ]
  },
  {
   "cell_type": "code",
   "execution_count": 48,
   "id": "ff46f068",
   "metadata": {},
   "outputs": [
    {
     "data": {
      "text/plain": [
       "['Men Running Shoes',\n",
       " 'Women Ballerinas',\n",
       " 'Men Running Shoes',\n",
       " 'Women Colourblocked Sneakers',\n",
       " 'Men Leather Flat Boots',\n",
       " 'Men Solid Formal Loafers',\n",
       " 'Men Slip-On Sneakers Casual Shoes',\n",
       " 'Men Slip-On Sneakers',\n",
       " 'Women Open Toe Flats',\n",
       " 'Men Solid Horsebit Loafers',\n",
       " 'Men Running Shoes',\n",
       " 'Men TERRI Slip-On Sneakers',\n",
       " 'Flex Essential Running Shoes',\n",
       " 'Men Urban Outdoor Running Shoe',\n",
       " 'Men Running Shoes',\n",
       " 'Men Solid Formal Slip-Ons',\n",
       " 'Men Concave V4 Running Shoes',\n",
       " 'Men Perforations Loafers',\n",
       " 'Men Hoop Life Sneakers',\n",
       " 'Men Solid Leather Formal Derbys',\n",
       " 'Women Striped Flats',\n",
       " 'Men Sneakers',\n",
       " 'Men Woven Design Slip-On Sneakers',\n",
       " 'Men Solid Leather Formal Derby',\n",
       " 'Men Sneakers',\n",
       " 'Men Sneakers',\n",
       " 'Men Solid Formal Derbys',\n",
       " 'Men FlexStreet Athleisure Shoe',\n",
       " 'Men Blazer Court Skateboarding',\n",
       " 'Men Running Shoes',\n",
       " 'Marble Knit Running Shoes',\n",
       " 'Women Sandals',\n",
       " 'Men Trot IDP Slip-on Run Shoes',\n",
       " 'Women Snow Hiking Shoes',\n",
       " 'Women Open Toe Flats',\n",
       " 'Men Running Shoes',\n",
       " 'Women Solid Open Toe Flats',\n",
       " 'Men Perforations Loafers',\n",
       " 'Men Solid Sneakers & Shoehorn',\n",
       " 'Men Zan Trail Hiking Shoes',\n",
       " 'Men Fly Sneaker',\n",
       " 'Men High-Top Flat Boots',\n",
       " 'Men Running Shoes',\n",
       " 'Men Solid Leather Derbys',\n",
       " 'Men Sneakers',\n",
       " 'Men Running Shoes',\n",
       " 'Men Slip-On Sneakers',\n",
       " 'Women Casual Shoes',\n",
       " 'Men Solid Sneakers',\n",
       " 'Men Walking Shoes']"
      ]
     },
     "execution_count": 48,
     "metadata": {},
     "output_type": "execute_result"
    }
   ],
   "source": [
    "shoe_desc=[]\n",
    "for i in desc_tags:\n",
    "    shoe_desc.append(i.text)\n",
    "shoe_desc"
   ]
  },
  {
   "cell_type": "code",
   "execution_count": 49,
   "id": "1ca7facd",
   "metadata": {},
   "outputs": [
    {
     "data": {
      "text/plain": [
       "50"
      ]
     },
     "execution_count": 49,
     "metadata": {},
     "output_type": "execute_result"
    }
   ],
   "source": [
    "price_tags=driver.find_elements_by_class_name('product-price')\n",
    "len(price_tags)"
   ]
  },
  {
   "cell_type": "code",
   "execution_count": 50,
   "id": "131105d9",
   "metadata": {},
   "outputs": [
    {
     "data": {
      "text/plain": [
       "['Rs. 2099Rs. 2999(30% OFF)',\n",
       " 'Rs. 1199Rs. 1599(25% OFF)',\n",
       " 'Rs. 1033Rs. 1099(6% OFF)',\n",
       " 'Rs. 1924Rs. 3499(45% OFF)',\n",
       " 'Rs. 2189Rs. 7299(70% OFF)',\n",
       " 'Rs. 699Rs. 3329(79% OFF)',\n",
       " 'Rs. 799Rs. 3995(80% OFF)',\n",
       " 'Rs. 1449Rs. 2899(50% OFF)',\n",
       " 'Rs. 449Rs. 899(50% OFF)',\n",
       " 'Rs. 849Rs. 4245(80% OFF)',\n",
       " 'Rs. 749Rs. 1499(50% OFF)',\n",
       " 'Rs. 2399Rs. 3999(40% OFF)',\n",
       " 'Rs. 2399Rs. 2999(20% OFF)',\n",
       " 'Rs. 2749Rs. 5499(50% OFF)',\n",
       " 'Rs. 699Rs. 3329(79% OFF)',\n",
       " 'Rs. 1066',\n",
       " 'Rs. 2599Rs. 3999(35% OFF)',\n",
       " 'Rs. 899Rs. 4499(80% OFF)',\n",
       " 'Rs. 2449Rs. 4899(50% OFF)',\n",
       " 'Rs. 1699Rs. 6799(75% OFF)',\n",
       " 'Rs. 664Rs. 1899(65% OFF)',\n",
       " 'Rs. 1999Rs. 3999(50% OFF)',\n",
       " 'Rs. 2719Rs. 3199(15% OFF)',\n",
       " 'Rs. 3399Rs. 3999(15% OFF)',\n",
       " 'Rs. 1281Rs. 1349(5% OFF)',\n",
       " 'Rs. 2599Rs. 3999(35% OFF)',\n",
       " 'Rs. 999Rs. 4495(Rs. 3496 OFF)',\n",
       " 'Rs. 2939Rs. 4899(40% OFF)',\n",
       " 'Rs. 7495',\n",
       " 'Rs. 799',\n",
       " 'Rs. 1799Rs. 3599(50% OFF)',\n",
       " 'Rs. 1299Rs. 2599(Rs. 1300 OFF)',\n",
       " 'Rs. 2749Rs. 4999(45% OFF)',\n",
       " 'Rs. 2499',\n",
       " 'Rs. 1856Rs. 2995(38% OFF)',\n",
       " 'Rs. 3609Rs. 3799(5% OFF)',\n",
       " 'Rs. 599Rs. 1999(70% OFF)',\n",
       " 'Rs. 749Rs. 3745(80% OFF)',\n",
       " 'Rs. 3079Rs. 3999(23% OFF)',\n",
       " 'Rs. 4499Rs. 4999(10% OFF)',\n",
       " 'Rs. 1719Rs. 4299(60% OFF)',\n",
       " 'Rs. 799Rs. 3995(80% OFF)',\n",
       " 'Rs. 1546Rs. 1699(9% OFF)',\n",
       " 'Rs. 2149Rs. 4299(50% OFF)',\n",
       " 'Rs. 1049',\n",
       " 'Rs. 1111Rs. 1249(11% OFF)',\n",
       " 'Rs. 699Rs. 3495(80% OFF)',\n",
       " 'Rs. 1999',\n",
       " 'Rs. 796Rs. 1990(60% OFF)',\n",
       " 'Rs. 1469Rs. 4899(70% OFF)']"
      ]
     },
     "execution_count": 50,
     "metadata": {},
     "output_type": "execute_result"
    }
   ],
   "source": [
    "price=[]\n",
    "for i in price_tags:\n",
    "    price.append(i.text)\n",
    "price"
   ]
  },
  {
   "cell_type": "code",
   "execution_count": 51,
   "id": "14002521",
   "metadata": {},
   "outputs": [],
   "source": [
    "#Q8. scrape 3 attributes for each laptop:1. Title 2. Ratings 3. Price\n"
   ]
  },
  {
   "cell_type": "code",
   "execution_count": 349,
   "id": "321879e9",
   "metadata": {},
   "outputs": [],
   "source": [
    "url=\"https://www.amazon.in/\"\n",
    "driver.get(url)"
   ]
  },
  {
   "cell_type": "code",
   "execution_count": 360,
   "id": "8ba8d15d",
   "metadata": {},
   "outputs": [
    {
     "data": {
      "text/plain": [
       "<selenium.webdriver.remote.webelement.WebElement (session=\"df55f33db158f87c6601f86480a9a8cd\", element=\"c9dc83d1-4de6-46c1-a758-dc4bcc259d94\")>"
      ]
     },
     "execution_count": 360,
     "metadata": {},
     "output_type": "execute_result"
    }
   ],
   "source": [
    "search_lap=driver.find_element_by_xpath('//*[@id=\"twotabsearchtextbox\"]')\n",
    "search_lap"
   ]
  },
  {
   "cell_type": "code",
   "execution_count": null,
   "id": "33b25395",
   "metadata": {},
   "outputs": [],
   "source": [
    "search_lap.send_keys(\"Laptop\")"
   ]
  },
  {
   "cell_type": "code",
   "execution_count": 369,
   "id": "5a4d08d2",
   "metadata": {},
   "outputs": [
    {
     "data": {
      "text/plain": [
       "<selenium.webdriver.remote.webelement.WebElement (session=\"df55f33db158f87c6601f86480a9a8cd\", element=\"9e0952fe-04da-402f-82eb-6a9356ad4da7\")>"
      ]
     },
     "execution_count": 369,
     "metadata": {},
     "output_type": "execute_result"
    }
   ],
   "source": [
    "search_btn=driver.find_element_by_xpath('//*[@id=\"nav-search-bar-form\"]/div[3]' )\n",
    "search_btn"
   ]
  },
  {
   "cell_type": "code",
   "execution_count": 370,
   "id": "419dd0ce",
   "metadata": {},
   "outputs": [],
   "source": [
    "search_btn.click()"
   ]
  },
  {
   "cell_type": "code",
   "execution_count": 371,
   "id": "5b8b41a6",
   "metadata": {},
   "outputs": [
    {
     "data": {
      "text/plain": [
       "23"
      ]
     },
     "execution_count": 371,
     "metadata": {},
     "output_type": "execute_result"
    }
   ],
   "source": [
    "title_tags=driver.find_elements_by_xpath('//span [@class=\"a-size-medium a-color-base a-text-normal\"]')\n",
    "len(title_tags)"
   ]
  },
  {
   "cell_type": "code",
   "execution_count": 372,
   "id": "806149ff",
   "metadata": {},
   "outputs": [
    {
     "data": {
      "text/plain": [
       "['LG Gram 14 inches Ultra-Light Intel Evo 11th Gen Core i7 Laptop (16 GB RAM, 512 GB SSD, New Windows 11 Home Preload, Iris Xe Graphics, USC -C x 2 (with Power), 0.999Kg, (14Z90P-G.AH85A2, Black)',\n",
       " 'LG Gram 17-inches Ultra-Light Intel Evo 11th Gen Core i5,8 GB RAM, 512 GB SSD, New Win-11 Preload, Iris Xe Graphics, USC -C x 2 (with Power), 1.35 kg, 3 Yr Warranty (17Z90P-G.AJ65A2, Black)',\n",
       " 'Lenovo Chromebook 14e 14.0\" FHD Business Laptop (AMD 3015Ce Processor/4GB DDR4 RAM/64GB Storage eMMC/AMD Radeon Graphics/Chrome OS/Grey) 82M10019HA',\n",
       " 'Dell 15 (2021) Athlon Silver 3050U, 4GB, 256GB SSD, Win 11 + MS Office\\'21, AMD Vega Graphics, , 15.6\" (39.62 cms) HD Display, Carbon Black (Inspiron 3515, D560702WIN9BE)',\n",
       " 'HP Chromebook 14 Intel Celeron N4020-4GB SDRAM/64GB eMMC + 256GB Expandable Storage 14inch(35.6 cm) Thin & Light Touchscreen Laptop (Chrome OS/B&O/Google Assistant/BL Keyboard/1.46 kg),14a-na0003TU',\n",
       " 'Zenly Laptop Stand,Adjustable Table Laptop Stand,Aluminum Laptop Stands,Ergonomic Laptop Stands Compatible with MacBook Air Pro,Lenovo More 10-15.6\" Laptops (Silver)',\n",
       " 'HP Pavilion 14 Intel 11th Gen i5 14 inches Laptop (16GB RAM/512GB SSD, FHD IPS Anti-Glare Display/Iris X Graphics/Backlit KB/B&O Audio/Fingerprint Reader/Win 11 Home/Thin & Light/1.41kg, 14-dv1001TU)',\n",
       " 'Lenovo IdeaPad Slim 1 Intel Celeron N4020 11.6\" (29.46cm) HD Thin & Light Laptop (4GB/256 GB SSD/Windows 10/MS Office/Platinum Grey/1.2Kg), 81VT0071IN',\n",
       " 'Lenovo IdeaPad Slim 3 10th Gen Intel Core i3 14\" (35.56cm) FHD Thin & Light Laptop (4GB/256GB SSD/Windows 11/MS Office 2021/2Year Warranty/Abyss Blue/1.6Kg), 81WD0141IN',\n",
       " 'ASUS VivoBook 14 (2021), 14-inch (35.56 cms) FHD, Intel Core i7-1065G7 10th Gen, Thin and Light Laptop (16GB/512GB SSD/Integrated Graphics/Office 2021/Windows 11/Silver/1.6 Kg), X415JA-EK701WS']"
      ]
     },
     "execution_count": 372,
     "metadata": {},
     "output_type": "execute_result"
    }
   ],
   "source": [
    "titles=[]\n",
    "for i in title_tags:\n",
    "    titles.append(i.text)\n",
    "titles[0:10]"
   ]
  },
  {
   "cell_type": "code",
   "execution_count": 441,
   "id": "4f1c0256",
   "metadata": {},
   "outputs": [
    {
     "data": {
      "text/plain": [
       "26"
      ]
     },
     "execution_count": 441,
     "metadata": {},
     "output_type": "execute_result"
    }
   ],
   "source": [
    "rating_tags=driver.find_elements_by_xpath('//div[@class=\"a-row a-size-small\"]')\n",
    "len(rating_tags)"
   ]
  },
  {
   "cell_type": "code",
   "execution_count": 442,
   "id": "c8b0efdb",
   "metadata": {},
   "outputs": [
    {
     "data": {
      "text/plain": [
       "['71', '32', '43', '19', '1,006', '30', '449', '1,726', '', '1,653']"
      ]
     },
     "execution_count": 442,
     "metadata": {},
     "output_type": "execute_result"
    }
   ],
   "source": [
    "rating_titles=[]\n",
    "for i in rating_tags:\n",
    "    rating_titles.append(i.text)\n",
    "rating_titles[0:10]"
   ]
  },
  {
   "cell_type": "code",
   "execution_count": 435,
   "id": "5a3632ef",
   "metadata": {},
   "outputs": [
    {
     "data": {
      "text/plain": [
       "26"
      ]
     },
     "execution_count": 435,
     "metadata": {},
     "output_type": "execute_result"
    }
   ],
   "source": [
    "price_tags=driver.find_elements_by_xpath('//span[@class=\"a-price-whole\"]')\n",
    "len(price_tags)"
   ]
  },
  {
   "cell_type": "code",
   "execution_count": 436,
   "id": "c1147f80",
   "metadata": {},
   "outputs": [
    {
     "data": {
      "text/plain": [
       "['85,999',\n",
       " '84,999',\n",
       " '20,990',\n",
       " '34,990',\n",
       " '26,990',\n",
       " '1,299',\n",
       " '78,990',\n",
       " '55,000',\n",
       " '',\n",
       " '67,990']"
      ]
     },
     "execution_count": 436,
     "metadata": {},
     "output_type": "execute_result"
    }
   ],
   "source": [
    "price_titles=[]\n",
    "for i in price_tags:\n",
    "    price_titles.append(i.text)\n",
    "price_titles[0:10]"
   ]
  },
  {
   "cell_type": "code",
   "execution_count": null,
   "id": "a67e26ab",
   "metadata": {},
   "outputs": [],
   "source": [
    "# Q9. python program to scrape data for first 10 job results for Data Scientist Designation in Noida location.scrape company name, No. of days ago when job was posted, Rating of the company."
   ]
  },
  {
   "cell_type": "code",
   "execution_count": 213,
   "id": "a1e5791d",
   "metadata": {},
   "outputs": [],
   "source": [
    "url=\"https://www.ambitionbox.com/jobs\"\n",
    "driver.get(url)"
   ]
  },
  {
   "cell_type": "code",
   "execution_count": 214,
   "id": "06627b3c",
   "metadata": {},
   "outputs": [
    {
     "data": {
      "text/plain": [
       "<selenium.webdriver.remote.webelement.WebElement (session=\"807478440b8a2b24a061393ef2d268e4\", element=\"1f131c1d-c347-42fd-92bc-1cbda140b312\")>"
      ]
     },
     "execution_count": 214,
     "metadata": {},
     "output_type": "execute_result"
    }
   ],
   "source": [
    "search_job=driver.find_element_by_xpath('//*[@id=\"jobs-typeahead\"]/span/input ')\n",
    "search_job"
   ]
  },
  {
   "cell_type": "code",
   "execution_count": 215,
   "id": "ba791178",
   "metadata": {},
   "outputs": [],
   "source": [
    "search_job.send_keys(\"Data Scientist\")"
   ]
  },
  {
   "cell_type": "code",
   "execution_count": 216,
   "id": "ad22b3ee",
   "metadata": {},
   "outputs": [
    {
     "data": {
      "text/plain": [
       "<selenium.webdriver.remote.webelement.WebElement (session=\"807478440b8a2b24a061393ef2d268e4\", element=\"bee8ab85-5e67-4d54-907b-bb0d3512a93d\")>"
      ]
     },
     "execution_count": 216,
     "metadata": {},
     "output_type": "execute_result"
    }
   ],
   "source": [
    "search_btn=driver.find_element_by_class_name(\"ctas-btn-medium\" )\n",
    "search_btn"
   ]
  },
  {
   "cell_type": "code",
   "execution_count": 217,
   "id": "e2a65c9b",
   "metadata": {},
   "outputs": [],
   "source": [
    "search_btn.click()"
   ]
  },
  {
   "cell_type": "code",
   "execution_count": 218,
   "id": "345fa4a0",
   "metadata": {},
   "outputs": [
    {
     "data": {
      "text/plain": [
       "<selenium.webdriver.remote.webelement.WebElement (session=\"807478440b8a2b24a061393ef2d268e4\", element=\"677e1fe1-e953-45d4-8c62-76470c2d168d\")>"
      ]
     },
     "execution_count": 218,
     "metadata": {},
     "output_type": "execute_result"
    }
   ],
   "source": [
    "search_loc=driver.find_element_by_xpath('//*[@id=\"filters-row\"]/div/div/div[2]/div[1]/i')\n",
    "search_loc"
   ]
  },
  {
   "cell_type": "code",
   "execution_count": 219,
   "id": "6ffa725b",
   "metadata": {},
   "outputs": [],
   "source": [
    "search_loc.click()"
   ]
  },
  {
   "cell_type": "code",
   "execution_count": 226,
   "id": "20a334b3",
   "metadata": {},
   "outputs": [
    {
     "data": {
      "text/plain": [
       "<selenium.webdriver.remote.webelement.WebElement (session=\"807478440b8a2b24a061393ef2d268e4\", element=\"c5347bf7-623b-4c36-b2d2-8a314686519e\")>"
      ]
     },
     "execution_count": 226,
     "metadata": {},
     "output_type": "execute_result"
    }
   ],
   "source": [
    "search_btn=driver.find_element_by_xpath('//*[@id=\"location_Noida\"]')\n",
    "search_btn"
   ]
  },
  {
   "cell_type": "code",
   "execution_count": 227,
   "id": "0d24e0f4",
   "metadata": {},
   "outputs": [],
   "source": [
    "search_btn.click()"
   ]
  },
  {
   "cell_type": "code",
   "execution_count": 230,
   "id": "4c2e3f87",
   "metadata": {},
   "outputs": [
    {
     "data": {
      "text/plain": [
       "11"
      ]
     },
     "execution_count": 230,
     "metadata": {},
     "output_type": "execute_result"
    }
   ],
   "source": [
    "company_tags=driver.find_elements_by_xpath('//div[@class=\"company-info\"]')\n",
    "len(company_tags)"
   ]
  },
  {
   "cell_type": "code",
   "execution_count": 231,
   "id": "3ce8c7c7",
   "metadata": {},
   "outputs": [
    {
     "data": {
      "text/plain": [
       "['Jubilant Foodworks Limited\\n · \\n3.9\\nbased on 534 Reviews',\n",
       " 'Jubilant Foodworks Limited\\n3.9\\n(534 Reviews)',\n",
       " 'HCL Technologies\\n3.8\\n(15.5k Reviews)',\n",
       " 'EY GDS\\n3.7\\n(4k Reviews)',\n",
       " 'Tavant Technologies India Pvt. Ltd.\\n4.0\\n(256 Reviews)',\n",
       " 'Denave India Pvt Ltd.\\n4.0\\n(370 Reviews)',\n",
       " 'EXL Service\\n3.8\\n(3.8k Reviews)',\n",
       " 'CHT Sapiense\\n3.8\\n(112 Reviews)',\n",
       " 'Pitney Bowes India Pvt ltd\\n4.2\\n(97 Reviews)',\n",
       " 'Zyoin\\n4.1\\n(68 Reviews)',\n",
       " 'Ameriprise Financial\\n4.0\\n(280 Reviews)']"
      ]
     },
     "execution_count": 231,
     "metadata": {},
     "output_type": "execute_result"
    }
   ],
   "source": [
    "company_titles=[]\n",
    "for i in company_tags:\n",
    "    company_titles.append(i.text)\n",
    "company_titles"
   ]
  },
  {
   "cell_type": "code",
   "execution_count": 243,
   "id": "2a4c7eb1",
   "metadata": {},
   "outputs": [
    {
     "data": {
      "text/plain": [
       "11"
      ]
     },
     "execution_count": 243,
     "metadata": {},
     "output_type": "execute_result"
    }
   ],
   "source": [
    "rating_tags=driver.find_elements_by_xpath('//i[@class=\"icon icon-star\"]')\n",
    "len(rating_tags)"
   ]
  },
  {
   "cell_type": "code",
   "execution_count": 250,
   "id": "8a312454",
   "metadata": {},
   "outputs": [
    {
     "data": {
      "text/plain": [
       "['', '', '', '', '', '', '', '', '', '', '']"
      ]
     },
     "execution_count": 250,
     "metadata": {},
     "output_type": "execute_result"
    }
   ],
   "source": [
    "rating_titles=[]\n",
    "for i in rating_tags:\n",
    "    rating_titles.append(i.text)\n",
    "rating_titles"
   ]
  },
  {
   "cell_type": "code",
   "execution_count": 251,
   "id": "679508a0",
   "metadata": {},
   "outputs": [
    {
     "data": {
      "text/plain": [
       "20"
      ]
     },
     "execution_count": 251,
     "metadata": {},
     "output_type": "execute_result"
    }
   ],
   "source": [
    "days_tags=driver.find_elements_by_xpath('//span[@class=\"body-small-l\"]')\n",
    "len(days_tags)"
   ]
  },
  {
   "cell_type": "code",
   "execution_count": 252,
   "id": "fb62b5fc",
   "metadata": {},
   "outputs": [
    {
     "data": {
      "text/plain": [
       "['12d ago',\n",
       " 'via naukri.com',\n",
       " '26d ago',\n",
       " 'via naukri.com',\n",
       " '27d ago',\n",
       " 'via iimjobs.com',\n",
       " '7d ago',\n",
       " 'via naukri.com',\n",
       " '7d ago',\n",
       " 'via naukri.com',\n",
       " '19d ago',\n",
       " 'via naukri.com',\n",
       " '17hr ago',\n",
       " 'via iimjobs.com',\n",
       " '27d ago',\n",
       " 'via naukri.com',\n",
       " '5d ago',\n",
       " 'via hirist.com',\n",
       " '1mon ago',\n",
       " 'via naukri.com']"
      ]
     },
     "execution_count": 252,
     "metadata": {},
     "output_type": "execute_result"
    }
   ],
   "source": [
    "days_titles=[]\n",
    "for i in days_tags:\n",
    "    days_titles.append(i.text)\n",
    "days_titles"
   ]
  },
  {
   "cell_type": "code",
   "execution_count": 253,
   "id": "ffdd9f01",
   "metadata": {},
   "outputs": [],
   "source": [
    "# Q10.python program to scrape the salary data for Data Scientist designation.scrape Company name, Number of salaries, Average salary, Minsalary, Max Salary."
   ]
  },
  {
   "cell_type": "code",
   "execution_count": 447,
   "id": "7b4ab196",
   "metadata": {},
   "outputs": [],
   "source": [
    "url=\"https://www.ambitionbox.com/salaries\"\n",
    "driver.get(url)"
   ]
  },
  {
   "cell_type": "code",
   "execution_count": 448,
   "id": "e3cb84cc",
   "metadata": {},
   "outputs": [
    {
     "data": {
      "text/plain": [
       "<selenium.webdriver.remote.webelement.WebElement (session=\"f6d96c0ee869d9a602ead42ee2df441c\", element=\"bb8dd4fc-d214-44d9-baa7-17a5c0a657f4\")>"
      ]
     },
     "execution_count": 448,
     "metadata": {},
     "output_type": "execute_result"
    }
   ],
   "source": [
    "search_job=driver.find_element_by_xpath('//*[@id=\"fixed-typeahead\"]/div/div/div[1]/span/input')\n",
    "search_job"
   ]
  },
  {
   "cell_type": "code",
   "execution_count": 449,
   "id": "406bb5d0",
   "metadata": {},
   "outputs": [],
   "source": [
    "search_job.send_keys(\"Data Scientist\")"
   ]
  },
  {
   "cell_type": "code",
   "execution_count": 450,
   "id": "1e6eae0e",
   "metadata": {},
   "outputs": [
    {
     "data": {
      "text/plain": [
       "<selenium.webdriver.remote.webelement.WebElement (session=\"f6d96c0ee869d9a602ead42ee2df441c\", element=\"55ba3aa4-28b2-4d78-a8a9-8f52855ad378\")>"
      ]
     },
     "execution_count": 450,
     "metadata": {},
     "output_type": "execute_result"
    }
   ],
   "source": [
    "search_btn=driver.find_element_by_class_name(\"ctas-btn-medium\" )\n",
    "search_btn"
   ]
  },
  {
   "cell_type": "code",
   "execution_count": 451,
   "id": "2d14261a",
   "metadata": {},
   "outputs": [],
   "source": [
    "search_btn.click()"
   ]
  },
  {
   "cell_type": "code",
   "execution_count": 452,
   "id": "823615ee",
   "metadata": {},
   "outputs": [
    {
     "data": {
      "text/plain": [
       "<selenium.webdriver.remote.webelement.WebElement (session=\"f6d96c0ee869d9a602ead42ee2df441c\", element=\"6972962d-90e2-4e8f-8cfc-2bd3185b2b3e\")>"
      ]
     },
     "execution_count": 452,
     "metadata": {},
     "output_type": "execute_result"
    }
   ],
   "source": [
    "search_btn=driver.find_element_by_xpath('//*[@id=\"___gcse_0\"]/div/div/div/div[5]/div[2]/div/div/div[1]/div[1]/div[1]/div[1]/div/a' )\n",
    "search_btn"
   ]
  },
  {
   "cell_type": "code",
   "execution_count": 453,
   "id": "f799cd64",
   "metadata": {},
   "outputs": [],
   "source": [
    "search_btn.click()"
   ]
  },
  {
   "cell_type": "code",
   "execution_count": 457,
   "id": "d2f5fa6c",
   "metadata": {},
   "outputs": [
    {
     "data": {
      "text/plain": [
       "0"
      ]
     },
     "execution_count": 457,
     "metadata": {},
     "output_type": "execute_result"
    }
   ],
   "source": [
    "company_tags=driver.find_elements_by_xpath('//div [@class=\"name\"]')\n",
    "len(company_tags)"
   ]
  },
  {
   "cell_type": "code",
   "execution_count": 458,
   "id": "e78c76ca",
   "metadata": {},
   "outputs": [
    {
     "data": {
      "text/plain": [
       "[]"
      ]
     },
     "execution_count": 458,
     "metadata": {},
     "output_type": "execute_result"
    }
   ],
   "source": [
    "company_titles=[]\n",
    "for i in company_tags:\n",
    "    company_titles.append(i.text)\n",
    "company_titles"
   ]
  },
  {
   "cell_type": "code",
   "execution_count": 459,
   "id": "31e318df",
   "metadata": {},
   "outputs": [
    {
     "data": {
      "text/plain": [
       "0"
      ]
     },
     "execution_count": 459,
     "metadata": {},
     "output_type": "execute_result"
    }
   ],
   "source": [
    "salary_tags=driver.find_elements_by_xpath('//div [@class=\"salaries one-line sbold-list-header\"]')\n",
    "len(salary_tags)"
   ]
  },
  {
   "cell_type": "code",
   "execution_count": null,
   "id": "22d218c2",
   "metadata": {},
   "outputs": [],
   "source": []
  }
 ],
 "metadata": {
  "kernelspec": {
   "display_name": "Python 3",
   "language": "python",
   "name": "python3"
  },
  "language_info": {
   "codemirror_mode": {
    "name": "ipython",
    "version": 3
   },
   "file_extension": ".py",
   "mimetype": "text/x-python",
   "name": "python",
   "nbconvert_exporter": "python",
   "pygments_lexer": "ipython3",
   "version": "3.8.8"
  }
 },
 "nbformat": 4,
 "nbformat_minor": 5
}
