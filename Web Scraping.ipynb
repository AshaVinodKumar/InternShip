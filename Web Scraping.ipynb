{
 "cells": [
  {
   "cell_type": "code",
   "execution_count": 4,
   "id": "a7b12fb8",
   "metadata": {},
   "outputs": [
    {
     "name": "stdout",
     "output_type": "stream",
     "text": [
      "Requirement already satisfied: bs4 in c:\\users\\cjash\\anaconda3\\lib\\site-packages (0.0.1)\n",
      "Requirement already satisfied: beautifulsoup4 in c:\\users\\cjash\\anaconda3\\lib\\site-packages (from bs4) (4.9.3)\n",
      "Requirement already satisfied: soupsieve>1.2 in c:\\users\\cjash\\anaconda3\\lib\\site-packages (from beautifulsoup4->bs4) (2.2.1)\n",
      "Requirement already satisfied: requests in c:\\users\\cjash\\anaconda3\\lib\\site-packages (2.25.1)\n",
      "Requirement already satisfied: certifi>=2017.4.17 in c:\\users\\cjash\\anaconda3\\lib\\site-packages (from requests) (2020.12.5)\n",
      "Requirement already satisfied: idna<3,>=2.5 in c:\\users\\cjash\\anaconda3\\lib\\site-packages (from requests) (2.10)\n",
      "Requirement already satisfied: urllib3<1.27,>=1.21.1 in c:\\users\\cjash\\anaconda3\\lib\\site-packages (from requests) (1.26.4)\n",
      "Requirement already satisfied: chardet<5,>=3.0.2 in c:\\users\\cjash\\anaconda3\\lib\\site-packages (from requests) (4.0.0)\n"
     ]
    }
   ],
   "source": [
    "!pip install bs4\n",
    "!pip install requests"
   ]
  },
  {
   "cell_type": "code",
   "execution_count": 5,
   "id": "baa170a4",
   "metadata": {},
   "outputs": [],
   "source": [
    "from bs4 import BeautifulSoup\n",
    "import requests"
   ]
  },
  {
   "cell_type": "markdown",
   "id": "9b653316",
   "metadata": {},
   "source": [
    "# Question 1"
   ]
  },
  {
   "cell_type": "code",
   "execution_count": 58,
   "id": "cc24f43b",
   "metadata": {},
   "outputs": [
    {
     "data": {
      "text/plain": [
       "<Response [200]>"
      ]
     },
     "execution_count": 58,
     "metadata": {},
     "output_type": "execute_result"
    }
   ],
   "source": [
    "page=requests.get(\"https://en.wikipedia.org/wiki/Main_Page\")\n",
    "page"
   ]
  },
  {
   "cell_type": "code",
   "execution_count": 59,
   "id": "f2a8d544",
   "metadata": {},
   "outputs": [],
   "source": [
    "soup=BeautifulSoup(page.content)"
   ]
  },
  {
   "cell_type": "code",
   "execution_count": 60,
   "id": "86d17cdd",
   "metadata": {},
   "outputs": [
    {
     "data": {
      "text/plain": [
       "['h1 Main Page',\n",
       " \"h2 From today's featured article\",\n",
       " 'h2 Did you know\\xa0...',\n",
       " 'h2 In the news',\n",
       " 'h2 On this day',\n",
       " \"h2 Today's featured picture\",\n",
       " 'h2 Other areas of Wikipedia',\n",
       " \"h2 Wikipedia's sister projects\",\n",
       " 'h2 Wikipedia languages',\n",
       " 'h2 Navigation menu',\n",
       " 'h3 Personal tools',\n",
       " 'h3 Namespaces',\n",
       " 'h3 Variants\\nexpanded\\ncollapsed',\n",
       " 'h3 Views',\n",
       " 'h3 More\\nexpanded\\ncollapsed',\n",
       " 'h3 Search',\n",
       " 'h3 Navigation',\n",
       " 'h3 Contribute',\n",
       " 'h3 Tools',\n",
       " 'h3 Print/export',\n",
       " 'h3 In other projects',\n",
       " 'h3 Languages']"
      ]
     },
     "execution_count": 60,
     "metadata": {},
     "output_type": "execute_result"
    }
   ],
   "source": [
    "headers=[]\n",
    "for heads in soup.find_all([\"h1\",\"h2\",\"h3\",\"h4\",\"h5\",\"h6\"]):\n",
    "    headers.append(heads.name+\" \"+heads.text.strip())\n",
    "headers"
   ]
  },
  {
   "cell_type": "markdown",
   "id": "0baee064",
   "metadata": {},
   "source": [
    "# Question 2\n"
   ]
  },
  {
   "cell_type": "code",
   "execution_count": 61,
   "id": "4ca3fe86",
   "metadata": {},
   "outputs": [
    {
     "data": {
      "text/plain": [
       "<Response [200]>"
      ]
     },
     "execution_count": 61,
     "metadata": {},
     "output_type": "execute_result"
    }
   ],
   "source": [
    "page=requests.get('https://www.imdb.com/search/title/?groups=top_100&sort=user_rating,desc')\n",
    "page"
   ]
  },
  {
   "cell_type": "code",
   "execution_count": 62,
   "id": "36252da1",
   "metadata": {},
   "outputs": [],
   "source": [
    "soup=BeautifulSoup(page.content)"
   ]
  },
  {
   "cell_type": "code",
   "execution_count": 63,
   "id": "cb085315",
   "metadata": {
    "scrolled": true
   },
   "outputs": [
    {
     "data": {
      "text/plain": [
       "['1.The Shawshank Redemption(1994)',\n",
       " '2.The Godfather(1972)',\n",
       " '3.The Dark Knight(2008)',\n",
       " '4.The Godfather: Part II(1974)',\n",
       " '5.12 Angry Men(1957)',\n",
       " '6.The Lord of the Rings: The Return of the King(2003)',\n",
       " '7.Pulp Fiction(1994)',\n",
       " \"8.Schindler's List(1993)\",\n",
       " '9.Inception(2010)',\n",
       " '10.Fight Club(1999)',\n",
       " '11.The Lord of the Rings: The Fellowship of the Ring(2001)',\n",
       " '12.Forrest Gump(1994)',\n",
       " '13.Il buono, il brutto, il cattivo(1966)',\n",
       " '14.Spider-Man: No Way Home(2021)',\n",
       " '15.The Lord of the Rings: The Two Towers(2002)',\n",
       " '16.The Matrix(1999)',\n",
       " '17.Goodfellas(1990)',\n",
       " '18.Star Wars: Episode V - The Empire Strikes Back(1980)',\n",
       " \"19.One Flew Over the Cuckoo's Nest(1975)\",\n",
       " '20.Gisaengchung(2019)',\n",
       " '21.Interstellar(2014)',\n",
       " '22.Cidade de Deus(2002)',\n",
       " '23.Sen to Chihiro no kamikakushi(2001)',\n",
       " '24.Saving Private Ryan(1998)',\n",
       " '25.The Green Mile(1999)',\n",
       " '26.La vita è bella(1997)',\n",
       " '27.Se7en(1995)',\n",
       " '28.The Silence of the Lambs(1991)',\n",
       " '29.Star Wars(1977)',\n",
       " '30.Seppuku(1962)',\n",
       " '31.Shichinin no samurai(1954)',\n",
       " \"32.It's a Wonderful Life(1946)\",\n",
       " '33.Whiplash(2014)',\n",
       " '34.The Intouchables(2011)',\n",
       " '35.The Prestige(2006)',\n",
       " '36.The Departed(2006)',\n",
       " '37.The Pianist(2002)',\n",
       " '38.Gladiator(2000)',\n",
       " '39.American History X(1998)',\n",
       " '40.The Usual Suspects(1995)',\n",
       " '41.Léon(1994)',\n",
       " '42.The Lion King(1994)',\n",
       " '43.Terminator 2: Judgment Day(1991)',\n",
       " '44.Nuovo Cinema Paradiso(1988)',\n",
       " '45.Hotaru no haka(1988)',\n",
       " '46.Back to the Future(1985)',\n",
       " '47.Once Upon a Time in the West(1968)',\n",
       " '48.Psycho(1960)',\n",
       " '49.Rear Window(1954)',\n",
       " '50.Casablanca(1942)']"
      ]
     },
     "execution_count": 63,
     "metadata": {},
     "output_type": "execute_result"
    }
   ],
   "source": [
    "name=soup.find_all('h3',class_='lister-item-header')\n",
    "movie_names=[]\n",
    "for i in range(0,50):\n",
    "    movie_names.append(name[i].get_text().replace(\"\\n\",\"\"))\n",
    "\n",
    "movie_names"
   ]
  },
  {
   "cell_type": "code",
   "execution_count": 69,
   "id": "00e22959",
   "metadata": {},
   "outputs": [
    {
     "data": {
      "text/plain": [
       "[<span class=\"global-sprite rating-star imdb-rating\"></span>,\n",
       " <span class=\"global-sprite rating-star imdb-rating\"></span>,\n",
       " <span class=\"global-sprite rating-star imdb-rating\"></span>,\n",
       " <span class=\"global-sprite rating-star imdb-rating\"></span>,\n",
       " <span class=\"global-sprite rating-star imdb-rating\"></span>,\n",
       " <span class=\"global-sprite rating-star imdb-rating\"></span>,\n",
       " <span class=\"global-sprite rating-star imdb-rating\"></span>,\n",
       " <span class=\"global-sprite rating-star imdb-rating\"></span>,\n",
       " <span class=\"global-sprite rating-star imdb-rating\"></span>,\n",
       " <span class=\"global-sprite rating-star imdb-rating\"></span>,\n",
       " <span class=\"global-sprite rating-star imdb-rating\"></span>,\n",
       " <span class=\"global-sprite rating-star imdb-rating\"></span>,\n",
       " <span class=\"global-sprite rating-star imdb-rating\"></span>,\n",
       " <span class=\"global-sprite rating-star imdb-rating\"></span>,\n",
       " <span class=\"global-sprite rating-star imdb-rating\"></span>,\n",
       " <span class=\"global-sprite rating-star imdb-rating\"></span>,\n",
       " <span class=\"global-sprite rating-star imdb-rating\"></span>,\n",
       " <span class=\"global-sprite rating-star imdb-rating\"></span>,\n",
       " <span class=\"global-sprite rating-star imdb-rating\"></span>,\n",
       " <span class=\"global-sprite rating-star imdb-rating\"></span>,\n",
       " <span class=\"global-sprite rating-star imdb-rating\"></span>,\n",
       " <span class=\"global-sprite rating-star imdb-rating\"></span>,\n",
       " <span class=\"global-sprite rating-star imdb-rating\"></span>,\n",
       " <span class=\"global-sprite rating-star imdb-rating\"></span>,\n",
       " <span class=\"global-sprite rating-star imdb-rating\"></span>,\n",
       " <span class=\"global-sprite rating-star imdb-rating\"></span>,\n",
       " <span class=\"global-sprite rating-star imdb-rating\"></span>,\n",
       " <span class=\"global-sprite rating-star imdb-rating\"></span>,\n",
       " <span class=\"global-sprite rating-star imdb-rating\"></span>,\n",
       " <span class=\"global-sprite rating-star imdb-rating\"></span>,\n",
       " <span class=\"global-sprite rating-star imdb-rating\"></span>,\n",
       " <span class=\"global-sprite rating-star imdb-rating\"></span>,\n",
       " <span class=\"global-sprite rating-star imdb-rating\"></span>,\n",
       " <span class=\"global-sprite rating-star imdb-rating\"></span>,\n",
       " <span class=\"global-sprite rating-star imdb-rating\"></span>,\n",
       " <span class=\"global-sprite rating-star imdb-rating\"></span>,\n",
       " <span class=\"global-sprite rating-star imdb-rating\"></span>,\n",
       " <span class=\"global-sprite rating-star imdb-rating\"></span>,\n",
       " <span class=\"global-sprite rating-star imdb-rating\"></span>,\n",
       " <span class=\"global-sprite rating-star imdb-rating\"></span>,\n",
       " <span class=\"global-sprite rating-star imdb-rating\"></span>,\n",
       " <span class=\"global-sprite rating-star imdb-rating\"></span>,\n",
       " <span class=\"global-sprite rating-star imdb-rating\"></span>,\n",
       " <span class=\"global-sprite rating-star imdb-rating\"></span>,\n",
       " <span class=\"global-sprite rating-star imdb-rating\"></span>,\n",
       " <span class=\"global-sprite rating-star imdb-rating\"></span>,\n",
       " <span class=\"global-sprite rating-star imdb-rating\"></span>,\n",
       " <span class=\"global-sprite rating-star imdb-rating\"></span>,\n",
       " <span class=\"global-sprite rating-star imdb-rating\"></span>,\n",
       " <span class=\"global-sprite rating-star imdb-rating\"></span>]"
      ]
     },
     "execution_count": 69,
     "metadata": {},
     "output_type": "execute_result"
    }
   ],
   "source": [
    "rating=soup.find_all('span',class_='global-sprite rating-star imdb-rating')\n",
    "\n",
    "movie_rating=[]\n",
    "for i in range(0,50):\n",
    "    movie_rating.append(rating[i].get_text())\n",
    "    \n",
    "ratings"
   ]
  },
  {
   "cell_type": "code",
   "execution_count": 70,
   "id": "b77d85f1",
   "metadata": {},
   "outputs": [
    {
     "data": {
      "text/plain": [
       "['(1994)',\n",
       " '(1972)',\n",
       " '(2008)',\n",
       " '(1974)',\n",
       " '(1957)',\n",
       " '(2003)',\n",
       " '(1994)',\n",
       " '(1993)',\n",
       " '(2010)',\n",
       " '(1999)',\n",
       " '(2001)',\n",
       " '(1994)',\n",
       " '(1966)',\n",
       " '(2021)',\n",
       " '(2002)',\n",
       " '(1999)',\n",
       " '(1990)',\n",
       " '(1980)',\n",
       " '(1975)',\n",
       " '(2019)',\n",
       " '(2014)',\n",
       " '(2002)',\n",
       " '(2001)',\n",
       " '(1998)',\n",
       " '(1999)',\n",
       " '(1997)',\n",
       " '(1995)',\n",
       " '(1991)',\n",
       " '(1977)',\n",
       " '(1962)',\n",
       " '(1954)',\n",
       " '(1946)',\n",
       " '(2014)',\n",
       " '(2011)',\n",
       " '(2006)',\n",
       " '(2006)',\n",
       " '(2002)',\n",
       " '(2000)',\n",
       " '(1998)',\n",
       " '(1995)',\n",
       " '(1994)',\n",
       " '(1994)',\n",
       " '(1991)',\n",
       " '(1988)',\n",
       " '(1988)',\n",
       " '(1985)',\n",
       " '(1968)',\n",
       " '(1960)',\n",
       " '(1954)',\n",
       " '(1942)']"
      ]
     },
     "execution_count": 70,
     "metadata": {},
     "output_type": "execute_result"
    }
   ],
   "source": [
    "date=[]\n",
    "\n",
    "for i in soup.find_all('span',class_='lister-item-year text-muted unbold'):\n",
    "    date.append(i.text)\n",
    "date"
   ]
  },
  {
   "cell_type": "code",
   "execution_count": 72,
   "id": "df4e47b1",
   "metadata": {},
   "outputs": [
    {
     "data": {
      "text/html": [
       "<div>\n",
       "<style scoped>\n",
       "    .dataframe tbody tr th:only-of-type {\n",
       "        vertical-align: middle;\n",
       "    }\n",
       "\n",
       "    .dataframe tbody tr th {\n",
       "        vertical-align: top;\n",
       "    }\n",
       "\n",
       "    .dataframe thead th {\n",
       "        text-align: right;\n",
       "    }\n",
       "</style>\n",
       "<table border=\"1\" class=\"dataframe\">\n",
       "  <thead>\n",
       "    <tr style=\"text-align: right;\">\n",
       "      <th></th>\n",
       "      <th>Names</th>\n",
       "      <th>Ratings</th>\n",
       "      <th>dates</th>\n",
       "    </tr>\n",
       "  </thead>\n",
       "  <tbody>\n",
       "    <tr>\n",
       "      <th>0</th>\n",
       "      <td>1.The Shawshank Redemption(1994)</td>\n",
       "      <td>[]</td>\n",
       "      <td>(1994)</td>\n",
       "    </tr>\n",
       "    <tr>\n",
       "      <th>1</th>\n",
       "      <td>2.The Godfather(1972)</td>\n",
       "      <td>[]</td>\n",
       "      <td>(1972)</td>\n",
       "    </tr>\n",
       "    <tr>\n",
       "      <th>2</th>\n",
       "      <td>3.The Dark Knight(2008)</td>\n",
       "      <td>[]</td>\n",
       "      <td>(2008)</td>\n",
       "    </tr>\n",
       "    <tr>\n",
       "      <th>3</th>\n",
       "      <td>4.The Godfather: Part II(1974)</td>\n",
       "      <td>[]</td>\n",
       "      <td>(1974)</td>\n",
       "    </tr>\n",
       "    <tr>\n",
       "      <th>4</th>\n",
       "      <td>5.12 Angry Men(1957)</td>\n",
       "      <td>[]</td>\n",
       "      <td>(1957)</td>\n",
       "    </tr>\n",
       "    <tr>\n",
       "      <th>5</th>\n",
       "      <td>6.The Lord of the Rings: The Return of the Kin...</td>\n",
       "      <td>[]</td>\n",
       "      <td>(2003)</td>\n",
       "    </tr>\n",
       "    <tr>\n",
       "      <th>6</th>\n",
       "      <td>7.Pulp Fiction(1994)</td>\n",
       "      <td>[]</td>\n",
       "      <td>(1994)</td>\n",
       "    </tr>\n",
       "    <tr>\n",
       "      <th>7</th>\n",
       "      <td>8.Schindler's List(1993)</td>\n",
       "      <td>[]</td>\n",
       "      <td>(1993)</td>\n",
       "    </tr>\n",
       "    <tr>\n",
       "      <th>8</th>\n",
       "      <td>9.Inception(2010)</td>\n",
       "      <td>[]</td>\n",
       "      <td>(2010)</td>\n",
       "    </tr>\n",
       "    <tr>\n",
       "      <th>9</th>\n",
       "      <td>10.Fight Club(1999)</td>\n",
       "      <td>[]</td>\n",
       "      <td>(1999)</td>\n",
       "    </tr>\n",
       "    <tr>\n",
       "      <th>10</th>\n",
       "      <td>11.The Lord of the Rings: The Fellowship of th...</td>\n",
       "      <td>[]</td>\n",
       "      <td>(2001)</td>\n",
       "    </tr>\n",
       "    <tr>\n",
       "      <th>11</th>\n",
       "      <td>12.Forrest Gump(1994)</td>\n",
       "      <td>[]</td>\n",
       "      <td>(1994)</td>\n",
       "    </tr>\n",
       "    <tr>\n",
       "      <th>12</th>\n",
       "      <td>13.Il buono, il brutto, il cattivo(1966)</td>\n",
       "      <td>[]</td>\n",
       "      <td>(1966)</td>\n",
       "    </tr>\n",
       "    <tr>\n",
       "      <th>13</th>\n",
       "      <td>14.Spider-Man: No Way Home(2021)</td>\n",
       "      <td>[]</td>\n",
       "      <td>(2021)</td>\n",
       "    </tr>\n",
       "    <tr>\n",
       "      <th>14</th>\n",
       "      <td>15.The Lord of the Rings: The Two Towers(2002)</td>\n",
       "      <td>[]</td>\n",
       "      <td>(2002)</td>\n",
       "    </tr>\n",
       "    <tr>\n",
       "      <th>15</th>\n",
       "      <td>16.The Matrix(1999)</td>\n",
       "      <td>[]</td>\n",
       "      <td>(1999)</td>\n",
       "    </tr>\n",
       "    <tr>\n",
       "      <th>16</th>\n",
       "      <td>17.Goodfellas(1990)</td>\n",
       "      <td>[]</td>\n",
       "      <td>(1990)</td>\n",
       "    </tr>\n",
       "    <tr>\n",
       "      <th>17</th>\n",
       "      <td>18.Star Wars: Episode V - The Empire Strikes B...</td>\n",
       "      <td>[]</td>\n",
       "      <td>(1980)</td>\n",
       "    </tr>\n",
       "    <tr>\n",
       "      <th>18</th>\n",
       "      <td>19.One Flew Over the Cuckoo's Nest(1975)</td>\n",
       "      <td>[]</td>\n",
       "      <td>(1975)</td>\n",
       "    </tr>\n",
       "    <tr>\n",
       "      <th>19</th>\n",
       "      <td>20.Gisaengchung(2019)</td>\n",
       "      <td>[]</td>\n",
       "      <td>(2019)</td>\n",
       "    </tr>\n",
       "    <tr>\n",
       "      <th>20</th>\n",
       "      <td>21.Interstellar(2014)</td>\n",
       "      <td>[]</td>\n",
       "      <td>(2014)</td>\n",
       "    </tr>\n",
       "    <tr>\n",
       "      <th>21</th>\n",
       "      <td>22.Cidade de Deus(2002)</td>\n",
       "      <td>[]</td>\n",
       "      <td>(2002)</td>\n",
       "    </tr>\n",
       "    <tr>\n",
       "      <th>22</th>\n",
       "      <td>23.Sen to Chihiro no kamikakushi(2001)</td>\n",
       "      <td>[]</td>\n",
       "      <td>(2001)</td>\n",
       "    </tr>\n",
       "    <tr>\n",
       "      <th>23</th>\n",
       "      <td>24.Saving Private Ryan(1998)</td>\n",
       "      <td>[]</td>\n",
       "      <td>(1998)</td>\n",
       "    </tr>\n",
       "    <tr>\n",
       "      <th>24</th>\n",
       "      <td>25.The Green Mile(1999)</td>\n",
       "      <td>[]</td>\n",
       "      <td>(1999)</td>\n",
       "    </tr>\n",
       "    <tr>\n",
       "      <th>25</th>\n",
       "      <td>26.La vita è bella(1997)</td>\n",
       "      <td>[]</td>\n",
       "      <td>(1997)</td>\n",
       "    </tr>\n",
       "    <tr>\n",
       "      <th>26</th>\n",
       "      <td>27.Se7en(1995)</td>\n",
       "      <td>[]</td>\n",
       "      <td>(1995)</td>\n",
       "    </tr>\n",
       "    <tr>\n",
       "      <th>27</th>\n",
       "      <td>28.The Silence of the Lambs(1991)</td>\n",
       "      <td>[]</td>\n",
       "      <td>(1991)</td>\n",
       "    </tr>\n",
       "    <tr>\n",
       "      <th>28</th>\n",
       "      <td>29.Star Wars(1977)</td>\n",
       "      <td>[]</td>\n",
       "      <td>(1977)</td>\n",
       "    </tr>\n",
       "    <tr>\n",
       "      <th>29</th>\n",
       "      <td>30.Seppuku(1962)</td>\n",
       "      <td>[]</td>\n",
       "      <td>(1962)</td>\n",
       "    </tr>\n",
       "    <tr>\n",
       "      <th>30</th>\n",
       "      <td>31.Shichinin no samurai(1954)</td>\n",
       "      <td>[]</td>\n",
       "      <td>(1954)</td>\n",
       "    </tr>\n",
       "    <tr>\n",
       "      <th>31</th>\n",
       "      <td>32.It's a Wonderful Life(1946)</td>\n",
       "      <td>[]</td>\n",
       "      <td>(1946)</td>\n",
       "    </tr>\n",
       "    <tr>\n",
       "      <th>32</th>\n",
       "      <td>33.Whiplash(2014)</td>\n",
       "      <td>[]</td>\n",
       "      <td>(2014)</td>\n",
       "    </tr>\n",
       "    <tr>\n",
       "      <th>33</th>\n",
       "      <td>34.The Intouchables(2011)</td>\n",
       "      <td>[]</td>\n",
       "      <td>(2011)</td>\n",
       "    </tr>\n",
       "    <tr>\n",
       "      <th>34</th>\n",
       "      <td>35.The Prestige(2006)</td>\n",
       "      <td>[]</td>\n",
       "      <td>(2006)</td>\n",
       "    </tr>\n",
       "    <tr>\n",
       "      <th>35</th>\n",
       "      <td>36.The Departed(2006)</td>\n",
       "      <td>[]</td>\n",
       "      <td>(2006)</td>\n",
       "    </tr>\n",
       "    <tr>\n",
       "      <th>36</th>\n",
       "      <td>37.The Pianist(2002)</td>\n",
       "      <td>[]</td>\n",
       "      <td>(2002)</td>\n",
       "    </tr>\n",
       "    <tr>\n",
       "      <th>37</th>\n",
       "      <td>38.Gladiator(2000)</td>\n",
       "      <td>[]</td>\n",
       "      <td>(2000)</td>\n",
       "    </tr>\n",
       "    <tr>\n",
       "      <th>38</th>\n",
       "      <td>39.American History X(1998)</td>\n",
       "      <td>[]</td>\n",
       "      <td>(1998)</td>\n",
       "    </tr>\n",
       "    <tr>\n",
       "      <th>39</th>\n",
       "      <td>40.The Usual Suspects(1995)</td>\n",
       "      <td>[]</td>\n",
       "      <td>(1995)</td>\n",
       "    </tr>\n",
       "    <tr>\n",
       "      <th>40</th>\n",
       "      <td>41.Léon(1994)</td>\n",
       "      <td>[]</td>\n",
       "      <td>(1994)</td>\n",
       "    </tr>\n",
       "    <tr>\n",
       "      <th>41</th>\n",
       "      <td>42.The Lion King(1994)</td>\n",
       "      <td>[]</td>\n",
       "      <td>(1994)</td>\n",
       "    </tr>\n",
       "    <tr>\n",
       "      <th>42</th>\n",
       "      <td>43.Terminator 2: Judgment Day(1991)</td>\n",
       "      <td>[]</td>\n",
       "      <td>(1991)</td>\n",
       "    </tr>\n",
       "    <tr>\n",
       "      <th>43</th>\n",
       "      <td>44.Nuovo Cinema Paradiso(1988)</td>\n",
       "      <td>[]</td>\n",
       "      <td>(1988)</td>\n",
       "    </tr>\n",
       "    <tr>\n",
       "      <th>44</th>\n",
       "      <td>45.Hotaru no haka(1988)</td>\n",
       "      <td>[]</td>\n",
       "      <td>(1988)</td>\n",
       "    </tr>\n",
       "    <tr>\n",
       "      <th>45</th>\n",
       "      <td>46.Back to the Future(1985)</td>\n",
       "      <td>[]</td>\n",
       "      <td>(1985)</td>\n",
       "    </tr>\n",
       "    <tr>\n",
       "      <th>46</th>\n",
       "      <td>47.Once Upon a Time in the West(1968)</td>\n",
       "      <td>[]</td>\n",
       "      <td>(1968)</td>\n",
       "    </tr>\n",
       "    <tr>\n",
       "      <th>47</th>\n",
       "      <td>48.Psycho(1960)</td>\n",
       "      <td>[]</td>\n",
       "      <td>(1960)</td>\n",
       "    </tr>\n",
       "    <tr>\n",
       "      <th>48</th>\n",
       "      <td>49.Rear Window(1954)</td>\n",
       "      <td>[]</td>\n",
       "      <td>(1954)</td>\n",
       "    </tr>\n",
       "    <tr>\n",
       "      <th>49</th>\n",
       "      <td>50.Casablanca(1942)</td>\n",
       "      <td>[]</td>\n",
       "      <td>(1942)</td>\n",
       "    </tr>\n",
       "  </tbody>\n",
       "</table>\n",
       "</div>"
      ],
      "text/plain": [
       "                                                Names Ratings   dates\n",
       "0                    1.The Shawshank Redemption(1994)      []  (1994)\n",
       "1                               2.The Godfather(1972)      []  (1972)\n",
       "2                             3.The Dark Knight(2008)      []  (2008)\n",
       "3                      4.The Godfather: Part II(1974)      []  (1974)\n",
       "4                                5.12 Angry Men(1957)      []  (1957)\n",
       "5   6.The Lord of the Rings: The Return of the Kin...      []  (2003)\n",
       "6                                7.Pulp Fiction(1994)      []  (1994)\n",
       "7                            8.Schindler's List(1993)      []  (1993)\n",
       "8                                   9.Inception(2010)      []  (2010)\n",
       "9                                 10.Fight Club(1999)      []  (1999)\n",
       "10  11.The Lord of the Rings: The Fellowship of th...      []  (2001)\n",
       "11                              12.Forrest Gump(1994)      []  (1994)\n",
       "12           13.Il buono, il brutto, il cattivo(1966)      []  (1966)\n",
       "13                   14.Spider-Man: No Way Home(2021)      []  (2021)\n",
       "14     15.The Lord of the Rings: The Two Towers(2002)      []  (2002)\n",
       "15                                16.The Matrix(1999)      []  (1999)\n",
       "16                                17.Goodfellas(1990)      []  (1990)\n",
       "17  18.Star Wars: Episode V - The Empire Strikes B...      []  (1980)\n",
       "18           19.One Flew Over the Cuckoo's Nest(1975)      []  (1975)\n",
       "19                              20.Gisaengchung(2019)      []  (2019)\n",
       "20                              21.Interstellar(2014)      []  (2014)\n",
       "21                            22.Cidade de Deus(2002)      []  (2002)\n",
       "22             23.Sen to Chihiro no kamikakushi(2001)      []  (2001)\n",
       "23                       24.Saving Private Ryan(1998)      []  (1998)\n",
       "24                            25.The Green Mile(1999)      []  (1999)\n",
       "25                           26.La vita è bella(1997)      []  (1997)\n",
       "26                                     27.Se7en(1995)      []  (1995)\n",
       "27                  28.The Silence of the Lambs(1991)      []  (1991)\n",
       "28                                 29.Star Wars(1977)      []  (1977)\n",
       "29                                   30.Seppuku(1962)      []  (1962)\n",
       "30                      31.Shichinin no samurai(1954)      []  (1954)\n",
       "31                     32.It's a Wonderful Life(1946)      []  (1946)\n",
       "32                                  33.Whiplash(2014)      []  (2014)\n",
       "33                          34.The Intouchables(2011)      []  (2011)\n",
       "34                              35.The Prestige(2006)      []  (2006)\n",
       "35                              36.The Departed(2006)      []  (2006)\n",
       "36                               37.The Pianist(2002)      []  (2002)\n",
       "37                                 38.Gladiator(2000)      []  (2000)\n",
       "38                        39.American History X(1998)      []  (1998)\n",
       "39                        40.The Usual Suspects(1995)      []  (1995)\n",
       "40                                      41.Léon(1994)      []  (1994)\n",
       "41                             42.The Lion King(1994)      []  (1994)\n",
       "42                43.Terminator 2: Judgment Day(1991)      []  (1991)\n",
       "43                     44.Nuovo Cinema Paradiso(1988)      []  (1988)\n",
       "44                            45.Hotaru no haka(1988)      []  (1988)\n",
       "45                        46.Back to the Future(1985)      []  (1985)\n",
       "46              47.Once Upon a Time in the West(1968)      []  (1968)\n",
       "47                                    48.Psycho(1960)      []  (1960)\n",
       "48                               49.Rear Window(1954)      []  (1954)\n",
       "49                                50.Casablanca(1942)      []  (1942)"
      ]
     },
     "execution_count": 72,
     "metadata": {},
     "output_type": "execute_result"
    }
   ],
   "source": [
    "import pandas as pd\n",
    "df=pd.DataFrame({'Names':movie_names,'Ratings':ratings,'dates':date})\n",
    "df"
   ]
  },
  {
   "cell_type": "markdown",
   "id": "a22e9f90",
   "metadata": {},
   "source": [
    "# Question 3\n"
   ]
  },
  {
   "cell_type": "code",
   "execution_count": 74,
   "id": "c9e81e7a",
   "metadata": {},
   "outputs": [
    {
     "data": {
      "text/plain": [
       "<Response [200]>"
      ]
     },
     "execution_count": 74,
     "metadata": {},
     "output_type": "execute_result"
    }
   ],
   "source": [
    "page=requests.get(\"https://www.imdb.com/india/top-rated-indian-movies/\")\n",
    "page"
   ]
  },
  {
   "cell_type": "code",
   "execution_count": 75,
   "id": "967c919d",
   "metadata": {},
   "outputs": [],
   "source": [
    "soup=BeautifulSoup(page.content)"
   ]
  },
  {
   "cell_type": "code",
   "execution_count": 76,
   "id": "7359a72b",
   "metadata": {},
   "outputs": [
    {
     "data": {
      "text/plain": [
       "['      1.      Pariyerum Perumal(2018)',\n",
       " '      2.      Nayakan(1987)',\n",
       " '      3.      Jai Bhim(2021)',\n",
       " '      4.      Anbe Sivam(2003)',\n",
       " '      5.      C/o Kancharapalem(2018)',\n",
       " '      6.      Kireedam(1989)',\n",
       " '      7.      Manichitrathazhu(1993)',\n",
       " '      8.      Golmaal(1979)',\n",
       " '      9.      Apur Sansar(1959)',\n",
       " '      10.      Natsamrat(2016)',\n",
       " '      11.      #Home(2021)',\n",
       " '      12.      Thevar Magan(1992)',\n",
       " '      13.      Kumbalangi Nights(2019)',\n",
       " '      14.      Black Friday(2004)',\n",
       " '      15.      Visaaranai(2015)',\n",
       " '      16.      Jersey(2019)',\n",
       " '      17.      Sardar Udham(2021)',\n",
       " '      18.      Soorarai Pottru(2020)',\n",
       " '      19.      Pather Panchali(1955)',\n",
       " '      20.      3 Idiots(2009)',\n",
       " '      21.      Asuran(2019)',\n",
       " '      22.      Kaithi(2019)',\n",
       " '      23.      Sarpatta Parambarai(2021)',\n",
       " '      24.      Thalapathi(1991)',\n",
       " '      25.      Taare Zameen Par(2007)',\n",
       " '      26.      96(2018)',\n",
       " '      27.      Devasuram(1993)',\n",
       " '      28.      Drishyam 2(2021)',\n",
       " '      29.      Dangal(2016)',\n",
       " '      30.      Peranbu(2018)',\n",
       " '      31.      Vada Chennai(2018)',\n",
       " '      32.      Chithram(1988)',\n",
       " '      33.      Aparajito(1956)',\n",
       " '      34.      Jaane Bhi Do Yaaro(1983)',\n",
       " '      35.      Pyaasa(1957)',\n",
       " '      36.      Thani Oruvan(2015)',\n",
       " '      37.      Guide(1965)',\n",
       " '      38.      Spadikam(1995)',\n",
       " '      39.      Iruvar(1997)',\n",
       " '      40.      Agent Sai Srinivasa Athreya(2019)',\n",
       " '      41.      Ratsasan(2018)',\n",
       " '      42.      Kannathil Muthamittal(2002)',\n",
       " '      43.      Chupke Chupke(1975)',\n",
       " '      44.      Mahanati(2018)',\n",
       " '      45.      Super Deluxe(2019)',\n",
       " '      46.      Aruvi(2016)',\n",
       " '      47.      Pudhu Pettai(2006)',\n",
       " '      48.      Drishyam(2013)',\n",
       " '      49.      Oru Vadakkan Veeragatha(1989)',\n",
       " '      50.      Khosla Ka Ghosla!(2006)',\n",
       " '      51.      Anniyan(2005)',\n",
       " '      52.      Premam(2015)',\n",
       " '      53.      Tumbbad(2018)',\n",
       " '      54.      Kaakkaa Muttai(2014)',\n",
       " '      55.      Vikram Vedha(2017)',\n",
       " '      56.      Bangalore Days(2014)',\n",
       " '      57.      Mudhalvan(1999)',\n",
       " '      58.      Papanasam(2015)',\n",
       " '      59.      Satya(1998)',\n",
       " '      60.      Mandela(2021)',\n",
       " '      61.      Soodhu Kavvum(2013)',\n",
       " '      62.      Pithamagan(2003)',\n",
       " '      63.      Dhuruvangal Pathinaaru(2016)',\n",
       " '      64.      Angoor(1982)',\n",
       " '      65.      Shahid(2012)',\n",
       " '      66.      Andhadhun(2018)',\n",
       " '      67.      Jigarthanda(2014)',\n",
       " '      68.      Anand(1971)',\n",
       " '      69.      Gangs of Wasseypur(2012)',\n",
       " '      70.      Paan Singh Tomar(2012)',\n",
       " '      71.      Sairat(2016)',\n",
       " '      72.      Maheshinte Prathikaaram(2016)',\n",
       " '      73.      Bhaag Milkha Bhaag(2013)',\n",
       " '      74.      Hera Pheri(2000)',\n",
       " '      75.      Chhichhore(2019)',\n",
       " '      76.      Theeran Adhigaaram Ondru(2017)',\n",
       " '      77.      Ustad Hotel(2012)',\n",
       " '      78.      Sholay(1975)',\n",
       " '      79.      Chak De! India(2007)',\n",
       " '      80.      Swades: We, the People(2004)',\n",
       " '      81.      Talvar(2015)',\n",
       " '      82.      Virumandi(2004)',\n",
       " '      83.      Baasha(1995)',\n",
       " '      84.      Mughal-E-Azam(1960)',\n",
       " '      85.      Zindagi Na Milegi Dobara(2011)',\n",
       " '      86.      Jo Jeeta Wohi Sikandar(1992)',\n",
       " '      87.      Black(2005)',\n",
       " '      88.      Article 15(2019)',\n",
       " '      89.      Nil Battey Sannata(2015)',\n",
       " '      90.      Drishyam(2015)',\n",
       " '      91.      Udaan(2010)',\n",
       " '      92.      Masaan(2015)',\n",
       " '      93.      A Wednesday(2008)',\n",
       " '      94.      Charulata(1964)',\n",
       " '      95.      Alai Payuthey(2000)',\n",
       " '      96.      Munna Bhai M.B.B.S.(2003)',\n",
       " '      97.      Sarfarosh(1999)',\n",
       " '      98.      Roja(1992)',\n",
       " '      99.      Uri: The Surgical Strike(2019)',\n",
       " '      100.      Queen(2013)']"
      ]
     },
     "execution_count": 76,
     "metadata": {},
     "output_type": "execute_result"
    }
   ],
   "source": [
    "names=soup.find_all('td',class_='titleColumn')\n",
    "movie_names=[]\n",
    "for i in range(0,100):\n",
    "    movie_names.append(names[i].get_text().replace(\"\\n\",\"\"))\n",
    "movie_names\n",
    "\n",
    "\n",
    "    "
   ]
  },
  {
   "cell_type": "code",
   "execution_count": 77,
   "id": "c00a8328",
   "metadata": {},
   "outputs": [
    {
     "data": {
      "text/plain": [
       "['8.5',\n",
       " '8.5',\n",
       " '8.5',\n",
       " '8.5',\n",
       " '8.5',\n",
       " '8.5',\n",
       " '8.5',\n",
       " '8.5',\n",
       " '8.5',\n",
       " '8.4',\n",
       " '8.4',\n",
       " '8.4',\n",
       " '8.4',\n",
       " '8.4',\n",
       " '8.4',\n",
       " '8.4',\n",
       " '8.4',\n",
       " '8.4',\n",
       " '8.4',\n",
       " '8.4',\n",
       " '8.3',\n",
       " '8.3',\n",
       " '8.3',\n",
       " '8.3',\n",
       " '8.3',\n",
       " '8.3',\n",
       " '8.3',\n",
       " '8.3',\n",
       " '8.3',\n",
       " '8.3',\n",
       " '8.3',\n",
       " '8.3',\n",
       " '8.3',\n",
       " '8.3',\n",
       " '8.3',\n",
       " '8.3',\n",
       " '8.3',\n",
       " '8.3',\n",
       " '8.3',\n",
       " '8.3',\n",
       " '8.3',\n",
       " '8.2',\n",
       " '8.2',\n",
       " '8.2',\n",
       " '8.2',\n",
       " '8.2',\n",
       " '8.2',\n",
       " '8.2',\n",
       " '8.2',\n",
       " '8.2',\n",
       " '8.2',\n",
       " '8.2',\n",
       " '8.2',\n",
       " '8.2',\n",
       " '8.2',\n",
       " '8.2',\n",
       " '8.2',\n",
       " '8.2',\n",
       " '8.2',\n",
       " '8.2',\n",
       " '8.2',\n",
       " '8.2',\n",
       " '8.2',\n",
       " '8.2',\n",
       " '8.2',\n",
       " '8.2',\n",
       " '8.2',\n",
       " '8.1',\n",
       " '8.1',\n",
       " '8.1',\n",
       " '8.1',\n",
       " '8.1',\n",
       " '8.1',\n",
       " '8.1',\n",
       " '8.1',\n",
       " '8.1',\n",
       " '8.1',\n",
       " '8.1',\n",
       " '8.1',\n",
       " '8.1',\n",
       " '8.1',\n",
       " '8.1',\n",
       " '8.1',\n",
       " '8.1',\n",
       " '8.1',\n",
       " '8.1',\n",
       " '8.1',\n",
       " '8.1',\n",
       " '8.1',\n",
       " '8.1',\n",
       " '8.1',\n",
       " '8.1',\n",
       " '8.1',\n",
       " '8.1',\n",
       " '8.1',\n",
       " '8.1',\n",
       " '8.1',\n",
       " '8.1',\n",
       " '8.1',\n",
       " '8.1']"
      ]
     },
     "execution_count": 77,
     "metadata": {},
     "output_type": "execute_result"
    }
   ],
   "source": [
    "ratings=soup.find_all('td',class_='ratingColumn imdbRating')\n",
    "movie_rating=[]\n",
    "for i in range(0,100):\n",
    "    movie_rating.append(ratings[i].get_text().replace(\"\\n\",\"\"))\n",
    "movie_rating"
   ]
  },
  {
   "cell_type": "code",
   "execution_count": 78,
   "id": "5e83739b",
   "metadata": {},
   "outputs": [
    {
     "data": {
      "text/plain": [
       "['(2018)',\n",
       " '(1987)',\n",
       " '(2021)',\n",
       " '(2003)',\n",
       " '(2018)',\n",
       " '(1989)',\n",
       " '(1993)',\n",
       " '(1979)',\n",
       " '(1959)',\n",
       " '(2016)',\n",
       " '(2021)',\n",
       " '(1992)',\n",
       " '(2019)',\n",
       " '(2004)',\n",
       " '(2015)',\n",
       " '(2019)',\n",
       " '(2021)',\n",
       " '(2020)',\n",
       " '(1955)',\n",
       " '(2009)',\n",
       " '(2019)',\n",
       " '(2019)',\n",
       " '(2021)',\n",
       " '(1991)',\n",
       " '(2007)',\n",
       " '(2018)',\n",
       " '(1993)',\n",
       " '(2021)',\n",
       " '(2016)',\n",
       " '(2018)',\n",
       " '(2018)',\n",
       " '(1988)',\n",
       " '(1956)',\n",
       " '(1983)',\n",
       " '(1957)',\n",
       " '(2015)',\n",
       " '(1965)',\n",
       " '(1995)',\n",
       " '(1997)',\n",
       " '(2019)',\n",
       " '(2018)',\n",
       " '(2002)',\n",
       " '(1975)',\n",
       " '(2018)',\n",
       " '(2019)',\n",
       " '(2016)',\n",
       " '(2006)',\n",
       " '(2013)',\n",
       " '(1989)',\n",
       " '(2006)',\n",
       " '(2005)',\n",
       " '(2015)',\n",
       " '(2018)',\n",
       " '(2014)',\n",
       " '(2017)',\n",
       " '(2014)',\n",
       " '(1999)',\n",
       " '(2015)',\n",
       " '(1998)',\n",
       " '(2021)',\n",
       " '(2013)',\n",
       " '(2003)',\n",
       " '(2016)',\n",
       " '(1982)',\n",
       " '(2012)',\n",
       " '(2018)',\n",
       " '(2014)',\n",
       " '(1971)',\n",
       " '(2012)',\n",
       " '(2012)',\n",
       " '(2016)',\n",
       " '(2016)',\n",
       " '(2013)',\n",
       " '(2000)',\n",
       " '(2019)',\n",
       " '(2017)',\n",
       " '(2012)',\n",
       " '(1975)',\n",
       " '(2007)',\n",
       " '(2004)',\n",
       " '(2015)',\n",
       " '(2004)',\n",
       " '(1995)',\n",
       " '(1960)',\n",
       " '(2011)',\n",
       " '(1992)',\n",
       " '(2005)',\n",
       " '(2019)',\n",
       " '(2015)',\n",
       " '(2015)',\n",
       " '(2010)',\n",
       " '(2015)',\n",
       " '(2008)',\n",
       " '(1964)',\n",
       " '(2000)',\n",
       " '(2003)',\n",
       " '(1999)',\n",
       " '(1992)',\n",
       " '(2019)',\n",
       " '(2013)']"
      ]
     },
     "execution_count": 78,
     "metadata": {},
     "output_type": "execute_result"
    }
   ],
   "source": [
    "year=soup.find_all('span',class_=\"secondaryInfo\")\n",
    "movie_year=[]\n",
    "for i in range(0,100):\n",
    "    movie_year.append(year[i].get_text())\n",
    "movie_year"
   ]
  },
  {
   "cell_type": "code",
   "execution_count": 80,
   "id": "08994464",
   "metadata": {},
   "outputs": [
    {
     "data": {
      "text/html": [
       "<div>\n",
       "<style scoped>\n",
       "    .dataframe tbody tr th:only-of-type {\n",
       "        vertical-align: middle;\n",
       "    }\n",
       "\n",
       "    .dataframe tbody tr th {\n",
       "        vertical-align: top;\n",
       "    }\n",
       "\n",
       "    .dataframe thead th {\n",
       "        text-align: right;\n",
       "    }\n",
       "</style>\n",
       "<table border=\"1\" class=\"dataframe\">\n",
       "  <thead>\n",
       "    <tr style=\"text-align: right;\">\n",
       "      <th></th>\n",
       "      <th>Names</th>\n",
       "      <th>Ratings</th>\n",
       "      <th>Year</th>\n",
       "    </tr>\n",
       "  </thead>\n",
       "  <tbody>\n",
       "    <tr>\n",
       "      <th>0</th>\n",
       "      <td>1.      Pariyerum Perumal(2018)</td>\n",
       "      <td>8.5</td>\n",
       "      <td>(2018)</td>\n",
       "    </tr>\n",
       "    <tr>\n",
       "      <th>1</th>\n",
       "      <td>2.      Nayakan(1987)</td>\n",
       "      <td>8.5</td>\n",
       "      <td>(1987)</td>\n",
       "    </tr>\n",
       "    <tr>\n",
       "      <th>2</th>\n",
       "      <td>3.      Jai Bhim(2021)</td>\n",
       "      <td>8.5</td>\n",
       "      <td>(2021)</td>\n",
       "    </tr>\n",
       "    <tr>\n",
       "      <th>3</th>\n",
       "      <td>4.      Anbe Sivam(2003)</td>\n",
       "      <td>8.5</td>\n",
       "      <td>(2003)</td>\n",
       "    </tr>\n",
       "    <tr>\n",
       "      <th>4</th>\n",
       "      <td>5.      C/o Kancharapalem(2018)</td>\n",
       "      <td>8.5</td>\n",
       "      <td>(2018)</td>\n",
       "    </tr>\n",
       "    <tr>\n",
       "      <th>...</th>\n",
       "      <td>...</td>\n",
       "      <td>...</td>\n",
       "      <td>...</td>\n",
       "    </tr>\n",
       "    <tr>\n",
       "      <th>95</th>\n",
       "      <td>96.      Munna Bhai M.B.B.S.(2003)</td>\n",
       "      <td>8.1</td>\n",
       "      <td>(2003)</td>\n",
       "    </tr>\n",
       "    <tr>\n",
       "      <th>96</th>\n",
       "      <td>97.      Sarfarosh(1999)</td>\n",
       "      <td>8.1</td>\n",
       "      <td>(1999)</td>\n",
       "    </tr>\n",
       "    <tr>\n",
       "      <th>97</th>\n",
       "      <td>98.      Roja(1992)</td>\n",
       "      <td>8.1</td>\n",
       "      <td>(1992)</td>\n",
       "    </tr>\n",
       "    <tr>\n",
       "      <th>98</th>\n",
       "      <td>99.      Uri: The Surgical Strike(2019)</td>\n",
       "      <td>8.1</td>\n",
       "      <td>(2019)</td>\n",
       "    </tr>\n",
       "    <tr>\n",
       "      <th>99</th>\n",
       "      <td>100.      Queen(2013)</td>\n",
       "      <td>8.1</td>\n",
       "      <td>(2013)</td>\n",
       "    </tr>\n",
       "  </tbody>\n",
       "</table>\n",
       "<p>100 rows × 3 columns</p>\n",
       "</div>"
      ],
      "text/plain": [
       "                                            Names Ratings    Year\n",
       "0                 1.      Pariyerum Perumal(2018)     8.5  (2018)\n",
       "1                           2.      Nayakan(1987)     8.5  (1987)\n",
       "2                          3.      Jai Bhim(2021)     8.5  (2021)\n",
       "3                        4.      Anbe Sivam(2003)     8.5  (2003)\n",
       "4                 5.      C/o Kancharapalem(2018)     8.5  (2018)\n",
       "..                                            ...     ...     ...\n",
       "95             96.      Munna Bhai M.B.B.S.(2003)     8.1  (2003)\n",
       "96                       97.      Sarfarosh(1999)     8.1  (1999)\n",
       "97                            98.      Roja(1992)     8.1  (1992)\n",
       "98        99.      Uri: The Surgical Strike(2019)     8.1  (2019)\n",
       "99                          100.      Queen(2013)     8.1  (2013)\n",
       "\n",
       "[100 rows x 3 columns]"
      ]
     },
     "execution_count": 80,
     "metadata": {},
     "output_type": "execute_result"
    }
   ],
   "source": [
    "df=pd.DataFrame({'Names':movie_names,'Ratings':movie_rating,'Year':movie_year})\n",
    "df"
   ]
  },
  {
   "cell_type": "markdown",
   "id": "b915e969",
   "metadata": {},
   "source": [
    "# question 5\n"
   ]
  },
  {
   "cell_type": "code",
   "execution_count": 6,
   "id": "c39b7476",
   "metadata": {},
   "outputs": [
    {
     "data": {
      "text/plain": [
       "<Response [200]>"
      ]
     },
     "execution_count": 6,
     "metadata": {},
     "output_type": "execute_result"
    }
   ],
   "source": [
    "page=requests.get('https://www.icc-cricket.com/rankings/mens/team-rankings/odi')\n",
    "page"
   ]
  },
  {
   "cell_type": "code",
   "execution_count": 82,
   "id": "7e6a78ad",
   "metadata": {},
   "outputs": [],
   "source": [
    "soup =BeautifulSoup(page.content)"
   ]
  },
  {
   "cell_type": "code",
   "execution_count": 83,
   "id": "0cc2225d",
   "metadata": {},
   "outputs": [
    {
     "data": {
      "text/plain": [
       "['New Zealand',\n",
       " 'England',\n",
       " 'Australia',\n",
       " 'India',\n",
       " 'South Africa',\n",
       " 'Pakistan',\n",
       " 'Bangladesh',\n",
       " 'West Indies',\n",
       " 'Sri Lanka',\n",
       " 'Afghanistan']"
      ]
     },
     "execution_count": 83,
     "metadata": {},
     "output_type": "execute_result"
    }
   ],
   "source": [
    "team=soup.find_all('span',class_='u-hide-phablet')\n",
    "odi_team= []\n",
    "for i in range(0,10):\n",
    "    odi_team.append(team[i].get_text())\n",
    "odi_team"
   ]
  },
  {
   "cell_type": "code",
   "execution_count": 86,
   "id": "363b2f41",
   "metadata": {},
   "outputs": [
    {
     "data": {
      "text/plain": [
       "[['32'], ['28'], ['32'], ['25'], ['27'], ['30'], ['30'], ['32'], ['17'], ['7']]"
      ]
     },
     "execution_count": 86,
     "metadata": {},
     "output_type": "execute_result"
    }
   ],
   "source": [
    "matches=soup.find_all('td',class_='table-body__cell u-center-text')\n",
    "odi_matches=[]\n",
    "for i in range(0,20,2):\n",
    "    odi_matches.append(matches[i].get_text().split('|'))\n",
    "    \n",
    "odi_matches"
   ]
  },
  {
   "cell_type": "code",
   "execution_count": 87,
   "id": "29052e92",
   "metadata": {},
   "outputs": [
    {
     "data": {
      "text/plain": [
       "[['3,793'],\n",
       " ['3,244'],\n",
       " ['3,624'],\n",
       " ['2,459'],\n",
       " ['2,524'],\n",
       " ['2,740'],\n",
       " ['2,523'],\n",
       " ['2,657'],\n",
       " ['1,054'],\n",
       " ['336']]"
      ]
     },
     "execution_count": 87,
     "metadata": {},
     "output_type": "execute_result"
    }
   ],
   "source": [
    "points=soup.find_all('td',class_='table-body__cell u-center-text')\n",
    "odi_points=[]\n",
    "for i in range(1,20,2):\n",
    "    odi_points.append(points[i].get_text().split('|'))\n",
    "odi_points"
   ]
  },
  {
   "cell_type": "code",
   "execution_count": 88,
   "id": "1191020a",
   "metadata": {},
   "outputs": [
    {
     "data": {
      "text/plain": [
       "['119', '116', '113', '98', '93', '91', '84', '83', '62', '48']"
      ]
     },
     "execution_count": 88,
     "metadata": {},
     "output_type": "execute_result"
    }
   ],
   "source": [
    "rating=soup.find_all('td',class_='table-body__cell u-text-right rating')\n",
    "odi_ratings=[]\n",
    "for i in range(0,10):\n",
    "    odi_ratings.append(rating[i].get_text())\n",
    "    \n",
    "odi_ratings"
   ]
  },
  {
   "cell_type": "code",
   "execution_count": 89,
   "id": "5a00eab4",
   "metadata": {},
   "outputs": [
    {
     "data": {
      "text/html": [
       "<div>\n",
       "<style scoped>\n",
       "    .dataframe tbody tr th:only-of-type {\n",
       "        vertical-align: middle;\n",
       "    }\n",
       "\n",
       "    .dataframe tbody tr th {\n",
       "        vertical-align: top;\n",
       "    }\n",
       "\n",
       "    .dataframe thead th {\n",
       "        text-align: right;\n",
       "    }\n",
       "</style>\n",
       "<table border=\"1\" class=\"dataframe\">\n",
       "  <thead>\n",
       "    <tr style=\"text-align: right;\">\n",
       "      <th></th>\n",
       "      <th>ODI_teams</th>\n",
       "      <th>ODI_matches</th>\n",
       "      <th>ODI_points</th>\n",
       "      <th>OdI_ratings</th>\n",
       "    </tr>\n",
       "  </thead>\n",
       "  <tbody>\n",
       "    <tr>\n",
       "      <th>0</th>\n",
       "      <td>New Zealand</td>\n",
       "      <td>[32]</td>\n",
       "      <td>[3,793]</td>\n",
       "      <td>119</td>\n",
       "    </tr>\n",
       "    <tr>\n",
       "      <th>1</th>\n",
       "      <td>England</td>\n",
       "      <td>[28]</td>\n",
       "      <td>[3,244]</td>\n",
       "      <td>116</td>\n",
       "    </tr>\n",
       "    <tr>\n",
       "      <th>2</th>\n",
       "      <td>Australia</td>\n",
       "      <td>[32]</td>\n",
       "      <td>[3,624]</td>\n",
       "      <td>113</td>\n",
       "    </tr>\n",
       "    <tr>\n",
       "      <th>3</th>\n",
       "      <td>India</td>\n",
       "      <td>[25]</td>\n",
       "      <td>[2,459]</td>\n",
       "      <td>98</td>\n",
       "    </tr>\n",
       "    <tr>\n",
       "      <th>4</th>\n",
       "      <td>South Africa</td>\n",
       "      <td>[27]</td>\n",
       "      <td>[2,524]</td>\n",
       "      <td>93</td>\n",
       "    </tr>\n",
       "    <tr>\n",
       "      <th>5</th>\n",
       "      <td>Pakistan</td>\n",
       "      <td>[30]</td>\n",
       "      <td>[2,740]</td>\n",
       "      <td>91</td>\n",
       "    </tr>\n",
       "    <tr>\n",
       "      <th>6</th>\n",
       "      <td>Bangladesh</td>\n",
       "      <td>[30]</td>\n",
       "      <td>[2,523]</td>\n",
       "      <td>84</td>\n",
       "    </tr>\n",
       "    <tr>\n",
       "      <th>7</th>\n",
       "      <td>West Indies</td>\n",
       "      <td>[32]</td>\n",
       "      <td>[2,657]</td>\n",
       "      <td>83</td>\n",
       "    </tr>\n",
       "    <tr>\n",
       "      <th>8</th>\n",
       "      <td>Sri Lanka</td>\n",
       "      <td>[17]</td>\n",
       "      <td>[1,054]</td>\n",
       "      <td>62</td>\n",
       "    </tr>\n",
       "    <tr>\n",
       "      <th>9</th>\n",
       "      <td>Afghanistan</td>\n",
       "      <td>[7]</td>\n",
       "      <td>[336]</td>\n",
       "      <td>48</td>\n",
       "    </tr>\n",
       "  </tbody>\n",
       "</table>\n",
       "</div>"
      ],
      "text/plain": [
       "      ODI_teams ODI_matches ODI_points OdI_ratings\n",
       "0   New Zealand        [32]    [3,793]         119\n",
       "1       England        [28]    [3,244]         116\n",
       "2     Australia        [32]    [3,624]         113\n",
       "3         India        [25]    [2,459]          98\n",
       "4  South Africa        [27]    [2,524]          93\n",
       "5      Pakistan        [30]    [2,740]          91\n",
       "6    Bangladesh        [30]    [2,523]          84\n",
       "7   West Indies        [32]    [2,657]          83\n",
       "8     Sri Lanka        [17]    [1,054]          62\n",
       "9   Afghanistan         [7]      [336]          48"
      ]
     },
     "execution_count": 89,
     "metadata": {},
     "output_type": "execute_result"
    }
   ],
   "source": [
    "df=pd.DataFrame({'ODI_teams':odi_team,'ODI_matches':odi_matches,'ODI_points':odi_points,'OdI_ratings':odi_ratings})\n",
    "df"
   ]
  },
  {
   "cell_type": "markdown",
   "id": "d61aac06",
   "metadata": {},
   "source": [
    "# Question 5b ODI batsman\n"
   ]
  },
  {
   "cell_type": "code",
   "execution_count": 34,
   "id": "b5e64ae3",
   "metadata": {},
   "outputs": [
    {
     "data": {
      "text/plain": [
       "<Response [200]>"
      ]
     },
     "execution_count": 34,
     "metadata": {},
     "output_type": "execute_result"
    }
   ],
   "source": [
    "page=requests.get('https://www.icc-cricket.com/rankings/mens/player-rankings/odi')\n",
    "page"
   ]
  },
  {
   "cell_type": "code",
   "execution_count": 35,
   "id": "3bf3fd90",
   "metadata": {},
   "outputs": [],
   "source": [
    "soup =BeautifulSoup(page.content)"
   ]
  },
  {
   "cell_type": "code",
   "execution_count": 36,
   "id": "79b7ecf6",
   "metadata": {},
   "outputs": [
    {
     "data": {
      "text/plain": [
       "[' Virat Kohli ',\n",
       " ' Rohit Sharma ',\n",
       " ' Ross Taylor ',\n",
       " ' Quinton de Kock ',\n",
       " ' Aaron Finch ',\n",
       " ' Jonny Bairstow ',\n",
       " ' David Warner ',\n",
       " ' Kane Williamson ',\n",
       " ' Rassie van der Dussen ',\n",
       " ' Josh Hazlewood ']"
      ]
     },
     "execution_count": 36,
     "metadata": {},
     "output_type": "execute_result"
    }
   ],
   "source": [
    "names=soup.find_all('td', class_=\"table-body__cell name\")\n",
    "player_name=[]\n",
    "for i in range(0,10):\n",
    "    player_name.append(names[i].get_text().replace('\\n',\" \"))\n",
    "player_name"
   ]
  },
  {
   "cell_type": "code",
   "execution_count": 41,
   "id": "0f223841",
   "metadata": {},
   "outputs": [
    {
     "data": {
      "text/plain": [
       "['IND', 'IND', 'NZ', 'SA', 'AUS', 'ENG', 'AUS', 'NZ', 'SA', 'AUS']"
      ]
     },
     "execution_count": 41,
     "metadata": {},
     "output_type": "execute_result"
    }
   ],
   "source": [
    "team=soup.find_all('span', class_=\"table-body__logo-text\")\n",
    "team_name=[]\n",
    "for i in range(0,10):\n",
    "    team_name.append(team[i].get_text().replace('\\n',\"\"))\n",
    "team_name"
   ]
  },
  {
   "cell_type": "code",
   "execution_count": 40,
   "id": "77f6a061",
   "metadata": {},
   "outputs": [
    {
     "data": {
      "text/plain": [
       "['836', '801', '801', '783', '779', '775', '762', '754', '750', '709']"
      ]
     },
     "execution_count": 40,
     "metadata": {},
     "output_type": "execute_result"
    }
   ],
   "source": [
    "ranking=soup.find_all('td',class_=\"table-body__cell u-text-right rating\")\n",
    "team_ranking=[]\n",
    "for i in range(0,10):\n",
    "    team_ranking.append(ranking[i].get_text().replace('\\n',\"\"))\n",
    "team_ranking"
   ]
  },
  {
   "cell_type": "code",
   "execution_count": 45,
   "id": "5e591610",
   "metadata": {},
   "outputs": [
    {
     "data": {
      "text/html": [
       "<div>\n",
       "<style scoped>\n",
       "    .dataframe tbody tr th:only-of-type {\n",
       "        vertical-align: middle;\n",
       "    }\n",
       "\n",
       "    .dataframe tbody tr th {\n",
       "        vertical-align: top;\n",
       "    }\n",
       "\n",
       "    .dataframe thead th {\n",
       "        text-align: right;\n",
       "    }\n",
       "</style>\n",
       "<table border=\"1\" class=\"dataframe\">\n",
       "  <thead>\n",
       "    <tr style=\"text-align: right;\">\n",
       "      <th></th>\n",
       "      <th>player</th>\n",
       "      <th>Team</th>\n",
       "      <th>Rating</th>\n",
       "    </tr>\n",
       "  </thead>\n",
       "  <tbody>\n",
       "    <tr>\n",
       "      <th>0</th>\n",
       "      <td>Virat Kohli</td>\n",
       "      <td>IND</td>\n",
       "      <td>836</td>\n",
       "    </tr>\n",
       "    <tr>\n",
       "      <th>1</th>\n",
       "      <td>Rohit Sharma</td>\n",
       "      <td>IND</td>\n",
       "      <td>801</td>\n",
       "    </tr>\n",
       "    <tr>\n",
       "      <th>2</th>\n",
       "      <td>Ross Taylor</td>\n",
       "      <td>NZ</td>\n",
       "      <td>801</td>\n",
       "    </tr>\n",
       "    <tr>\n",
       "      <th>3</th>\n",
       "      <td>Quinton de Kock</td>\n",
       "      <td>SA</td>\n",
       "      <td>783</td>\n",
       "    </tr>\n",
       "    <tr>\n",
       "      <th>4</th>\n",
       "      <td>Aaron Finch</td>\n",
       "      <td>AUS</td>\n",
       "      <td>779</td>\n",
       "    </tr>\n",
       "    <tr>\n",
       "      <th>5</th>\n",
       "      <td>Jonny Bairstow</td>\n",
       "      <td>ENG</td>\n",
       "      <td>775</td>\n",
       "    </tr>\n",
       "    <tr>\n",
       "      <th>6</th>\n",
       "      <td>David Warner</td>\n",
       "      <td>AUS</td>\n",
       "      <td>762</td>\n",
       "    </tr>\n",
       "    <tr>\n",
       "      <th>7</th>\n",
       "      <td>Kane Williamson</td>\n",
       "      <td>NZ</td>\n",
       "      <td>754</td>\n",
       "    </tr>\n",
       "    <tr>\n",
       "      <th>8</th>\n",
       "      <td>Rassie van der Dussen</td>\n",
       "      <td>SA</td>\n",
       "      <td>750</td>\n",
       "    </tr>\n",
       "    <tr>\n",
       "      <th>9</th>\n",
       "      <td>Josh Hazlewood</td>\n",
       "      <td>AUS</td>\n",
       "      <td>709</td>\n",
       "    </tr>\n",
       "  </tbody>\n",
       "</table>\n",
       "</div>"
      ],
      "text/plain": [
       "                    player Team Rating\n",
       "0             Virat Kohli   IND    836\n",
       "1            Rohit Sharma   IND    801\n",
       "2             Ross Taylor    NZ    801\n",
       "3         Quinton de Kock    SA    783\n",
       "4             Aaron Finch   AUS    779\n",
       "5          Jonny Bairstow   ENG    775\n",
       "6            David Warner   AUS    762\n",
       "7         Kane Williamson    NZ    754\n",
       "8   Rassie van der Dussen    SA    750\n",
       "9          Josh Hazlewood   AUS    709"
      ]
     },
     "execution_count": 45,
     "metadata": {},
     "output_type": "execute_result"
    }
   ],
   "source": [
    "import pandas as pd\n",
    "df=pd.DataFrame({'player':player_name,'Team':team_name,'Rating':team_ranking})\n",
    "df"
   ]
  },
  {
   "cell_type": "markdown",
   "id": "ae441376",
   "metadata": {},
   "source": [
    "# Question 5c\n"
   ]
  },
  {
   "cell_type": "code",
   "execution_count": 46,
   "id": "4b1d0caa",
   "metadata": {},
   "outputs": [
    {
     "data": {
      "text/plain": [
       "<Response [200]>"
      ]
     },
     "execution_count": 46,
     "metadata": {},
     "output_type": "execute_result"
    }
   ],
   "source": [
    "page=requests.get('https://www.icc-cricket.com/rankings/mens/player-rankings/odi/bowling')\n",
    "page"
   ]
  },
  {
   "cell_type": "code",
   "execution_count": 47,
   "id": "a4844cbf",
   "metadata": {},
   "outputs": [],
   "source": [
    "soup =BeautifulSoup(page.content)"
   ]
  },
  {
   "cell_type": "code",
   "execution_count": 48,
   "id": "7b36c019",
   "metadata": {},
   "outputs": [
    {
     "data": {
      "text/plain": [
       "[' Josh Hazlewood ',\n",
       " ' Chris Woakes ',\n",
       " ' Mujeeb Ur Rahman ',\n",
       " ' Mehedi Hasan ',\n",
       " ' Matt Henry ',\n",
       " ' Jasprit Bumrah ',\n",
       " ' Mitchell Starc ',\n",
       " ' Shakib Al Hasan ',\n",
       " ' Andy McBrine ',\n",
       " ' Mustafizur Rahman ']"
      ]
     },
     "execution_count": 48,
     "metadata": {},
     "output_type": "execute_result"
    }
   ],
   "source": [
    "names=soup.find_all('td', class_=\"table-body__cell rankings-table__name name\")\n",
    "player_name=[]\n",
    "for i in range(0,10):\n",
    "    player_name.append(names[i].get_text().replace('\\n',\" \"))\n",
    "player_name"
   ]
  },
  {
   "cell_type": "code",
   "execution_count": 49,
   "id": "ef593ae0",
   "metadata": {},
   "outputs": [
    {
     "data": {
      "text/plain": [
       "['AUS', 'ENG', 'AFG', 'BAN', 'NZ', 'IND', 'AUS', 'BAN', 'IRE', 'BAN']"
      ]
     },
     "execution_count": 49,
     "metadata": {},
     "output_type": "execute_result"
    }
   ],
   "source": [
    "team=soup.find_all('span', class_=\"table-body__logo-text\")\n",
    "team_name=[]\n",
    "for i in range(0,10):\n",
    "    team_name.append(team[i].get_text().replace('\\n',\"\"))\n",
    "team_name"
   ]
  },
  {
   "cell_type": "code",
   "execution_count": 50,
   "id": "12a726b6",
   "metadata": {},
   "outputs": [
    {
     "data": {
      "text/plain": [
       "['709', '700', '697', '692', '691', '689', '652', '650', '646', '640']"
      ]
     },
     "execution_count": 50,
     "metadata": {},
     "output_type": "execute_result"
    }
   ],
   "source": [
    "ranking=soup.find_all('td', class_=\"table-body__cell rating\")\n",
    "team_ranking=[]\n",
    "for i in range(0,10):\n",
    "    team_ranking.append(ranking[i].get_text().replace('\\n',\"\"))\n",
    "team_ranking"
   ]
  },
  {
   "cell_type": "code",
   "execution_count": 51,
   "id": "83602155",
   "metadata": {},
   "outputs": [
    {
     "data": {
      "text/html": [
       "<div>\n",
       "<style scoped>\n",
       "    .dataframe tbody tr th:only-of-type {\n",
       "        vertical-align: middle;\n",
       "    }\n",
       "\n",
       "    .dataframe tbody tr th {\n",
       "        vertical-align: top;\n",
       "    }\n",
       "\n",
       "    .dataframe thead th {\n",
       "        text-align: right;\n",
       "    }\n",
       "</style>\n",
       "<table border=\"1\" class=\"dataframe\">\n",
       "  <thead>\n",
       "    <tr style=\"text-align: right;\">\n",
       "      <th></th>\n",
       "      <th>player</th>\n",
       "      <th>Team</th>\n",
       "      <th>Rating</th>\n",
       "    </tr>\n",
       "  </thead>\n",
       "  <tbody>\n",
       "    <tr>\n",
       "      <th>0</th>\n",
       "      <td>Josh Hazlewood</td>\n",
       "      <td>AUS</td>\n",
       "      <td>709</td>\n",
       "    </tr>\n",
       "    <tr>\n",
       "      <th>1</th>\n",
       "      <td>Chris Woakes</td>\n",
       "      <td>ENG</td>\n",
       "      <td>700</td>\n",
       "    </tr>\n",
       "    <tr>\n",
       "      <th>2</th>\n",
       "      <td>Mujeeb Ur Rahman</td>\n",
       "      <td>AFG</td>\n",
       "      <td>697</td>\n",
       "    </tr>\n",
       "    <tr>\n",
       "      <th>3</th>\n",
       "      <td>Mehedi Hasan</td>\n",
       "      <td>BAN</td>\n",
       "      <td>692</td>\n",
       "    </tr>\n",
       "    <tr>\n",
       "      <th>4</th>\n",
       "      <td>Matt Henry</td>\n",
       "      <td>NZ</td>\n",
       "      <td>691</td>\n",
       "    </tr>\n",
       "    <tr>\n",
       "      <th>5</th>\n",
       "      <td>Jasprit Bumrah</td>\n",
       "      <td>IND</td>\n",
       "      <td>689</td>\n",
       "    </tr>\n",
       "    <tr>\n",
       "      <th>6</th>\n",
       "      <td>Mitchell Starc</td>\n",
       "      <td>AUS</td>\n",
       "      <td>652</td>\n",
       "    </tr>\n",
       "    <tr>\n",
       "      <th>7</th>\n",
       "      <td>Shakib Al Hasan</td>\n",
       "      <td>BAN</td>\n",
       "      <td>650</td>\n",
       "    </tr>\n",
       "    <tr>\n",
       "      <th>8</th>\n",
       "      <td>Andy McBrine</td>\n",
       "      <td>IRE</td>\n",
       "      <td>646</td>\n",
       "    </tr>\n",
       "    <tr>\n",
       "      <th>9</th>\n",
       "      <td>Mustafizur Rahman</td>\n",
       "      <td>BAN</td>\n",
       "      <td>640</td>\n",
       "    </tr>\n",
       "  </tbody>\n",
       "</table>\n",
       "</div>"
      ],
      "text/plain": [
       "                player Team Rating\n",
       "0      Josh Hazlewood   AUS    709\n",
       "1        Chris Woakes   ENG    700\n",
       "2    Mujeeb Ur Rahman   AFG    697\n",
       "3        Mehedi Hasan   BAN    692\n",
       "4          Matt Henry    NZ    691\n",
       "5      Jasprit Bumrah   IND    689\n",
       "6      Mitchell Starc   AUS    652\n",
       "7     Shakib Al Hasan   BAN    650\n",
       "8        Andy McBrine   IRE    646\n",
       "9   Mustafizur Rahman   BAN    640"
      ]
     },
     "execution_count": 51,
     "metadata": {},
     "output_type": "execute_result"
    }
   ],
   "source": [
    "import pandas as pd\n",
    "df=pd.DataFrame({'player':player_name,'Team':team_name,'Rating':team_ranking})\n",
    "df"
   ]
  },
  {
   "cell_type": "markdown",
   "id": "550edd55",
   "metadata": {},
   "source": [
    "# Question 6"
   ]
  },
  {
   "cell_type": "code",
   "execution_count": 53,
   "id": "82278a46",
   "metadata": {},
   "outputs": [
    {
     "data": {
      "text/plain": [
       "<Response [200]>"
      ]
     },
     "execution_count": 53,
     "metadata": {},
     "output_type": "execute_result"
    }
   ],
   "source": [
    "page=requests.get(\"https://www.icc-cricket.com/rankings/womens/team-rankings/odi\")\n",
    "page"
   ]
  },
  {
   "cell_type": "code",
   "execution_count": 54,
   "id": "4395ac64",
   "metadata": {},
   "outputs": [],
   "source": [
    "soup=BeautifulSoup(page.content)"
   ]
  },
  {
   "cell_type": "code",
   "execution_count": 128,
   "id": "7b00b985",
   "metadata": {},
   "outputs": [
    {
     "data": {
      "text/plain": [
       "['Australia',\n",
       " 'South Africa',\n",
       " 'England',\n",
       " 'India',\n",
       " 'Bangladesh',\n",
       " 'New Zealand',\n",
       " 'West Indies',\n",
       " 'Pakistan',\n",
       " 'Ireland',\n",
       " 'Sri Lanka']"
      ]
     },
     "execution_count": 128,
     "metadata": {},
     "output_type": "execute_result"
    }
   ],
   "source": [
    "teams=soup.find_all('span', class_=\"u-hide-phablet\")\n",
    "womens_team=[]\n",
    "for i in range(0,10):\n",
    "    womens_team.append(teams[i].get_text().replace('\\n',\"\"))\n",
    "womens_team\n"
   ]
  },
  {
   "cell_type": "code",
   "execution_count": 75,
   "id": "751ab457",
   "metadata": {},
   "outputs": [
    {
     "data": {
      "text/plain": [
       "['19', '18', '17', '5', '19', '19', '19', '5', '5', '8']"
      ]
     },
     "execution_count": 75,
     "metadata": {},
     "output_type": "execute_result"
    }
   ],
   "source": [
    "matches=soup.find_all('td',class_='table-body__cell u-center-text')\n",
    "womens_team_matches=[]\n",
    "for i in range(0,19,2):\n",
    "    womens_team_matches.append(matches[i].get_text())\n",
    "\n",
    "womens_team_matches"
   ]
  },
  {
   "cell_type": "code",
   "execution_count": 79,
   "id": "54a93b23",
   "metadata": {},
   "outputs": [
    {
     "data": {
      "text/plain": [
       "['2,307',\n",
       " '2,148',\n",
       " '1,899',\n",
       " '475',\n",
       " '1,668',\n",
       " '1,658',\n",
       " '1,304',\n",
       " '240',\n",
       " '233',\n",
       " '0']"
      ]
     },
     "execution_count": 79,
     "metadata": {},
     "output_type": "execute_result"
    }
   ],
   "source": [
    "points=soup.find_all('td',class_='table-body__cell u-center-text')\n",
    "womens_team_points=[]\n",
    "for i in range(1,20,2):\n",
    "    womens_team_points.append(points[i].get_text())\n",
    "    \n",
    "womens_team_points"
   ]
  },
  {
   "cell_type": "code",
   "execution_count": 80,
   "id": "028f2f1c",
   "metadata": {},
   "outputs": [
    {
     "data": {
      "text/plain": [
       "['121', '119', '112', '95', '88', '87', '69', '48', '47', '0']"
      ]
     },
     "execution_count": 80,
     "metadata": {},
     "output_type": "execute_result"
    }
   ],
   "source": [
    "rating=soup.find_all('td',class_='table-body__cell u-text-right rating')\n",
    "team_rating=[]\n",
    "for i in range(0,10):\n",
    "    team_rating.append(rating[i].get_text())\n",
    "\n",
    "team_rating\n",
    "    \n",
    "            "
   ]
  },
  {
   "cell_type": "code",
   "execution_count": 81,
   "id": "ff088785",
   "metadata": {},
   "outputs": [
    {
     "name": "stdout",
     "output_type": "stream",
     "text": [
      "10 10 10 10\n"
     ]
    }
   ],
   "source": [
    "print(len(womens_team),len(womens_team_matches),len(womens_team_points),len(team_rating))"
   ]
  },
  {
   "cell_type": "code",
   "execution_count": 82,
   "id": "4be16776",
   "metadata": {},
   "outputs": [
    {
     "data": {
      "text/html": [
       "<div>\n",
       "<style scoped>\n",
       "    .dataframe tbody tr th:only-of-type {\n",
       "        vertical-align: middle;\n",
       "    }\n",
       "\n",
       "    .dataframe tbody tr th {\n",
       "        vertical-align: top;\n",
       "    }\n",
       "\n",
       "    .dataframe thead th {\n",
       "        text-align: right;\n",
       "    }\n",
       "</style>\n",
       "<table border=\"1\" class=\"dataframe\">\n",
       "  <thead>\n",
       "    <tr style=\"text-align: right;\">\n",
       "      <th></th>\n",
       "      <th>Team</th>\n",
       "      <th>Matches</th>\n",
       "      <th>Points</th>\n",
       "      <th>Ratings</th>\n",
       "    </tr>\n",
       "  </thead>\n",
       "  <tbody>\n",
       "    <tr>\n",
       "      <th>0</th>\n",
       "      <td>Australia</td>\n",
       "      <td>19</td>\n",
       "      <td>2,307</td>\n",
       "      <td>121</td>\n",
       "    </tr>\n",
       "    <tr>\n",
       "      <th>1</th>\n",
       "      <td>South Africa</td>\n",
       "      <td>18</td>\n",
       "      <td>2,148</td>\n",
       "      <td>119</td>\n",
       "    </tr>\n",
       "    <tr>\n",
       "      <th>2</th>\n",
       "      <td>England</td>\n",
       "      <td>17</td>\n",
       "      <td>1,899</td>\n",
       "      <td>112</td>\n",
       "    </tr>\n",
       "    <tr>\n",
       "      <th>3</th>\n",
       "      <td>India</td>\n",
       "      <td>5</td>\n",
       "      <td>475</td>\n",
       "      <td>95</td>\n",
       "    </tr>\n",
       "    <tr>\n",
       "      <th>4</th>\n",
       "      <td>Bangladesh</td>\n",
       "      <td>19</td>\n",
       "      <td>1,668</td>\n",
       "      <td>88</td>\n",
       "    </tr>\n",
       "    <tr>\n",
       "      <th>5</th>\n",
       "      <td>New Zealand</td>\n",
       "      <td>19</td>\n",
       "      <td>1,658</td>\n",
       "      <td>87</td>\n",
       "    </tr>\n",
       "    <tr>\n",
       "      <th>6</th>\n",
       "      <td>West Indies</td>\n",
       "      <td>19</td>\n",
       "      <td>1,304</td>\n",
       "      <td>69</td>\n",
       "    </tr>\n",
       "    <tr>\n",
       "      <th>7</th>\n",
       "      <td>Pakistan</td>\n",
       "      <td>5</td>\n",
       "      <td>240</td>\n",
       "      <td>48</td>\n",
       "    </tr>\n",
       "    <tr>\n",
       "      <th>8</th>\n",
       "      <td>Ireland</td>\n",
       "      <td>5</td>\n",
       "      <td>233</td>\n",
       "      <td>47</td>\n",
       "    </tr>\n",
       "    <tr>\n",
       "      <th>9</th>\n",
       "      <td>Sri Lanka</td>\n",
       "      <td>8</td>\n",
       "      <td>0</td>\n",
       "      <td>0</td>\n",
       "    </tr>\n",
       "  </tbody>\n",
       "</table>\n",
       "</div>"
      ],
      "text/plain": [
       "           Team Matches Points Ratings\n",
       "0     Australia      19  2,307     121\n",
       "1  South Africa      18  2,148     119\n",
       "2       England      17  1,899     112\n",
       "3         India       5    475      95\n",
       "4    Bangladesh      19  1,668      88\n",
       "5   New Zealand      19  1,658      87\n",
       "6   West Indies      19  1,304      69\n",
       "7      Pakistan       5    240      48\n",
       "8       Ireland       5    233      47\n",
       "9     Sri Lanka       8      0       0"
      ]
     },
     "execution_count": 82,
     "metadata": {},
     "output_type": "execute_result"
    }
   ],
   "source": [
    "df=pd.DataFrame({'Team':womens_team,'Matches':womens_team_matches,'Points':womens_team_points,'Ratings':team_rating})\n",
    "df"
   ]
  },
  {
   "cell_type": "markdown",
   "id": "bf6b1b25",
   "metadata": {},
   "source": [
    "# Question 6b"
   ]
  },
  {
   "cell_type": "code",
   "execution_count": 131,
   "id": "46beeba4",
   "metadata": {},
   "outputs": [
    {
     "data": {
      "text/plain": [
       "<Response [200]>"
      ]
     },
     "execution_count": 131,
     "metadata": {},
     "output_type": "execute_result"
    }
   ],
   "source": [
    "page = requests.get('https://www.icc-cricket.com/rankings/womens/player-rankings/odi/batting')\n",
    "page"
   ]
  },
  {
   "cell_type": "code",
   "execution_count": 132,
   "id": "03cae864",
   "metadata": {},
   "outputs": [],
   "source": [
    "soup =BeautifulSoup(page.content)"
   ]
  },
  {
   "cell_type": "code",
   "execution_count": 133,
   "id": "f80d8183",
   "metadata": {},
   "outputs": [
    {
     "data": {
      "text/plain": [
       "['Mithali Raj',\n",
       " 'Lizelle Lee',\n",
       " 'Tammy Beaumont',\n",
       " 'Amy Satterthwaite',\n",
       " 'Smriti Mandhana',\n",
       " 'Meg Lanning',\n",
       " 'Beth Mooney',\n",
       " 'Heather Knight',\n",
       " 'Rachael Haynes',\n",
       " 'Stafanie Taylor']"
      ]
     },
     "execution_count": 133,
     "metadata": {},
     "output_type": "execute_result"
    }
   ],
   "source": [
    "names=soup.find_all('td',class_='table-body__cell rankings-table__name name')\n",
    "womens_names=[]\n",
    "for i in range(0,10):\n",
    "    womens_names.append(names[i].get_text().replace(\"\\n\",\"\"))\n",
    "                       \n",
    "womens_names"
   ]
  },
  {
   "cell_type": "code",
   "execution_count": 134,
   "id": "e4a8aae4",
   "metadata": {},
   "outputs": [
    {
     "data": {
      "text/plain": [
       "['IND', 'SA', 'ENG', 'NZ', 'IND', 'AUS', 'AUS', 'ENG', 'AUS', 'WI']"
      ]
     },
     "execution_count": 134,
     "metadata": {},
     "output_type": "execute_result"
    }
   ],
   "source": [
    "team=soup.find_all('span',class_='table-body__logo-text')\n",
    "womens_team=[]\n",
    "for i in range(0,10):\n",
    "    womens_team.append(team[i].get_text())\n",
    "\n",
    "womens_team"
   ]
  },
  {
   "cell_type": "code",
   "execution_count": 135,
   "id": "d114205e",
   "metadata": {},
   "outputs": [
    {
     "data": {
      "text/plain": [
       "['738', '731', '728', '717', '710', '699', '690', '674', '668', '667']"
      ]
     },
     "execution_count": 135,
     "metadata": {},
     "output_type": "execute_result"
    }
   ],
   "source": [
    "rating=soup.find_all('td',class_='table-body__cell rating')\n",
    "womens_team_rating=[]\n",
    "for i in range(0,10):\n",
    "    womens_team_rating.append(rating[i].get_text())\n",
    "\n",
    "womens_team_rating\n",
    " "
   ]
  },
  {
   "cell_type": "code",
   "execution_count": 136,
   "id": "b870b035",
   "metadata": {},
   "outputs": [
    {
     "data": {
      "text/html": [
       "<div>\n",
       "<style scoped>\n",
       "    .dataframe tbody tr th:only-of-type {\n",
       "        vertical-align: middle;\n",
       "    }\n",
       "\n",
       "    .dataframe tbody tr th {\n",
       "        vertical-align: top;\n",
       "    }\n",
       "\n",
       "    .dataframe thead th {\n",
       "        text-align: right;\n",
       "    }\n",
       "</style>\n",
       "<table border=\"1\" class=\"dataframe\">\n",
       "  <thead>\n",
       "    <tr style=\"text-align: right;\">\n",
       "      <th></th>\n",
       "      <th>Names</th>\n",
       "      <th>Team</th>\n",
       "      <th>Rating</th>\n",
       "    </tr>\n",
       "  </thead>\n",
       "  <tbody>\n",
       "    <tr>\n",
       "      <th>0</th>\n",
       "      <td>Mithali Raj</td>\n",
       "      <td>IND</td>\n",
       "      <td>738</td>\n",
       "    </tr>\n",
       "    <tr>\n",
       "      <th>1</th>\n",
       "      <td>Lizelle Lee</td>\n",
       "      <td>SA</td>\n",
       "      <td>731</td>\n",
       "    </tr>\n",
       "    <tr>\n",
       "      <th>2</th>\n",
       "      <td>Tammy Beaumont</td>\n",
       "      <td>ENG</td>\n",
       "      <td>728</td>\n",
       "    </tr>\n",
       "    <tr>\n",
       "      <th>3</th>\n",
       "      <td>Amy Satterthwaite</td>\n",
       "      <td>NZ</td>\n",
       "      <td>717</td>\n",
       "    </tr>\n",
       "    <tr>\n",
       "      <th>4</th>\n",
       "      <td>Smriti Mandhana</td>\n",
       "      <td>IND</td>\n",
       "      <td>710</td>\n",
       "    </tr>\n",
       "    <tr>\n",
       "      <th>5</th>\n",
       "      <td>Meg Lanning</td>\n",
       "      <td>AUS</td>\n",
       "      <td>699</td>\n",
       "    </tr>\n",
       "    <tr>\n",
       "      <th>6</th>\n",
       "      <td>Beth Mooney</td>\n",
       "      <td>AUS</td>\n",
       "      <td>690</td>\n",
       "    </tr>\n",
       "    <tr>\n",
       "      <th>7</th>\n",
       "      <td>Heather Knight</td>\n",
       "      <td>ENG</td>\n",
       "      <td>674</td>\n",
       "    </tr>\n",
       "    <tr>\n",
       "      <th>8</th>\n",
       "      <td>Rachael Haynes</td>\n",
       "      <td>AUS</td>\n",
       "      <td>668</td>\n",
       "    </tr>\n",
       "    <tr>\n",
       "      <th>9</th>\n",
       "      <td>Stafanie Taylor</td>\n",
       "      <td>WI</td>\n",
       "      <td>667</td>\n",
       "    </tr>\n",
       "  </tbody>\n",
       "</table>\n",
       "</div>"
      ],
      "text/plain": [
       "               Names Team Rating\n",
       "0        Mithali Raj  IND    738\n",
       "1        Lizelle Lee   SA    731\n",
       "2     Tammy Beaumont  ENG    728\n",
       "3  Amy Satterthwaite   NZ    717\n",
       "4    Smriti Mandhana  IND    710\n",
       "5        Meg Lanning  AUS    699\n",
       "6        Beth Mooney  AUS    690\n",
       "7     Heather Knight  ENG    674\n",
       "8     Rachael Haynes  AUS    668\n",
       "9    Stafanie Taylor   WI    667"
      ]
     },
     "execution_count": 136,
     "metadata": {},
     "output_type": "execute_result"
    }
   ],
   "source": [
    "df=pd.DataFrame({'Names':womens_names,'Team':womens_team,'Rating':womens_team_rating})\n",
    "df"
   ]
  },
  {
   "cell_type": "markdown",
   "id": "8d31d211",
   "metadata": {},
   "source": [
    "# Question 6c"
   ]
  },
  {
   "cell_type": "code",
   "execution_count": 137,
   "id": "10f63fb5",
   "metadata": {},
   "outputs": [
    {
     "data": {
      "text/plain": [
       "<Response [200]>"
      ]
     },
     "execution_count": 137,
     "metadata": {},
     "output_type": "execute_result"
    }
   ],
   "source": [
    "page=requests.get(\"https://www.icc-cricket.com/rankings/womens/player-rankings/odi/all-rounder\")\n",
    "page"
   ]
  },
  {
   "cell_type": "code",
   "execution_count": 138,
   "id": "beb08859",
   "metadata": {},
   "outputs": [],
   "source": [
    "soup=BeautifulSoup(page.content)"
   ]
  },
  {
   "cell_type": "code",
   "execution_count": 140,
   "id": "69645810",
   "metadata": {},
   "outputs": [
    {
     "data": {
      "text/plain": [
       "['Ellyse Perry',\n",
       " 'Marizanne Kapp',\n",
       " 'Deepti Sharma',\n",
       " 'Stafanie Taylor',\n",
       " 'Hayley Matthews',\n",
       " 'Ashleigh Gardner',\n",
       " 'Jess Jonassen',\n",
       " 'Katherine Brunt',\n",
       " 'Dane van Niekerk',\n",
       " 'Jhulan Goswami']"
      ]
     },
     "execution_count": 140,
     "metadata": {},
     "output_type": "execute_result"
    }
   ],
   "source": [
    "names=soup.find_all('td',class_='table-body__cell rankings-table__name name')\n",
    "women_odi_names=[]\n",
    "for i in range(0,10):\n",
    "    women_odi_names.append(names[i].get_text().replace(\"\\n\",\"\"))\n",
    "\n",
    "\n",
    "women_odi_names   "
   ]
  },
  {
   "cell_type": "code",
   "execution_count": 141,
   "id": "56096102",
   "metadata": {},
   "outputs": [
    {
     "data": {
      "text/plain": [
       "['AUS', 'SA', 'IND', 'WI', 'WI', 'AUS', 'AUS', 'ENG', 'SA', 'IND']"
      ]
     },
     "execution_count": 141,
     "metadata": {},
     "output_type": "execute_result"
    }
   ],
   "source": [
    "team=soup.find_all('span',class_='table-body__logo-text')\n",
    "women_odi_team=[]\n",
    "for i in range(0,10):\n",
    "    women_odi_team.append(team[i].get_text())\n",
    "    \n",
    "women_odi_team"
   ]
  },
  {
   "cell_type": "code",
   "execution_count": 142,
   "id": "e32fe19c",
   "metadata": {},
   "outputs": [
    {
     "data": {
      "text/plain": [
       "['365', '355', '299', '281', '280', '275', '272', '272', '253', '251']"
      ]
     },
     "execution_count": 142,
     "metadata": {},
     "output_type": "execute_result"
    }
   ],
   "source": [
    "rating=soup.find_all('td',class_='table-body__cell rating')\n",
    "women_odi_rating=[]\n",
    "for i in range(0,10):\n",
    "    women_odi_rating.append(rating[i].get_text())\n",
    "    \n",
    "\n",
    "women_odi_rating"
   ]
  },
  {
   "cell_type": "code",
   "execution_count": 143,
   "id": "b8f3d07d",
   "metadata": {},
   "outputs": [
    {
     "data": {
      "text/html": [
       "<div>\n",
       "<style scoped>\n",
       "    .dataframe tbody tr th:only-of-type {\n",
       "        vertical-align: middle;\n",
       "    }\n",
       "\n",
       "    .dataframe tbody tr th {\n",
       "        vertical-align: top;\n",
       "    }\n",
       "\n",
       "    .dataframe thead th {\n",
       "        text-align: right;\n",
       "    }\n",
       "</style>\n",
       "<table border=\"1\" class=\"dataframe\">\n",
       "  <thead>\n",
       "    <tr style=\"text-align: right;\">\n",
       "      <th></th>\n",
       "      <th>Names</th>\n",
       "      <th>Team</th>\n",
       "      <th>Rating</th>\n",
       "    </tr>\n",
       "  </thead>\n",
       "  <tbody>\n",
       "    <tr>\n",
       "      <th>0</th>\n",
       "      <td>Ellyse Perry</td>\n",
       "      <td>AUS</td>\n",
       "      <td>365</td>\n",
       "    </tr>\n",
       "    <tr>\n",
       "      <th>1</th>\n",
       "      <td>Marizanne Kapp</td>\n",
       "      <td>SA</td>\n",
       "      <td>355</td>\n",
       "    </tr>\n",
       "    <tr>\n",
       "      <th>2</th>\n",
       "      <td>Deepti Sharma</td>\n",
       "      <td>IND</td>\n",
       "      <td>299</td>\n",
       "    </tr>\n",
       "    <tr>\n",
       "      <th>3</th>\n",
       "      <td>Stafanie Taylor</td>\n",
       "      <td>WI</td>\n",
       "      <td>281</td>\n",
       "    </tr>\n",
       "    <tr>\n",
       "      <th>4</th>\n",
       "      <td>Hayley Matthews</td>\n",
       "      <td>WI</td>\n",
       "      <td>280</td>\n",
       "    </tr>\n",
       "    <tr>\n",
       "      <th>5</th>\n",
       "      <td>Ashleigh Gardner</td>\n",
       "      <td>AUS</td>\n",
       "      <td>275</td>\n",
       "    </tr>\n",
       "    <tr>\n",
       "      <th>6</th>\n",
       "      <td>Jess Jonassen</td>\n",
       "      <td>AUS</td>\n",
       "      <td>272</td>\n",
       "    </tr>\n",
       "    <tr>\n",
       "      <th>7</th>\n",
       "      <td>Katherine Brunt</td>\n",
       "      <td>ENG</td>\n",
       "      <td>272</td>\n",
       "    </tr>\n",
       "    <tr>\n",
       "      <th>8</th>\n",
       "      <td>Dane van Niekerk</td>\n",
       "      <td>SA</td>\n",
       "      <td>253</td>\n",
       "    </tr>\n",
       "    <tr>\n",
       "      <th>9</th>\n",
       "      <td>Jhulan Goswami</td>\n",
       "      <td>IND</td>\n",
       "      <td>251</td>\n",
       "    </tr>\n",
       "  </tbody>\n",
       "</table>\n",
       "</div>"
      ],
      "text/plain": [
       "              Names Team Rating\n",
       "0      Ellyse Perry  AUS    365\n",
       "1    Marizanne Kapp   SA    355\n",
       "2     Deepti Sharma  IND    299\n",
       "3   Stafanie Taylor   WI    281\n",
       "4   Hayley Matthews   WI    280\n",
       "5  Ashleigh Gardner  AUS    275\n",
       "6     Jess Jonassen  AUS    272\n",
       "7   Katherine Brunt  ENG    272\n",
       "8  Dane van Niekerk   SA    253\n",
       "9    Jhulan Goswami  IND    251"
      ]
     },
     "execution_count": 143,
     "metadata": {},
     "output_type": "execute_result"
    }
   ],
   "source": [
    "df=pd.DataFrame({'Names':women_odi_names,'Team':women_odi_team,'Rating':women_odi_rating})\n",
    "df"
   ]
  },
  {
   "cell_type": "markdown",
   "id": "638c88ca",
   "metadata": {},
   "source": [
    "# Question 7"
   ]
  },
  {
   "cell_type": "code",
   "execution_count": 156,
   "id": "940e32b2",
   "metadata": {},
   "outputs": [
    {
     "data": {
      "text/plain": [
       "<Response [200]>"
      ]
     },
     "execution_count": 156,
     "metadata": {},
     "output_type": "execute_result"
    }
   ],
   "source": [
    "page=requests.get(\"https://coreyms.com/\")\n",
    "page"
   ]
  },
  {
   "cell_type": "code",
   "execution_count": 157,
   "id": "3a5a6694",
   "metadata": {},
   "outputs": [],
   "source": [
    "soup=BeautifulSoup(page.content)"
   ]
  },
  {
   "cell_type": "code",
   "execution_count": 176,
   "id": "e2094d09",
   "metadata": {},
   "outputs": [
    {
     "data": {
      "text/plain": [
       "[]"
      ]
     },
     "execution_count": 176,
     "metadata": {},
     "output_type": "execute_result"
    }
   ],
   "source": [
    "posts=[]\n",
    "for i in soup.find_all('a', class_=\"entry-title-link\" ):\n",
    "    posts.append(i.text)\n",
    "posts\n"
   ]
  },
  {
   "cell_type": "code",
   "execution_count": 160,
   "id": "d59f0535",
   "metadata": {},
   "outputs": [
    {
     "data": {
      "text/plain": [
       "['h1 CoreyMS',\n",
       " 'h2 Python Tutorial: Zip Files – Creating and Extracting Zip Archives',\n",
       " 'h2 Python Data Science Tutorial: Analyzing the 2019 Stack Overflow Developer Survey',\n",
       " 'h2 Python Multiprocessing Tutorial: Run Code in Parallel Using the Multiprocessing Module',\n",
       " 'h2 Python Threading Tutorial: Run Code Concurrently Using the Threading Module',\n",
       " 'h2 Update (2019-09-03)',\n",
       " 'h2 Python Quick Tip: The Difference Between “==” and “is” (Equality vs Identity)',\n",
       " 'h2 Python Tutorial: Calling External Commands Using the Subprocess Module',\n",
       " 'h2 Visual Studio Code (Windows) – Setting up a Python Development Environment and Complete Overview',\n",
       " 'h2 Visual Studio Code (Mac) – Setting up a Python Development Environment and Complete Overview',\n",
       " 'h2 Clarifying the Issues with Mutable Default Arguments',\n",
       " 'h4 Main Contributor',\n",
       " 'h4 Top Contributors (17)',\n",
       " 'h4 Search CoreyMS.com',\n",
       " 'h4 Subscribe to Future Posts',\n",
       " 'h4 Recommended Books',\n",
       " 'h4 Podcasts I Listen To']"
      ]
     },
     "execution_count": 160,
     "metadata": {},
     "output_type": "execute_result"
    }
   ],
   "source": [
    "headers=[]\n",
    "for heads in soup.find_all([\"h1\",\"h2\",\"h3\",\"h4\",\"h5\",\"h6\"]):\n",
    "    headers.append(heads.name+\" \"+heads.text.strip())\n",
    "headers"
   ]
  },
  {
   "cell_type": "code",
   "execution_count": 164,
   "id": "199bdccc",
   "metadata": {},
   "outputs": [
    {
     "data": {
      "text/plain": [
       "['November 19, 2019',\n",
       " 'October 17, 2019',\n",
       " 'September 21, 2019',\n",
       " 'September 12, 2019',\n",
       " 'September 3, 2019',\n",
       " 'August 6, 2019',\n",
       " 'July 24, 2019',\n",
       " 'May 1, 2019',\n",
       " 'May 1, 2019',\n",
       " 'April 24, 2019']"
      ]
     },
     "execution_count": 164,
     "metadata": {},
     "output_type": "execute_result"
    }
   ],
   "source": [
    "dates=[]\n",
    "for i in soup.find_all('time', class_=\"entry-time\"):\n",
    "    dates.append(i.text)\n",
    "dates\n"
   ]
  },
  {
   "cell_type": "code",
   "execution_count": 165,
   "id": "e80d46ef",
   "metadata": {},
   "outputs": [
    {
     "data": {
      "text/plain": [
       "['\\nIn this video, we will be learning how to create and extract zip archives. We will start by using the zipfile module, and then we will see how to do this using the shutil module. We will learn how to do this with single files and directories, as well as learning how to use gzip as well. Let’s get started…\\n\\n',\n",
       " '\\nIn this Python Programming video, we will be learning how to download and analyze real-world data from the 2019 Stack Overflow Developer Survey. This is terrific practice for anyone getting into the data science field. We will learn different ways to analyze this data and also some best practices. Let’s get started…\\n\\n\\n\\n',\n",
       " '\\nIn this Python Programming video, we will be learning how to run code in parallel using the multiprocessing module. We will also look at how to process multiple high-resolution images at the same time using a ProcessPoolExecutor from the concurrent.futures module. Let’s get started…\\n\\n\\n\\n',\n",
       " '\\nIn this Python Programming video, we will be learning how to run threads concurrently using the threading module. We will also look at how to download multiple high-resolution images online using a ThreadPoolExecutor from the concurrent.futures module. Let’s get started…\\n\\n\\n\\n',\n",
       " '\\nHey everyone. I wanted to give you an update on my videos. I will be releasing videos on threading and multiprocessing within the next week. Thanks so much for your patience. I currently have a temporary recording studio setup at my Airbnb that will allow me to record and edit the threading/multiprocessing videos. I am going to be moving into my new house in 10 days and once I have my recording studio setup then you can expect much faster video releases. I really appreciate how patient everyone has been while I go through this move, especially those of you who are contributing monthly through YouTube \\n',\n",
       " '\\nIn this Python Programming Tutorial, we will be learning the difference between using “==” and the “is” keyword when doing comparisons. The difference between these is that “==” checks to see if values are equal, and the “is” keyword checks their identity, which means it’s going to check if the values are identical in terms of being the same object in memory. We’ll learn more in the video. Let’s get started…\\n\\n\\n\\n',\n",
       " '\\nIn this Python Programming Tutorial, we will be learning how to run external commands using the subprocess module from the standard library. We will learn how to run commands, capture the output, handle errors, and also how to pipe output into other commands. Let’s get started…\\n\\n\\n\\n',\n",
       " '\\nIn this Python Programming Tutorial, we will be learning how to set up a Python development environment in VSCode on Windows. VSCode is a very nice free editor for writing Python applications and many developers are now switching over to this editor. In this video, we will learn how to install VSCode, get the Python extension installed, how to change Python interpreters, create virtual environments, format/lint our code, how to use Git within VSCode, how to debug our programs, how unit testing works, and more. We have a lot to cover, so let’s go ahead and get started…\\nVSCode on MacOS – https://youtu.be/06I63_p-2A4\\nTimestamps for topics in this tutorial: Installation – 1:13 Python Extension – 5:48 Switching Interpreters – 10:04 Changing Color Themes – 12:35 VSCode Settings – 16:16 Set Default Python – 21:33 Using Virtual Environments – 25:10 IntelliSense – 29:45 Code Formatting – 32:13 Code Linting – 37:06 Code Runner Extension – 39:42 Git Integration – 47:44 Use Different Terminal – 51:07 Debugging – 58:45 Unit Testing – 1:03:25 Zen Mode – 1:09:55\\n\\n\\n\\n',\n",
       " '\\nIn this Python Programming Tutorial, we will be learning how to set up a Python development environment in VSCode on MacOS. VSCode is a very nice free editor for writing Python applications and many developers are now switching over to this editor. In this video, we will learn how to install VSCode, get the Python extension installed, how to change Python interpreters, create virtual environments, format/lint our code, how to use Git within VSCode, how to debug our programs, how unit testing works, and more. We have a lot to cover, so let’s go ahead and get started…\\nVSCode on Windows – https://youtu.be/-nh9rCzPJ20\\nTimestamps for topics in this tutorial: Installation – 1:11 Python Extension – 6:21 Switching Interpreters – 10:16 Changing Color Themes – 13:08 VSCode Settings – 17:12 Set Default Python – 22:24 Using Virtual Environments – 25:52 IntelliSense – 30:28 Code Formatting – 33:08 Code Linting – 38:01 Code Runner Extension – 40:45 Git Integration – 49:05 Debugging – 58:15 Unit Testing – 1:02:38 Zen Mode – 1:10:42 \\n\\n\\n\\n',\n",
       " '\\nIn this Python Programming Tutorial, we will be clarifying the issues with mutable default arguments. We discussed this in my last video titled “5 Common Python Mistakes and How to Fix Them”, but I received many comments from people who were still confused. So we will be doing a deeper dive to explain exactly what is going on here. Let’s get started…\\n\\n\\n\\n']"
      ]
     },
     "execution_count": 165,
     "metadata": {},
     "output_type": "execute_result"
    }
   ],
   "source": [
    "content=[]\n",
    "for i in soup.find_all('div', class_=\"entry-content\"):\n",
    "    content.append(i.text)\n",
    "content\n"
   ]
  },
  {
   "cell_type": "code",
   "execution_count": 169,
   "id": "f97feed6",
   "metadata": {},
   "outputs": [
    {
     "data": {
      "text/plain": [
       "[]"
      ]
     },
     "execution_count": 169,
     "metadata": {},
     "output_type": "execute_result"
    }
   ],
   "source": [
    "video=[]\n",
    "for i in soup.find_all('div', class_=\"ytp-cued-thumbnail-overlay-image\"):\n",
    "    video.append(i.href)\n",
    "video"
   ]
  },
  {
   "cell_type": "markdown",
   "id": "67629ff2",
   "metadata": {},
   "source": [
    "# Question 8"
   ]
  },
  {
   "cell_type": "code",
   "execution_count": 178,
   "id": "91691440",
   "metadata": {},
   "outputs": [
    {
     "data": {
      "text/plain": [
       "<Response [200]>"
      ]
     },
     "execution_count": 178,
     "metadata": {},
     "output_type": "execute_result"
    }
   ],
   "source": [
    "page=requests.get(\"https://www.nobroker.in/property/sale/bangalore/Indiranagar?searchParam=W3sibGF0IjoxMi45NzgzNjkyLCJsb24iOjc3LjY0MDgzNTYsInBsYWNlSWQiOiJDaElKa1FOM0dLUVdyanNSTmhCUUpyaEdEN1UiLCJwbGFjZU5hbWUiOiJJbmRpcmFuYWdhciJ9XQ==&radius=2.0&city=bangalore&locality=Indiranagar\")\n",
    "page"
   ]
  },
  {
   "cell_type": "code",
   "execution_count": 179,
   "id": "15d5b16b",
   "metadata": {},
   "outputs": [],
   "source": [
    "soup=BeautifulSoup(page.content)"
   ]
  },
  {
   "cell_type": "code",
   "execution_count": 180,
   "id": "508c518c",
   "metadata": {},
   "outputs": [
    {
     "data": {
      "text/plain": [
       "['3 BHK Flat  For Sale  In Beverly Apartments In Hal 2nd Stage, Indiranagar',\n",
       " '3 BHK Flat  For Sale  In Hal 2nd Stage,indiranagar  ',\n",
       " '4 BHK Flat  For Sale  In Golfridge In Indira Nagar',\n",
       " '2 BHK Apartment  For Sale  In Team Heritage Apartments In Indiranagar',\n",
       " '3 BHK Flat  For Sale  In Livintique Residence In Indiranagar',\n",
       " '3 BHK Apartment  For Sale  In Ashiana Gardens Apartments In Indiranagar',\n",
       " '3 BHK Flat  For Sale  In Vaishali Residency In Indiranagar',\n",
       " '4+ BHK Flat  For Sale  In Indiranagar',\n",
       " '2 BHK Flat  For Sale  In Sai Teja Solace In Kodihalli',\n",
       " '2 BHK Apartment  For Sale  In Sai Uday Mohan Apartments In Indiranagar',\n",
       " '4+ BHK Flat  For Sale  In Indira Nagar',\n",
       " '2 BHK Flat  For Sale  In Bharath Nivas In Kodihalli',\n",
       " '1 BHK In Independent House  For Sale  In Indira Nagar',\n",
       " '2 BHK Flat  For Sale  In Maple Apartments In Indiranagar',\n",
       " '3 BHK Apartment  For Sale  In Kristal Moonstone In Indiranagar',\n",
       " '2 BHK Apartment  For Sale  In Ashiana Gardens Apartments In Indiranagar',\n",
       " '3 BHK Flat  For Sale  In Apartment In Halasuru',\n",
       " '4 BHK Flat  For Sale  In Standalone Building  In Indiranagar, ',\n",
       " '3 BHK Apartment  For Sale  In Monarch Manor In Indira Nagar',\n",
       " '3 BHK Apartment  For Sale  In Sterling Sharada Nivas Apartments In Indira Nagar',\n",
       " '2 BHK Flat  For Sale  In Swathi Apartments In Indiranagar',\n",
       " '4 BHK In Independent House  For Sale  In Indira Nagar',\n",
       " '2 BHK Flat  For Sale  In Admiralty Manor In Indiranagar',\n",
       " '4+ BHK Flat  For Sale  In Indiranagar',\n",
       " '2 BHK Flat  For Sale  In Raghava Residency, Indiranagar In Indiranagar']"
      ]
     },
     "execution_count": 180,
     "metadata": {},
     "output_type": "execute_result"
    }
   ],
   "source": [
    "title=[]\n",
    "for i in soup.find_all('span', class_=\"overflow-hidden overflow-ellipsis whitespace-nowrap max-w-80pe po:max-w-full\"):\n",
    "    title.append(i.text)\n",
    "title\n",
    "\n"
   ]
  },
  {
   "cell_type": "code",
   "execution_count": 181,
   "id": "99a984f3",
   "metadata": {},
   "outputs": [
    {
     "data": {
      "text/plain": [
       "['Road next to Manyavar showroom',\n",
       " 'Standalone building, 16th F main, Hal 2nd stage indrananagr blore ',\n",
       " 'embassy golf link road',\n",
       " 'Team Heritage Apartments\\xa0 Team Heritage Apartments, 13th main,, 2nd Cross Rd, HAL 2nd Stage, Indiranagar, Bengaluru, Karnataka 560008, India',\n",
       " '100 Feet Rd near Barbeque Nation',\n",
       " 'Ashiana Gardens Apartments\\xa0 4, Sri Rama Temple Rd, Channakesahava Nagar, HAL 2nd Stage, Doopanahalli, Indiranagar, Bengaluru, Karnataka 560008, India',\n",
       " 'Vaishali Residency, HAL 2nd Stage, Indiranagar, Bengaluru, Karnataka 560008, India',\n",
       " 'Standalone Building, HAL 2nd Stage near New Horizon Public School',\n",
       " 'Sai Teja Solace, 16th ma, HAL 2nd Stage, Kodihalli, Bengaluru, Karnataka 560008, India',\n",
       " 'Sai Uday Mohan Apartments\\xa0 Sai Uday Mohan Apartments, 38, Appareddy Palya Rd, New Akash Nagar, Stage 3, Indiranagar, Bengaluru, Karnataka 560038, India',\n",
       " 'Standalone Building, CMH Rd , Near B P Bakery',\n",
       " '16th A main road, HAL 2nd stage',\n",
       " 'Independent House, . to Krishna Temple, Michael Palaya, Indiranagar,near Sapna Book House',\n",
       " 'Maple Apartments, Michael Palaya, 4th B Cross, 80 Feet Rd, Kalyan Nagar, H Colony, Indiranagar, Bengaluru, Karnataka 560038, India',\n",
       " 'Kristal Moonstone\\xa0 Kristal Moonstone, 1st Cross Rd, HAL 2nd Stage, Doopanahalli, Indiranagar, Bengaluru, Karnataka 560008, India',\n",
       " 'Ashiana Gardens Apartments\\xa0 4, Sri Rama Temple Rd, Channakesahava Nagar, HAL 2nd Stage, Doopanahalli, Indiranagar, Bengaluru, Karnataka 560008, India',\n",
       " 'OM Road Near Adarsha Theatre',\n",
       " ' Eshwara Layout, near Royal Enfield Service Center - Teknik Motors',\n",
       " 'Monarch Manor\\xa0 Monarch Manor, Eshwara Layout, Indiranagar, Bengaluru, Karnataka 560008, India',\n",
       " 'Sterling Sharada Nivas Apartments\\xa0 15th Cross, 6th Main Road, 2nd Phase, Indiranagar, Mahalakshmi Layout, Eshwara Layout, Indiranagar, Bengaluru, Karnataka 560038, India',\n",
       " '6th Cross Rd, Defence Colony, Indiranagar, Bengaluru, Karnataka 560038, India',\n",
       " 'Independent House, Binnamangala,  near to Chaithanya Express',\n",
       " 'Admiralty Manor, 6th Main Rd, Eshwara Layout, Indiranagar, Bengaluru, Karnataka 560008, India',\n",
       " 'Standalone Building, 2nd stage  near Sree cauvery school',\n",
       " '1st main raod,Near Swamy Vivekananda Metro Station, Old Madras Road, Bangalore, Karnataka, INDIA. ']"
      ]
     },
     "execution_count": 181,
     "metadata": {},
     "output_type": "execute_result"
    }
   ],
   "source": [
    "location=[]\n",
    "for i in soup.find_all('div', class_=\"mt-0.5p overflow-hidden overflow-ellipsis whitespace-nowrap max-w-70 text-gray-light leading-4 po:mb-0 po:max-w-95\"):\n",
    "    location.append(i.text)\n",
    "location\n",
    "\n"
   ]
  },
  {
   "cell_type": "code",
   "execution_count": 184,
   "id": "81a56557",
   "metadata": {},
   "outputs": [
    {
     "data": {
      "text/plain": [
       "['Sign up', 'Log in']"
      ]
     },
     "execution_count": 184,
     "metadata": {},
     "output_type": "execute_result"
    }
   ],
   "source": [
    "EMI=[]\n",
    "for i in soup.find_all('div', class_=\"text-14\"):\n",
    "    EMI.append(i.text)\n",
    "EMI\n",
    "\n"
   ]
  },
  {
   "cell_type": "code",
   "execution_count": 187,
   "id": "1e7d6fe0",
   "metadata": {},
   "outputs": [
    {
     "data": {
      "text/plain": [
       "[]"
      ]
     },
     "execution_count": 187,
     "metadata": {},
     "output_type": "execute_result"
    }
   ],
   "source": [
    "price=[]\n",
    "for i in soup.find_all('div', class_=\"flex flex-col w-33pe items-center tp:w-half po:w-full\"):\n",
    "    price.append(i.text)\n",
    "price\n"
   ]
  },
  {
   "cell_type": "markdown",
   "id": "b676950c",
   "metadata": {},
   "source": [
    "# Question 9\n"
   ]
  },
  {
   "cell_type": "code",
   "execution_count": 199,
   "id": "74b583bd",
   "metadata": {},
   "outputs": [
    {
     "data": {
      "text/plain": [
       "<Response [200]>"
      ]
     },
     "execution_count": 199,
     "metadata": {},
     "output_type": "execute_result"
    }
   ],
   "source": [
    "page=requests.get(\"https://www.dineout.co.in/delhi-restaurants/buffet-special\")\n",
    "page"
   ]
  },
  {
   "cell_type": "code",
   "execution_count": 200,
   "id": "f062c5a4",
   "metadata": {},
   "outputs": [],
   "source": [
    "soup=BeautifulSoup(page.content)"
   ]
  },
  {
   "cell_type": "code",
   "execution_count": 205,
   "id": "e6e77883",
   "metadata": {},
   "outputs": [
    {
     "data": {
      "text/plain": [
       "['Castle BarbequeConnaught Place, Central Delhi',\n",
       " 'Jungle Jamboree3CS Mall,Lajpat Nagar - 3, South Delhi',\n",
       " 'Castle BarbequePacific Mall,Tagore Garden, West Delhi',\n",
       " 'Cafe KnoshThe Leela Ambience Convention Hotel,Shahdara, East Delhi',\n",
       " 'The Barbeque CompanyGardens Galleria,Sector 38A, Noida',\n",
       " 'India GrillHilton Garden Inn,Saket, South Delhi',\n",
       " 'Delhi BarbequeTaurus Sarovar Portico,Mahipalpur, South Delhi',\n",
       " 'The Monarch - Bar Be Que VillageIndirapuram Habitat Centre,Indirapuram, Ghaziabad',\n",
       " 'World CafeVibe by The Lalit Traveller,Sector 35, Faridabad',\n",
       " 'Indian Grill RoomSuncity Business Tower,Golf Course Road, Gurgaon',\n",
       " 'Mad 4 Bar B QueSector 29, Faridabad',\n",
       " 'Barbeque 29NIT, Faridabad',\n",
       " 'GlasshouseDoubleTree By Hilton Gurugram Baani Square,Sector 50, Gurgaon']"
      ]
     },
     "execution_count": 205,
     "metadata": {},
     "output_type": "execute_result"
    }
   ],
   "source": [
    "restraunt_name=[]\n",
    "for i in soup.find_all('div', class_=\"restnt-info cursor\"):\n",
    "    restraunt_name.append(i.text)\n",
    "restraunt_name\n"
   ]
  },
  {
   "cell_type": "code",
   "execution_count": 208,
   "id": "692a3f24",
   "metadata": {},
   "outputs": [
    {
     "data": {
      "text/plain": [
       "['₹ 2,000 for 2 (approx) | North Indian, Chinese',\n",
       " '₹ 1,400 for 2 (approx) | Barbecue, North Indian, Asian, Italian',\n",
       " '₹ 2,000 for 2 (approx) | Chinese, North Indian, Mughlai',\n",
       " '₹ 3,000 for 2 (approx) | Multi-Cuisine, North Indian, Italian, Continental, Mediterranean',\n",
       " '₹ 1,700 for 2 (approx) | North Indian, Barbecue, Chinese, Mughlai',\n",
       " '₹ 2,400 for 2 (approx) | North Indian, Italian, Oriental ',\n",
       " '₹ 1,800 for 2 (approx) | Barbecue, North Indian',\n",
       " '₹ 1,600 for 2 (approx) | North Indian, Chinese, Fast Food',\n",
       " '₹ 900 for 2 (approx) | North Indian, Chinese, Continental',\n",
       " '₹ 2,200 for 2 (approx) | North Indian, Barbecue, Mughlai',\n",
       " '₹ 800 for 2 (approx) | North Indian, Mughlai',\n",
       " '₹ 1,500 for 2 (approx) | North Indian, Chinese, Barbecue',\n",
       " '₹ 3,400 for 2 (approx) | European, Indian Cuisine, Italian, Asian, Continental']"
      ]
     },
     "execution_count": 208,
     "metadata": {},
     "output_type": "execute_result"
    }
   ],
   "source": [
    "cusine=[]\n",
    "for i in soup.find_all('span',class_='double-line-ellipsis'):\n",
    "    cusine.append(i.text)\n",
    "cusine"
   ]
  },
  {
   "cell_type": "code",
   "execution_count": 209,
   "id": "c21f773b",
   "metadata": {},
   "outputs": [
    {
     "data": {
      "text/plain": [
       "['Connaught Place, Central Delhi',\n",
       " '3CS Mall,Lajpat Nagar - 3, South Delhi',\n",
       " 'Pacific Mall,Tagore Garden, West Delhi',\n",
       " 'The Leela Ambience Convention Hotel,Shahdara, East Delhi',\n",
       " 'Gardens Galleria,Sector 38A, Noida',\n",
       " 'Hilton Garden Inn,Saket, South Delhi',\n",
       " 'Taurus Sarovar Portico,Mahipalpur, South Delhi',\n",
       " 'Indirapuram Habitat Centre,Indirapuram, Ghaziabad',\n",
       " 'Vibe by The Lalit Traveller,Sector 35, Faridabad',\n",
       " 'Suncity Business Tower,Golf Course Road, Gurgaon',\n",
       " 'Sector 29, Faridabad',\n",
       " 'NIT, Faridabad',\n",
       " 'DoubleTree By Hilton Gurugram Baani Square,Sector 50, Gurgaon']"
      ]
     },
     "execution_count": 209,
     "metadata": {},
     "output_type": "execute_result"
    }
   ],
   "source": [
    "location=[]\n",
    "for i in soup.find_all('div',class_='restnt-loc ellipsis'):\n",
    "    location.append(i.text)\n",
    "location"
   ]
  },
  {
   "cell_type": "code",
   "execution_count": 210,
   "id": "7e37e10e",
   "metadata": {},
   "outputs": [
    {
     "data": {
      "text/plain": [
       "['3.5',\n",
       " '3.9',\n",
       " '3.9',\n",
       " '4.3',\n",
       " '4',\n",
       " '3.9',\n",
       " '3.7',\n",
       " '3.9',\n",
       " '4.2',\n",
       " '4.3',\n",
       " '3.8',\n",
       " '4.3',\n",
       " '4.1']"
      ]
     },
     "execution_count": 210,
     "metadata": {},
     "output_type": "execute_result"
    }
   ],
   "source": [
    "ratings=[]\n",
    "for i in soup.find_all('div',class_='restnt-rating rating-4'):\n",
    "    ratings.append(i.text)\n",
    "ratings"
   ]
  },
  {
   "cell_type": "code",
   "execution_count": 211,
   "id": "3ae98a01",
   "metadata": {},
   "outputs": [
    {
     "data": {
      "text/plain": [
       "['https://im1.dineout.co.in/images/uploads/restaurant/sharpen/8/k/b/p86792-16062953735fbe1f4d3fb7e.jpg?tr=tr:n-medium',\n",
       " 'https://im1.dineout.co.in/images/uploads/restaurant/sharpen/5/a/k/p59633-16046474755fa4fa33c0e92.jpg?tr=tr:n-medium',\n",
       " 'https://im1.dineout.co.in/images/uploads/restaurant/sharpen/3/j/o/p38113-15959192065f1fcb666130c.jpg?tr=tr:n-medium',\n",
       " 'https://im1.dineout.co.in/images/uploads/restaurant/sharpen/4/j/v/p406-163401663361651d79326d0.jpg?tr=tr:n-medium',\n",
       " 'https://im1.dineout.co.in/images/uploads/restaurant/sharpen/7/q/d/p79307-16051787075fad15532bd7c.jpg?tr=tr:n-medium',\n",
       " 'https://im1.dineout.co.in/images/uploads/restaurant/sharpen/2/v/t/p2687-1482477169585cce712b90f.jpg?tr=tr:n-medium',\n",
       " 'https://im1.dineout.co.in/images/uploads/restaurant/sharpen/5/v/f/p52501-16006856545f68865616659.jpg?tr=tr:n-medium',\n",
       " 'https://im1.dineout.co.in/images/uploads/restaurant/sharpen/3/n/o/p34822-15599107305cfa594a13c24.jpg?tr=tr:n-medium',\n",
       " 'https://im1.dineout.co.in/images/uploads/restaurant/sharpen/1/p/y/p12366-1466935020576fa6ecdc359.jpg?tr=tr:n-medium',\n",
       " 'https://im1.dineout.co.in/images/uploads/restaurant/sharpen/5/y/y/p549-15143767525a438e30b3e19.jpg?tr=tr:n-medium',\n",
       " 'https://im1.dineout.co.in/images/uploads/restaurant/sharpen/4/j/e/p43488-15295778165b2b8158ceeef.jpg?tr=tr:n-medium',\n",
       " 'https://im1.dineout.co.in/images/uploads/restaurant/sharpen/5/w/r/p58842-15624171585d209806d9143.jpg?tr=tr:n-medium',\n",
       " 'https://im1.dineout.co.in/images/uploads/restaurant/sharpen/9/m/f/p9875-16057921085fb6716cc44f8.jpg?tr=tr:n-medium']"
      ]
     },
     "execution_count": 211,
     "metadata": {},
     "output_type": "execute_result"
    }
   ],
   "source": [
    "images=[]\n",
    "for i in soup.find_all('img',class_='no-img'):\n",
    "    images.append(i['data-src'])\n",
    "images"
   ]
  },
  {
   "cell_type": "markdown",
   "id": "eb617a80",
   "metadata": {},
   "source": [
    "# Question 10"
   ]
  },
  {
   "cell_type": "code",
   "execution_count": 218,
   "id": "2a014097",
   "metadata": {},
   "outputs": [
    {
     "data": {
      "text/plain": [
       "<Response [200]>"
      ]
     },
     "execution_count": 218,
     "metadata": {},
     "output_type": "execute_result"
    }
   ],
   "source": [
    "page =requests.get(\"https://www.bewakoof.com/women-tshirts?ga_q=tshirts\")\n",
    "page"
   ]
  },
  {
   "cell_type": "code",
   "execution_count": 219,
   "id": "edf17fba",
   "metadata": {},
   "outputs": [],
   "source": [
    "soup=BeautifulSoup(page.content)"
   ]
  },
  {
   "cell_type": "code",
   "execution_count": 228,
   "id": "43758fa7",
   "metadata": {},
   "outputs": [
    {
     "data": {
      "text/plain": [
       "['Mickey Pop Block Half Sleeve Printed T-Shirt (DL) Navy Blue₹ 249799FEW LEFT₹229For TriBe Members ',\n",
       " 'Climbing pocket panda Half Sleeve T-Shirt₹ 299999₹279For TriBe Members ',\n",
       " 'Diagonal Friends Half Sleeves T-Shirt (FRL)₹ 299599FEW LEFT₹279For TriBe Members ',\n",
       " 'Chilli Pepper Rib Half Sleeves T-Shirt₹ 249699FEW LEFT₹229For TriBe Members ',\n",
       " 'Bunny Rabbit Pocket Half Sleeve T-Shirt₹ 299599FEW LEFT₹279For TriBe Members ',\n",
       " 'Life Is Good Half Sleeve T-Shirt₹ 299699FEW LEFT₹279For TriBe Members ',\n",
       " 'Flower Kind Half Sleeve T-Shirt₹ 299699FEW LEFT₹279For TriBe Members ',\n",
       " 'Life Is Good Half Sleeve T-Shirt₹ 299699FEW LEFT₹279For TriBe Members ',\n",
       " \"Women's Indigo Printed White T-Shirt₹ 299799FEW LEFT₹279For TriBe Members \",\n",
       " 'Smile 2.0 Half Sleeves T-Shirt₹ 299599FEW LEFT₹279For TriBe Members ']"
      ]
     },
     "execution_count": 228,
     "metadata": {},
     "output_type": "execute_result"
    }
   ],
   "source": [
    "names=[]\n",
    "for i in soup.find_all('div', class_=\"productCardDetail\",limit=10):\n",
    "    names.append(i.text)\n",
    "names"
   ]
  },
  {
   "cell_type": "code",
   "execution_count": 229,
   "id": "cc7f5b6d",
   "metadata": {},
   "outputs": [
    {
     "data": {
      "text/plain": [
       "['₹ 249799FEW LEFT₹229For TriBe Members ',\n",
       " '₹ 299999₹279For TriBe Members ',\n",
       " '₹ 299599FEW LEFT₹279For TriBe Members ',\n",
       " '₹ 249699FEW LEFT₹229For TriBe Members ',\n",
       " '₹ 299599FEW LEFT₹279For TriBe Members ',\n",
       " '₹ 299699FEW LEFT₹279For TriBe Members ',\n",
       " '₹ 299699FEW LEFT₹279For TriBe Members ',\n",
       " '₹ 299699FEW LEFT₹279For TriBe Members ',\n",
       " '₹ 299799FEW LEFT₹279For TriBe Members ',\n",
       " '₹ 299599FEW LEFT₹279For TriBe Members ']"
      ]
     },
     "execution_count": 229,
     "metadata": {},
     "output_type": "execute_result"
    }
   ],
   "source": [
    "prices=[]\n",
    "for i in soup.find_all('div', class_=\"productPriceBox clearfix\",limit=10):\n",
    "    prices.append(i.text)\n",
    "prices"
   ]
  },
  {
   "cell_type": "code",
   "execution_count": 231,
   "id": "30cab658",
   "metadata": {},
   "outputs": [
    {
     "name": "stdout",
     "output_type": "stream",
     "text": [
      "https://images.bewakoof.com/web/bewakoof-primary-logo-white-bg-2x-1635745564.png\n",
      "https://images.bewakoof.com/web/search-3x-1635763109.png\n",
      "https://images.bewakoof.com/web/bag-filled-1635763396.png\n",
      "https://images.bewakoof.com/t320/mickey-pop-block-half-sleeve-printed-t-shirt-dl-navy-blue-women-s-half-sleeve-printed-t-shirt-300345-1617704223.jpg\n",
      "https://images.bewakoof.com/t320/climbing-pocket-panda-half-sleeve-t-shirts-women-s-half-sleeve-printed-t-shirt-305395-1607918545.jpg\n",
      "https://images.bewakoof.com/t320/diagonal-friends-half-sleeves-t-shirt-frl-women-s-half-sleeve-printed-t-shirt-310681-1609214624.jpg\n",
      "https://images.bewakoof.com/t320/chilli-pepper-rib-half-sleeves-t-shirt-women-plain-rib-half-sleeve-t-shirt-316513-1623215551.jpg\n",
      "https://images.bewakoof.com/t320/bunny-rabbit-pocket-half-sleeve-t-shirts-women-s-half-sleeve-printed-t-shirt-305405-1608114529.jpg\n",
      "https://images.bewakoof.com/t320/life-is-good-half-sleeve-t-shirts-women-s-half-sleeve-printed-t-shirt-313953-1610098757.jpg\n",
      "https://images.bewakoof.com/t320/flower-kind-half-sleeve-t-shirts-women-s-half-sleeve-printed-t-shirt-313960-1610019394.jpg\n"
     ]
    },
    {
     "data": {
      "text/plain": [
       "[]"
      ]
     },
     "execution_count": 231,
     "metadata": {},
     "output_type": "execute_result"
    }
   ],
   "source": [
    "images=[]\n",
    "for i in soup.find_all('img',limit=10):\n",
    "   print(i['src'])\n",
    "images"
   ]
  },
  {
   "cell_type": "markdown",
   "id": "fb84b504",
   "metadata": {},
   "source": [
    "# Question 4"
   ]
  },
  {
   "cell_type": "code",
   "execution_count": 232,
   "id": "3aa3e65c",
   "metadata": {},
   "outputs": [
    {
     "data": {
      "text/plain": [
       "<Response [200]>"
      ]
     },
     "execution_count": 232,
     "metadata": {},
     "output_type": "execute_result"
    }
   ],
   "source": [
    "page =requests.get(\"https://meesho.com/bags-ladies/pl/p7vbp\")\n",
    "page"
   ]
  },
  {
   "cell_type": "code",
   "execution_count": 236,
   "id": "8d2bd88d",
   "metadata": {},
   "outputs": [
    {
     "data": {
      "text/plain": [
       "[]"
      ]
     },
     "execution_count": 236,
     "metadata": {},
     "output_type": "execute_result"
    }
   ],
   "source": [
    "names=[]\n",
    "for i in soup.find_all('p',class_=\"Text__StyledText-sc-oo0kvp-0 bWSOET NewProductCard__ProductTitle_Desktop-sc-j0e7tu-4 cQhePS NewProductCard__ProductTitle_Desktop-sc-j0e7tu-4 cQhePS\" ,limit=10):\n",
    "    names.append(names[i].get_text())\n",
    "names"
   ]
  },
  {
   "cell_type": "code",
   "execution_count": 240,
   "id": "226083ae",
   "metadata": {},
   "outputs": [
    {
     "data": {
      "text/plain": [
       "[]"
      ]
     },
     "execution_count": 240,
     "metadata": {},
     "output_type": "execute_result"
    }
   ],
   "source": [
    "price= soup.find_all('h5', class_=\"Text__StyledText-sc-oo0kvp-0 hiHdyy\" ,limit=10)\n",
    "    \n",
    "price"
   ]
  },
  {
   "cell_type": "code",
   "execution_count": 241,
   "id": "cae098ed",
   "metadata": {},
   "outputs": [
    {
     "data": {
      "text/plain": [
       "[]"
      ]
     },
     "execution_count": 241,
     "metadata": {},
     "output_type": "execute_result"
    }
   ],
   "source": [
    "discounts=[]\n",
    "for i in soup.find_all('span',class_=\"Text__StyledText-sc-oo0kvp-0 lnonyH\",limit=10):\n",
    "    discounts.append(names[i].get_text())\n",
    "discounts"
   ]
  },
  {
   "cell_type": "code",
   "execution_count": null,
   "id": "ca90a311",
   "metadata": {},
   "outputs": [],
   "source": []
  }
 ],
 "metadata": {
  "kernelspec": {
   "display_name": "Python 3",
   "language": "python",
   "name": "python3"
  },
  "language_info": {
   "codemirror_mode": {
    "name": "ipython",
    "version": 3
   },
   "file_extension": ".py",
   "mimetype": "text/x-python",
   "name": "python",
   "nbconvert_exporter": "python",
   "pygments_lexer": "ipython3",
   "version": "3.8.8"
  }
 },
 "nbformat": 4,
 "nbformat_minor": 5
}
